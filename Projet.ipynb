{
 "cells": [
  {
   "cell_type": "markdown",
   "id": "bdfe3ca1-8dcd-4d67-a9f0-24d1ae74f8cf",
   "metadata": {},
   "source": [
    "# Projet numérique de science des données 2021\n",
    "## LOUISOT Pierre \n",
    "## POLLET Florent"
   ]
  },
  {
   "cell_type": "markdown",
   "id": "cd306b34-3910-4c94-8648-550e23d1d6b6",
   "metadata": {},
   "source": [
    "## Introduction au projet\n",
    "\n",
    "Il s'agit dans ce projet d'utiliser des données cartographiques décrivant des carrées de 30m x 30m pour construire un modèle prédictif de l'espèce d'arbre présente sur un tel carré.\n",
    "\n",
    "Le but final est d'appliquer ce modèle pour faire des prédictions pour des données pour lesquelles vous ne disposez pas d'une étiquette.\n",
    "\n",
    "__Consignes :__ \n",
    "* Vous devez rendre, par binôme :\n",
    "    * un notebook jupyter\n",
    "    * un fichier de prédictions (voir plus bas pour le format)\n",
    "* __Renseignez vos noms/prénoms__ dans le titre du notebook\n",
    "* Vous avez jusqu'au __1er juillet midi heure de Paris__\n",
    "* Déposez vos fichiers [sur Campus](https://campus.mines-paristech.fr/course/view.php?id=404) dans la section dédiée (un seul rendu par binôme est nécessaire)\n",
    "\n",
    "\n",
    "__Déroulé :__\n",
    "* Les séances du lundi 14/06 (15h30-17h) et jeudi 24/06 (15h30-17h) sont dédiées au projet numérique. Faites-en bon usage.\n",
    "* Certaines sections font appel à des notions qui n'auront pas encore été vues le 14/06 ; c'est indiqué le cas échéant."
   ]
  },
  {
   "cell_type": "markdown",
   "id": "bdee30fc-75fc-4e62-8070-6a2a8fff2f27",
   "metadata": {},
   "source": [
    "## Données"
   ]
  },
  {
   "cell_type": "markdown",
   "id": "7cd5ed63-af4d-4e79-bf38-f28dce55717e",
   "metadata": {},
   "source": [
    "### Données publiques et privées\n",
    "\n",
    "Le dossier `data/` contient deux jeux de données :\n",
    "* `data/foret_public.tsv` contient les données étiquetées, à partir desquelles construire votre modèle\n",
    "* `data/foret_prive.tsv` contient les données non-étiquetées, pour lesquelles faire vos prédictions.\n",
    "\n",
    "Chaque ligne dans les données correspond à un carré de 30 m x 30m, décrit par les variables suivantes :\n",
    "* `altitude` : altitude en mètres\n",
    "* `exposition` : azimut en degrés \n",
    "* `pente` : pente en degrés\n",
    "* `distance_horizontale_hydro` : distance horizontale au point d'eau le plus proche (en mètres)\n",
    "* `distance_verticale_hydro` : distance verticale au point d'eau le plus proche (en mètres)\n",
    "* `distance_horizontale_route` : distance horizontale à la route la plus proche (en mètres)\n",
    "* `ombrage_0900` : index d'ombrages à 9h du matin, au solstice, sur une échelle de 0 à 255\n",
    "* `ombrage_1200` : index d'ombrages à midi, au solstice, sur une échelle de 0 à 255\n",
    "* `ombrage_1500` : index d'ombrages à 15h, au solstice, sur une échelle de 0 à 255\n",
    "* `distance_horizontale_depart_feu` : distance horizontale au départ de feu de forêt le plus proche (en mètres)\n",
    "* `espece` : étiquette : espèce d'arbre présente (0 = pin tordu ; 1 = peuplier)|"
   ]
  },
  {
   "cell_type": "markdown",
   "id": "fda94d36-60a1-415f-adfb-a3366bc4b292",
   "metadata": {},
   "source": [
    "### Chargement des données étiquetées"
   ]
  },
  {
   "cell_type": "code",
   "execution_count": 289,
   "id": "d75dc6be-91ac-4a26-b40c-a74523e2adf8",
   "metadata": {},
   "outputs": [
    {
     "name": "stdout",
     "output_type": "stream",
     "text": [
      "Populating the interactive namespace from numpy and matplotlib\n"
     ]
    },
    {
     "name": "stderr",
     "output_type": "stream",
     "text": [
      "C:\\Users\\Florent\\.conda\\envs\\sdd2021\\lib\\site-packages\\IPython\\core\\magics\\pylab.py:159: UserWarning: pylab import has clobbered these variables: ['grid']\n",
      "`%matplotlib` prevents importing * from pylab and numpy\n",
      "  warn(\"pylab import has clobbered these variables: %s\"  % clobbered +\n"
     ]
    }
   ],
   "source": [
    "%pylab inline"
   ]
  },
  {
   "cell_type": "code",
   "execution_count": 290,
   "id": "b53d281b-c6a6-42b4-949a-4c732f626837",
   "metadata": {},
   "outputs": [],
   "source": [
    "import pandas as pd\n",
    "from sklearn import preprocessing"
   ]
  },
  {
   "cell_type": "code",
   "execution_count": 291,
   "id": "0c1ef8d0-c3e8-4f31-9bf6-bba291ddfc52",
   "metadata": {},
   "outputs": [],
   "source": [
    "df_public = pd.read_csv('data/foret_public.tsv', delimiter='\\t')"
   ]
  },
  {
   "cell_type": "code",
   "execution_count": 292,
   "id": "8d7fbf16-77e0-47a2-8253-004fea627b2b",
   "metadata": {},
   "outputs": [
    {
     "data": {
      "text/html": [
       "<div>\n",
       "<style scoped>\n",
       "    .dataframe tbody tr th:only-of-type {\n",
       "        vertical-align: middle;\n",
       "    }\n",
       "\n",
       "    .dataframe tbody tr th {\n",
       "        vertical-align: top;\n",
       "    }\n",
       "\n",
       "    .dataframe thead th {\n",
       "        text-align: right;\n",
       "    }\n",
       "</style>\n",
       "<table border=\"1\" class=\"dataframe\">\n",
       "  <thead>\n",
       "    <tr style=\"text-align: right;\">\n",
       "      <th></th>\n",
       "      <th>altitude</th>\n",
       "      <th>exposition</th>\n",
       "      <th>pente</th>\n",
       "      <th>distance_horizontale_hydro</th>\n",
       "      <th>distance_verticale_hydro</th>\n",
       "      <th>distance_horizontale_route</th>\n",
       "      <th>ombrage_0900</th>\n",
       "      <th>ombrage_1200</th>\n",
       "      <th>ombrage_1500</th>\n",
       "      <th>distance_horizontale_depart_feu</th>\n",
       "      <th>espece</th>\n",
       "    </tr>\n",
       "  </thead>\n",
       "  <tbody>\n",
       "    <tr>\n",
       "      <th>0</th>\n",
       "      <td>2804</td>\n",
       "      <td>139</td>\n",
       "      <td>9</td>\n",
       "      <td>268</td>\n",
       "      <td>65</td>\n",
       "      <td>3180</td>\n",
       "      <td>234</td>\n",
       "      <td>238</td>\n",
       "      <td>135</td>\n",
       "      <td>6121</td>\n",
       "      <td>0</td>\n",
       "    </tr>\n",
       "    <tr>\n",
       "      <th>1</th>\n",
       "      <td>2785</td>\n",
       "      <td>155</td>\n",
       "      <td>18</td>\n",
       "      <td>242</td>\n",
       "      <td>118</td>\n",
       "      <td>3090</td>\n",
       "      <td>238</td>\n",
       "      <td>238</td>\n",
       "      <td>122</td>\n",
       "      <td>6211</td>\n",
       "      <td>0</td>\n",
       "    </tr>\n",
       "    <tr>\n",
       "      <th>2</th>\n",
       "      <td>2579</td>\n",
       "      <td>132</td>\n",
       "      <td>6</td>\n",
       "      <td>300</td>\n",
       "      <td>-15</td>\n",
       "      <td>67</td>\n",
       "      <td>230</td>\n",
       "      <td>237</td>\n",
       "      <td>140</td>\n",
       "      <td>6031</td>\n",
       "      <td>0</td>\n",
       "    </tr>\n",
       "    <tr>\n",
       "      <th>3</th>\n",
       "      <td>2886</td>\n",
       "      <td>151</td>\n",
       "      <td>11</td>\n",
       "      <td>371</td>\n",
       "      <td>26</td>\n",
       "      <td>5253</td>\n",
       "      <td>234</td>\n",
       "      <td>240</td>\n",
       "      <td>136</td>\n",
       "      <td>4051</td>\n",
       "      <td>0</td>\n",
       "    </tr>\n",
       "    <tr>\n",
       "      <th>4</th>\n",
       "      <td>2742</td>\n",
       "      <td>134</td>\n",
       "      <td>22</td>\n",
       "      <td>150</td>\n",
       "      <td>69</td>\n",
       "      <td>3215</td>\n",
       "      <td>248</td>\n",
       "      <td>224</td>\n",
       "      <td>92</td>\n",
       "      <td>6091</td>\n",
       "      <td>0</td>\n",
       "    </tr>\n",
       "  </tbody>\n",
       "</table>\n",
       "</div>"
      ],
      "text/plain": [
       "   altitude  exposition  pente  distance_horizontale_hydro  \\\n",
       "0      2804         139      9                         268   \n",
       "1      2785         155     18                         242   \n",
       "2      2579         132      6                         300   \n",
       "3      2886         151     11                         371   \n",
       "4      2742         134     22                         150   \n",
       "\n",
       "   distance_verticale_hydro  distance_horizontale_route  ombrage_0900  \\\n",
       "0                        65                        3180           234   \n",
       "1                       118                        3090           238   \n",
       "2                       -15                          67           230   \n",
       "3                        26                        5253           234   \n",
       "4                        69                        3215           248   \n",
       "\n",
       "   ombrage_1200  ombrage_1500  distance_horizontale_depart_feu  espece  \n",
       "0           238           135                             6121       0  \n",
       "1           238           122                             6211       0  \n",
       "2           237           140                             6031       0  \n",
       "3           240           136                             4051       0  \n",
       "4           224            92                             6091       0  "
      ]
     },
     "execution_count": 292,
     "metadata": {},
     "output_type": "execute_result"
    }
   ],
   "source": [
    "df_public.head()"
   ]
  },
  {
   "cell_type": "markdown",
   "id": "0e2e1234-df6f-45ed-9183-8855e9aaf4f1",
   "metadata": {},
   "source": [
    "### Extraction de la matrice de design et des étiquettes "
   ]
  },
  {
   "cell_type": "code",
   "execution_count": 293,
   "id": "8a6eb7b7-9648-4dd2-924b-0a6686e225ba",
   "metadata": {},
   "outputs": [],
   "source": [
    "X_public = np.array(df_public.drop(columns=[\"espece\"]))\n",
    "y_public = np.array(df_public[\"espece\"])"
   ]
  },
  {
   "cell_type": "code",
   "execution_count": 294,
   "id": "931a0b2a",
   "metadata": {},
   "outputs": [
    {
     "data": {
      "text/html": [
       "<div>\n",
       "<style scoped>\n",
       "    .dataframe tbody tr th:only-of-type {\n",
       "        vertical-align: middle;\n",
       "    }\n",
       "\n",
       "    .dataframe tbody tr th {\n",
       "        vertical-align: top;\n",
       "    }\n",
       "\n",
       "    .dataframe thead th {\n",
       "        text-align: right;\n",
       "    }\n",
       "</style>\n",
       "<table border=\"1\" class=\"dataframe\">\n",
       "  <thead>\n",
       "    <tr style=\"text-align: right;\">\n",
       "      <th></th>\n",
       "      <th>altitude</th>\n",
       "      <th>exposition</th>\n",
       "      <th>pente</th>\n",
       "      <th>distance_horizontale_hydro</th>\n",
       "      <th>distance_verticale_hydro</th>\n",
       "      <th>distance_horizontale_route</th>\n",
       "      <th>ombrage_0900</th>\n",
       "      <th>ombrage_1200</th>\n",
       "      <th>ombrage_1500</th>\n",
       "      <th>distance_horizontale_depart_feu</th>\n",
       "      <th>espece</th>\n",
       "    </tr>\n",
       "  </thead>\n",
       "  <tbody>\n",
       "    <tr>\n",
       "      <th>0</th>\n",
       "      <td>2804</td>\n",
       "      <td>139</td>\n",
       "      <td>9</td>\n",
       "      <td>268</td>\n",
       "      <td>65</td>\n",
       "      <td>3180</td>\n",
       "      <td>234</td>\n",
       "      <td>238</td>\n",
       "      <td>135</td>\n",
       "      <td>6121</td>\n",
       "      <td>0</td>\n",
       "    </tr>\n",
       "    <tr>\n",
       "      <th>1</th>\n",
       "      <td>2785</td>\n",
       "      <td>155</td>\n",
       "      <td>18</td>\n",
       "      <td>242</td>\n",
       "      <td>118</td>\n",
       "      <td>3090</td>\n",
       "      <td>238</td>\n",
       "      <td>238</td>\n",
       "      <td>122</td>\n",
       "      <td>6211</td>\n",
       "      <td>0</td>\n",
       "    </tr>\n",
       "    <tr>\n",
       "      <th>2</th>\n",
       "      <td>2579</td>\n",
       "      <td>132</td>\n",
       "      <td>6</td>\n",
       "      <td>300</td>\n",
       "      <td>-15</td>\n",
       "      <td>67</td>\n",
       "      <td>230</td>\n",
       "      <td>237</td>\n",
       "      <td>140</td>\n",
       "      <td>6031</td>\n",
       "      <td>0</td>\n",
       "    </tr>\n",
       "    <tr>\n",
       "      <th>3</th>\n",
       "      <td>2886</td>\n",
       "      <td>151</td>\n",
       "      <td>11</td>\n",
       "      <td>371</td>\n",
       "      <td>26</td>\n",
       "      <td>5253</td>\n",
       "      <td>234</td>\n",
       "      <td>240</td>\n",
       "      <td>136</td>\n",
       "      <td>4051</td>\n",
       "      <td>0</td>\n",
       "    </tr>\n",
       "    <tr>\n",
       "      <th>4</th>\n",
       "      <td>2742</td>\n",
       "      <td>134</td>\n",
       "      <td>22</td>\n",
       "      <td>150</td>\n",
       "      <td>69</td>\n",
       "      <td>3215</td>\n",
       "      <td>248</td>\n",
       "      <td>224</td>\n",
       "      <td>92</td>\n",
       "      <td>6091</td>\n",
       "      <td>0</td>\n",
       "    </tr>\n",
       "    <tr>\n",
       "      <th>...</th>\n",
       "      <td>...</td>\n",
       "      <td>...</td>\n",
       "      <td>...</td>\n",
       "      <td>...</td>\n",
       "      <td>...</td>\n",
       "      <td>...</td>\n",
       "      <td>...</td>\n",
       "      <td>...</td>\n",
       "      <td>...</td>\n",
       "      <td>...</td>\n",
       "      <td>...</td>\n",
       "    </tr>\n",
       "    <tr>\n",
       "      <th>95</th>\n",
       "      <td>3077</td>\n",
       "      <td>129</td>\n",
       "      <td>3</td>\n",
       "      <td>618</td>\n",
       "      <td>43</td>\n",
       "      <td>6296</td>\n",
       "      <td>225</td>\n",
       "      <td>237</td>\n",
       "      <td>147</td>\n",
       "      <td>3261</td>\n",
       "      <td>0</td>\n",
       "    </tr>\n",
       "    <tr>\n",
       "      <th>96</th>\n",
       "      <td>2755</td>\n",
       "      <td>320</td>\n",
       "      <td>4</td>\n",
       "      <td>30</td>\n",
       "      <td>-1</td>\n",
       "      <td>2890</td>\n",
       "      <td>209</td>\n",
       "      <td>236</td>\n",
       "      <td>165</td>\n",
       "      <td>5468</td>\n",
       "      <td>0</td>\n",
       "    </tr>\n",
       "    <tr>\n",
       "      <th>97</th>\n",
       "      <td>2880</td>\n",
       "      <td>86</td>\n",
       "      <td>12</td>\n",
       "      <td>30</td>\n",
       "      <td>3</td>\n",
       "      <td>4369</td>\n",
       "      <td>237</td>\n",
       "      <td>221</td>\n",
       "      <td>113</td>\n",
       "      <td>5906</td>\n",
       "      <td>0</td>\n",
       "    </tr>\n",
       "    <tr>\n",
       "      <th>98</th>\n",
       "      <td>2827</td>\n",
       "      <td>332</td>\n",
       "      <td>15</td>\n",
       "      <td>42</td>\n",
       "      <td>9</td>\n",
       "      <td>3599</td>\n",
       "      <td>185</td>\n",
       "      <td>221</td>\n",
       "      <td>174</td>\n",
       "      <td>6067</td>\n",
       "      <td>0</td>\n",
       "    </tr>\n",
       "    <tr>\n",
       "      <th>99</th>\n",
       "      <td>2518</td>\n",
       "      <td>107</td>\n",
       "      <td>5</td>\n",
       "      <td>360</td>\n",
       "      <td>39</td>\n",
       "      <td>553</td>\n",
       "      <td>229</td>\n",
       "      <td>234</td>\n",
       "      <td>139</td>\n",
       "      <td>3522</td>\n",
       "      <td>0</td>\n",
       "    </tr>\n",
       "  </tbody>\n",
       "</table>\n",
       "<p>100 rows × 11 columns</p>\n",
       "</div>"
      ],
      "text/plain": [
       "    altitude  exposition  pente  distance_horizontale_hydro  \\\n",
       "0       2804         139      9                         268   \n",
       "1       2785         155     18                         242   \n",
       "2       2579         132      6                         300   \n",
       "3       2886         151     11                         371   \n",
       "4       2742         134     22                         150   \n",
       "..       ...         ...    ...                         ...   \n",
       "95      3077         129      3                         618   \n",
       "96      2755         320      4                          30   \n",
       "97      2880          86     12                          30   \n",
       "98      2827         332     15                          42   \n",
       "99      2518         107      5                         360   \n",
       "\n",
       "    distance_verticale_hydro  distance_horizontale_route  ombrage_0900  \\\n",
       "0                         65                        3180           234   \n",
       "1                        118                        3090           238   \n",
       "2                        -15                          67           230   \n",
       "3                         26                        5253           234   \n",
       "4                         69                        3215           248   \n",
       "..                       ...                         ...           ...   \n",
       "95                        43                        6296           225   \n",
       "96                        -1                        2890           209   \n",
       "97                         3                        4369           237   \n",
       "98                         9                        3599           185   \n",
       "99                        39                         553           229   \n",
       "\n",
       "    ombrage_1200  ombrage_1500  distance_horizontale_depart_feu  espece  \n",
       "0            238           135                             6121       0  \n",
       "1            238           122                             6211       0  \n",
       "2            237           140                             6031       0  \n",
       "3            240           136                             4051       0  \n",
       "4            224            92                             6091       0  \n",
       "..           ...           ...                              ...     ...  \n",
       "95           237           147                             3261       0  \n",
       "96           236           165                             5468       0  \n",
       "97           221           113                             5906       0  \n",
       "98           221           174                             6067       0  \n",
       "99           234           139                             3522       0  \n",
       "\n",
       "[100 rows x 11 columns]"
      ]
     },
     "execution_count": 294,
     "metadata": {},
     "output_type": "execute_result"
    }
   ],
   "source": [
    "df_public.head(100)"
   ]
  },
  {
   "cell_type": "markdown",
   "id": "2097f148-8f09-4447-b6f4-a53fac8e4597",
   "metadata": {},
   "source": [
    "### Visualisation des variables\n",
    "\n",
    "#### Question 1\n",
    "Visualisez chacune des variables de `X_public` sous la forme de deux histogrammes superposés, l'un correspondant aux observations de la classe positive, l'autre correspondant aux observations de la classe négative.\n",
    "\n",
    "__Conseils :__\n",
    "* utilisez `pos_indices = np.where(y_public==1)[0]` pour déterminer les indices des lignes de `y_public` (et donc dans `X_public`) dont l'étiquette vaut 0.\n",
    "* utilisez l'argument `alpha` de `plt.hist` pour rendre vos histogrammes transparents."
   ]
  },
  {
   "cell_type": "code",
   "execution_count": 295,
   "id": "ddc0b08a-e621-49b7-bbc5-566ab210d992",
   "metadata": {},
   "outputs": [],
   "source": [
    "def plot_hist(X_public, title=\"\"):  \n",
    "    \"\"\"\n",
    "        Retourne, pour chacune des variables de df_public, deux histogrammes superposés, l'un pour la classe positive et l'autre pour la classe négative\n",
    "    \"\"\"\n",
    "    \n",
    "    features = list(df_public.drop(columns=['espece']).columns) # Noms des colonnes\n",
    "    \n",
    "    X_public_pos = X_public[np.where(y_public==1)[0]] # Lignes correspondant à des peupliers\n",
    "    X_public_neg = X_public[np.where(y_public==0)[0]] # Lignes correspondant à des pins tordus\n",
    "    \n",
    "    features_idx = [features.index(feat_name) for feat_name in features] # indices des colonnes\n",
    "\n",
    "    fig = plt.figure(figsize=(8, 6))\n",
    "\n",
    "    # Histograms for continuous features\n",
    "    for plot_idx, feat_idx in enumerate(features_idx):\n",
    "        \n",
    "        # create a subplot in the (plot_idx+1) position of a 2x2 grid\n",
    "        ax = fig.add_subplot(5, 2, (plot_idx+1))\n",
    "        # plot the histograms of feat_idx\n",
    "        h1 = ax.hist(X_public_pos[feat_idx], bins=30, edgecolor='none', alpha=0.2, label=\"peupliers\")\n",
    "        h2 = ax.hist(X_public_neg[feat_idx], bins=30, edgecolor='none', alpha=0.2, label=\"pins tordus\")\n",
    "        # use the name of the feature as a title for each histogram\n",
    "        ax.set_title(features[feat_idx])\n",
    "        if plot_idx == 0:\n",
    "            fig.legend(loc='upper right', bbox_to_anchor=(0, 1))\n",
    "    fig.tight_layout(pad=1.0)\n",
    "    fig.suptitle(\"Histogrammes pour chaque variable des classes positive et négative \" + title, y=0)"
   ]
  },
  {
   "cell_type": "code",
   "execution_count": 296,
   "id": "4c50b77f",
   "metadata": {},
   "outputs": [
    {
     "data": {
      "image/png": "[encoded data removed]",
      "text/plain": [
       "<Figure size 576x432 with 10 Axes>"
      ]
     },
     "metadata": {
      "needs_background": "light"
     },
     "output_type": "display_data"
    }
   ],
   "source": [
    "plot_hist(X_public)"
   ]
  },
  {
   "cell_type": "markdown",
   "id": "da1aa716-c22d-4710-8f03-1ee2d60b8aba",
   "metadata": {},
   "source": [
    "#### Question 2\n",
    "Pensez-vous qu'il va être aisé de distinguer les deux classes ?"
   ]
  },
  {
   "cell_type": "markdown",
   "id": "stopped-white",
   "metadata": {},
   "source": [
    "*A priori, on ne distingue pas de critères simples permettant de classer les arbres suivant leur espèce. En effet, on observe des zones de recouvrement entre les deux espèces pour la plupart des paramètres.*"
   ]
  },
  {
   "cell_type": "markdown",
   "id": "d4a88a2e-5928-43e8-b2f3-d574e76a6ddd",
   "metadata": {},
   "source": [
    "### Pré-traitement des variables"
   ]
  },
  {
   "cell_type": "markdown",
   "id": "19c589d4-631e-44c6-9c96-b6b3a0db4466",
   "metadata": {},
   "source": [
    "#### Question 3\n",
    "Transformez vos variables d'une manière qui vous parait judicieuse, en vous appuyant notamment sur la PC 3. Vous pouvez essayer différents pré-traitements, mais ce n'est pas nécessaire. Justifiez vos choix. Utilisez un array numpy `X_public_preprocessed` pour enregistrer le résultat."
   ]
  },
  {
   "cell_type": "code",
   "execution_count": 297,
   "id": "7a45cf01-4000-40b8-8e8b-298d01f61156",
   "metadata": {
    "tags": [
     "level_basic"
    ]
   },
   "outputs": [],
   "source": [
    "yj_scaler = preprocessing.PowerTransformer(method='yeo-johnson')\n",
    "yj_scaler.fit(X_public)\n",
    "X_public_preprocessed = yj_scaler.transform(X_public)\n",
    "\n",
    "s_scaler = preprocessing.StandardScaler()\n",
    "s_scaler.fit(X_public)\n",
    "X_public_preprocessed_s = s_scaler.transform(X_public)"
   ]
  },
  {
   "cell_type": "markdown",
   "id": "c56c5b4b",
   "metadata": {},
   "source": [
    "*On cherche à réaliser un prétraitement non-linéaire des données, prenant en compte l'asymétrie des données.*\n",
    "\n",
    "*Cependant, la méthode Box-Cox vue en cours ne tolère pas les valeurs négatives. On utilise donc la méthode Yeo-Johnson, qui est également une transformation normale mais supportant les valeurs négatives.*"
   ]
  },
  {
   "cell_type": "code",
   "execution_count": 298,
   "id": "71f7be10",
   "metadata": {},
   "outputs": [
    {
     "data": {
      "image/png": "[encoded data removed]",
      "text/plain": [
       "<Figure size 576x432 with 10 Axes>"
      ]
     },
     "metadata": {
      "needs_background": "light"
     },
     "output_type": "display_data"
    },
    {
     "data": {
      "image/png": "[encoded data removed]",
      "text/plain": [
       "<Figure size 576x432 with 10 Axes>"
      ]
     },
     "metadata": {
      "needs_background": "light"
     },
     "output_type": "display_data"
    }
   ],
   "source": [
    "# affichage\n",
    "plot_hist(X_public_preprocessed, \"(Yeo-Johnson)\")\n",
    "plot_hist(X_public_preprocessed_s, \"(normalisation standard)\")"
   ]
  },
  {
   "cell_type": "markdown",
   "id": "48e3af5e",
   "metadata": {},
   "source": [
    "*On observe bien des données mieux réparties et normalisées, avec toujours des phénomènes de recouvrement.*"
   ]
  },
  {
   "cell_type": "markdown",
   "id": "cb82bf83-2130-4d0f-98d1-49faa8578d3d",
   "metadata": {},
   "source": [
    "## Premier modèle : 5-NN"
   ]
  },
  {
   "cell_type": "markdown",
   "id": "cac6e657-3b8f-4576-b192-119cea1a65ef",
   "metadata": {},
   "source": [
    "### Algorithme des k plus proches voisins"
   ]
  },
  {
   "cell_type": "markdown",
   "id": "c05c88df-2666-44f9-8c5d-067e32238a82",
   "metadata": {},
   "source": [
    "Nous n'avons pas encore vu d'algorithme permettant d'entraîner un modèle de classification. Nous allons donc commencer avec un modèle simple : celui des __k plus proches voisins__ (ou __kNN__, pour _k nearest neighbors_).\n",
    "\n",
    "Dans ce modèle, la valeur de la fonction de décision en x est la proportion d'individus d'étiquette positive parmi les k plus proches voisins de x au sein des points du jeu d'entraînement ; k est fixé."
   ]
  },
  {
   "cell_type": "markdown",
   "id": "3f093f4a-6905-4404-9a34-4aa3e0b70bcf",
   "metadata": {},
   "source": [
    "Nous allons commencer par utiliser un algorithme des k plus proches voisins avec k fixé à k=5."
   ]
  },
  {
   "cell_type": "markdown",
   "id": "9c9ac02f-3035-47a7-8a75-9ebd604ffae9",
   "metadata": {},
   "source": [
    "#### Question 4\n",
    "\n",
    "Entraînez un modèle des sur les données `(X_public_preprocessed, y_public)` grâce à la classe `KNeighborsClassifier` du module `neighbors` de `sklearn`, utilisez l'algorithme des 5 plus proches voisins pour entrainer un modèle sur votre jeu d'entraînement.\n",
    "\n",
    "Documentation https://scikit-learn.org/stable/modules/generated/sklearn.neighbors.KNeighborsClassifier.html"
   ]
  },
  {
   "cell_type": "code",
   "execution_count": 299,
   "id": "747297ef-4a20-4e9f-af49-f9188f0e6027",
   "metadata": {},
   "outputs": [],
   "source": [
    "from sklearn import neighbors"
   ]
  },
  {
   "cell_type": "markdown",
   "id": "837e1249",
   "metadata": {},
   "source": [
    "*D'après la documentation, on écrit le code suivant :*"
   ]
  },
  {
   "cell_type": "code",
   "execution_count": 300,
   "id": "2d51ed84-98b2-4ac7-84a4-d21f2b652b9b",
   "metadata": {},
   "outputs": [
    {
     "data": {
      "text/plain": [
       "KNeighborsClassifier()"
      ]
     },
     "execution_count": 300,
     "metadata": {},
     "output_type": "execute_result"
    }
   ],
   "source": [
    "neigh = neighbors.KNeighborsClassifier(n_neighbors=5) \n",
    "neigh.fit(X_public_preprocessed, y_public)"
   ]
  },
  {
   "cell_type": "markdown",
   "id": "53b34345-fa60-47de-904f-e44e655e9ccd",
   "metadata": {},
   "source": [
    "### Performance\n",
    "\n",
    "Il existe de nombreuses métriques pour évaluer les performances d'un algorithme de classification. Nous allons ici utiliser le F-score, dont vous trouverez une description dans la documentation du module `metrics` de `sklearn` : https://scikit-learn.org/stable/modules/generated/sklearn.metrics.f1_score.html#sklearn.metrics.f1_score et https://scikit-learn.org/stable/modules/model_evaluation.html#precision-recall-f-measure-metrics.\n",
    "\n",
    "#### Question 5\n",
    "Quel serait sur nos données le F-score d'un modèle naïf prédisant systématiquement la classe positive ?"
   ]
  },
  {
   "cell_type": "markdown",
   "id": "5576271c",
   "metadata": {},
   "source": [
    "*On utilise le mode 'binary' car on est face à un problème de classification binaire.*"
   ]
  },
  {
   "cell_type": "code",
   "execution_count": 301,
   "id": "03d9d47d-947b-4151-9481-25d8a462877a",
   "metadata": {},
   "outputs": [
    {
     "data": {
      "text/plain": [
       "0.6666666666666666"
      ]
     },
     "execution_count": 301,
     "metadata": {},
     "output_type": "execute_result"
    }
   ],
   "source": [
    "from sklearn.metrics import f1_score\n",
    "f1_score(y_public, [1]*len(y_public), average='binary')"
   ]
  },
  {
   "cell_type": "markdown",
   "id": "46e714ed",
   "metadata": {},
   "source": [
    "*On obtient environ 0.67, on s'attend par la suite à un F-score plus proche de 1.*"
   ]
  },
  {
   "cell_type": "markdown",
   "id": "9c608f7e-e309-4127-9011-7e906000dadc",
   "metadata": {},
   "source": [
    "#### Question 6\n",
    "\n",
    "Quelle est le F-score du modèle de 5 plus proches voisins que vous venez d'entraîner, sur les données `(X_public_preprocessed, y_public)` ?"
   ]
  },
  {
   "cell_type": "code",
   "execution_count": 302,
   "id": "a00a75f3-2767-41c2-8b49-e4287897c9d0",
   "metadata": {},
   "outputs": [
    {
     "data": {
      "text/plain": [
       "0.9276089000313382"
      ]
     },
     "execution_count": 302,
     "metadata": {},
     "output_type": "execute_result"
    }
   ],
   "source": [
    "y_pred = neigh.predict(X_public_preprocessed)\n",
    "f1_score(y_public, y_pred, average='binary')"
   ]
  },
  {
   "cell_type": "code",
   "execution_count": 303,
   "id": "747dd16a",
   "metadata": {},
   "outputs": [
    {
     "data": {
      "text/plain": [
       "0.9290079924776682"
      ]
     },
     "execution_count": 303,
     "metadata": {},
     "output_type": "execute_result"
    }
   ],
   "source": [
    "# Résultat pour le preprossing StandardScaler\n",
    "neigh_s = neighbors.KNeighborsClassifier(n_neighbors=5) \n",
    "neigh_s.fit(X_public_preprocessed_s, y_public)\n",
    "y_pred = neigh_s.predict(X_public_preprocessed_s)\n",
    "f1_score(y_public, y_pred, average='binary')"
   ]
  },
  {
   "cell_type": "markdown",
   "id": "c4c1d437-e850-40b2-ae6d-aeeedb1090ce",
   "metadata": {},
   "source": [
    "#### Question 7\n",
    "* Que pensez-vous de cette performance ? \n",
    "* Est-ce une bonne idée d'évaluer le modèle sur le jeu d'entraînement ? (Réfléchissez en particulier au cas où k=1.)"
   ]
  },
  {
   "cell_type": "markdown",
   "id": "36c99114",
   "metadata": {},
   "source": [
    "*La performance est bonne, meilleure que l'aléatoire. Elle peut cependant être améliorée assez facilement, par exemple en utilisant un mode de pondération différent (distance, qui donne un F-score de 1 sur ces données).*\n",
    "\n",
    "*Cette performance peut s'expliquer par un phénomène de surapprentissage, qui est d'autant plus marqué que $k$ est faible. Ainsi, dans le cas $k=1$, on assiste à un apprentissage par coeur. Ce dernier donne ici de très bons résultats (F-score de 1), mais cela est dû au fait que le modèle est testé sur le jeu d'entrainement (cf cellule ci-dessous).*"
   ]
  },
  {
   "cell_type": "code",
   "execution_count": 304,
   "id": "19e045aa",
   "metadata": {},
   "outputs": [
    {
     "data": {
      "text/plain": [
       "1.0"
      ]
     },
     "execution_count": 304,
     "metadata": {},
     "output_type": "execute_result"
    }
   ],
   "source": [
    "# Calcul du F-score avec k=1 (apprentissage par coeur)\n",
    "\n",
    "neigh = neighbors.KNeighborsClassifier(n_neighbors=1)\n",
    "neigh.fit(X_public_preprocessed, y_public)\n",
    "y_pred = neigh.predict(X_public_preprocessed)\n",
    "f1_score(y_public, y_pred, average='binary') "
   ]
  },
  {
   "cell_type": "markdown",
   "id": "fe3d729e-53f6-48ed-991b-f9f0f6673f94",
   "metadata": {},
   "source": [
    "## Création d'un jeu de test\n",
    "\n",
    "À partir de maintenant, nous allons séparer les données en un jeu d'entraînement, que nous utiliserons pour entraîner différents modèles, et un jeu de test, que nous utiliserons pour les comparer. (Cf CM 8)."
   ]
  },
  {
   "cell_type": "code",
   "execution_count": 305,
   "id": "00908d3c-3d44-48a6-b408-0ed2e78de0ec",
   "metadata": {},
   "outputs": [],
   "source": [
    "from sklearn import model_selection"
   ]
  },
  {
   "cell_type": "code",
   "execution_count": 306,
   "id": "47ce3a28-dfc8-4023-abdf-f7ad1c4227d5",
   "metadata": {},
   "outputs": [
    {
     "name": "stdout",
     "output_type": "stream",
     "text": [
      "[0 0 0 ... 0 1 1]\n"
     ]
    }
   ],
   "source": [
    "# Use 20% for testing\n",
    "\n",
    "X_train, X_test, y_train, y_test = model_selection.train_test_split(X_public, y_public, test_size=0.20,\n",
    "                                                                    stratify=y_public,\n",
    "                                                                    random_state=42) \n",
    "X_train.shape, X_test.shape\n",
    "print(y_test)"
   ]
  },
  {
   "cell_type": "markdown",
   "id": "39a54a89",
   "metadata": {},
   "source": [
    "*On normalise les jeux d'entrainement et de test par la même méthode que précédemment.*"
   ]
  },
  {
   "cell_type": "code",
   "execution_count": 307,
   "id": "0637ac77",
   "metadata": {},
   "outputs": [
    {
     "name": "stderr",
     "output_type": "stream",
     "text": [
      "C:\\Users\\Florent\\.conda\\envs\\sdd2021\\lib\\site-packages\\sklearn\\preprocessing\\_data.py:3237: RuntimeWarning: divide by zero encountered in log\n",
      "  loglike = -n_samples / 2 * np.log(x_trans.var())\n"
     ]
    }
   ],
   "source": [
    "# Jeux d'entrainement avec Yeo-Johnson\n",
    "yj_scaler = preprocessing.PowerTransformer(method='yeo-johnson')\n",
    "yj_scaler.fit(X_train)\n",
    "X_train_preprocessed = yj_scaler.transform(X_train) # problème de positivité box cot ? translation ?\n",
    "X_test_preprocessed = yj_scaler.transform(X_test)"
   ]
  },
  {
   "cell_type": "code",
   "execution_count": 308,
   "id": "b8d23305",
   "metadata": {},
   "outputs": [],
   "source": [
    "# Jeux d'entrainement avec le StandardScaler\n",
    "s_scaler = preprocessing.StandardScaler()\n",
    "s_scaler.fit(X_train)\n",
    "X_train_preprocessed_s = s_scaler.transform(X_train)\n",
    "X_test_preprocessed_s = s_scaler.transform(X_test)"
   ]
  },
  {
   "cell_type": "markdown",
   "id": "06cf00af-77f5-4051-a05a-ab9432b228a0",
   "metadata": {},
   "source": [
    "### Performance sur le jeu de test d'un 5-NN entraîné sur le jeu d'entrainement"
   ]
  },
  {
   "cell_type": "markdown",
   "id": "c44f1211-a214-47a5-a709-0590c9dd01a8",
   "metadata": {},
   "source": [
    "#### Question 8.a \n",
    "\n",
    "Entrainez de nouveau un modèle avec l'algorithme des 5 plus proches voisins, mais cette fois, utilisez uniquement le jeu d'entraînement. __Attention__ à bien « entraîner » votre pre-processing sur le jeu d'entraînement seulement ; considérez le jeu de test comme des données que vous ne voyez pas au moment de l'entraînement."
   ]
  },
  {
   "cell_type": "code",
   "execution_count": 309,
   "id": "fa168ef9-edb0-4f8a-9f66-6b745b1b5709",
   "metadata": {},
   "outputs": [
    {
     "data": {
      "text/plain": [
       "KNeighborsClassifier(n_neighbors=1)"
      ]
     },
     "execution_count": 309,
     "metadata": {},
     "output_type": "execute_result"
    }
   ],
   "source": [
    "neigh_train = neighbors.KNeighborsClassifier(n_neighbors=1)\n",
    "neigh_train.fit(X_train_preprocessed, y_train)"
   ]
  },
  {
   "cell_type": "markdown",
   "id": "7499da0b-24f7-4e9a-8b67-f9aa05005aa1",
   "metadata": {},
   "source": [
    "#### Question 8.b\n",
    "Évaluez le F-score sur le jeu de test du modèle entraîné à la question précédente."
   ]
  },
  {
   "cell_type": "code",
   "execution_count": 310,
   "id": "3d453b21-9ff3-4cf7-b6a7-75a74bf7eaff",
   "metadata": {},
   "outputs": [
    {
     "data": {
      "text/plain": [
       "0.8820754716981133"
      ]
     },
     "execution_count": 310,
     "metadata": {},
     "output_type": "execute_result"
    }
   ],
   "source": [
    "# Pour le Yeo-Johnson\n",
    "\n",
    "y_pred = neigh_train.predict(X_test_preprocessed)\n",
    "f1_score(y_test, y_pred, average='binary')"
   ]
  },
  {
   "cell_type": "code",
   "execution_count": 311,
   "id": "d59f4854",
   "metadata": {},
   "outputs": [
    {
     "data": {
      "text/plain": [
       "0.8956587966488957"
      ]
     },
     "execution_count": 311,
     "metadata": {},
     "output_type": "execute_result"
    }
   ],
   "source": [
    "# Valeur pour le StandardScaler\n",
    "neigh_train_s = neighbors.KNeighborsClassifier(n_neighbors=5)\n",
    "neigh_train_s.fit(X_train_preprocessed_s, y_train)\n",
    "y_pred = neigh_train_s.predict(X_test_preprocessed_s)\n",
    "f1_score(y_test, y_pred, average='binary')"
   ]
  },
  {
   "cell_type": "markdown",
   "id": "9beee624-9828-4c0a-8f1f-1930df57d9fb",
   "metadata": {},
   "source": [
    "#### Question 9\n",
    "Commentez le F-score obtenu ci-dessus."
   ]
  },
  {
   "cell_type": "markdown",
   "id": "ad29ae27",
   "metadata": {},
   "source": [
    "*Le F-score calculé est inférieur à celui obtenu précédemment. En effet, le phénomène de surapprentissage, qui n'est plus possible avec les données de test, gonflait artificiellement le F-score. Si la note obtenue est inférieure, elle est néanmoins plus représentative des performances réelles du modèle.*"
   ]
  },
  {
   "cell_type": "code",
   "execution_count": 312,
   "id": "978a60e7",
   "metadata": {},
   "outputs": [
    {
     "data": {
      "image/png": "[encoded data removed]",
      "text/plain": [
       "<Figure size 576x432 with 1 Axes>"
      ]
     },
     "metadata": {
      "needs_background": "light"
     },
     "output_type": "display_data"
    }
   ],
   "source": [
    "def f_score(k=5, weights=\"uniform\", x_test = X_test_preprocessed):\n",
    "    neigh_train = neighbors.KNeighborsClassifier(n_neighbors=k, weights=weights)\n",
    "    neigh_train.fit(X_train_preprocessed, y_train)\n",
    "    y_pred = neigh_train.predict(x_test)\n",
    "    return f1_score(y_test, y_pred, average='binary')\n",
    "\n",
    "\n",
    "fig = plt.figure(figsize=(8, 6))\n",
    "\n",
    "idx = [2*i+1 for i in range(1, 25)] # sorted([2**i+1 for i in range(1, 10)] + [2**i for i in range(1, 10)])\n",
    "pts = []\n",
    "pts_dist = []\n",
    "for k in idx:        \n",
    "    pts.append(f_score(k))  \n",
    "    pts_dist.append(f_score(k, \"distance\"))\n",
    "\n",
    "plt.plot(idx, pts, label=\"distance\")\n",
    "plt.plot(idx, pts_dist, label=\"uniform\")\n",
    "plt.xscale(\"log\")\n",
    "plt.legend();\n"
   ]
  },
  {
   "cell_type": "markdown",
   "id": "a6405b44-a6fe-4c66-b49d-7abef561b6cc",
   "metadata": {},
   "source": [
    "## [À partir du CM 8 / de la PC 4] Sélection du nombre de plus proches voisins"
   ]
  },
  {
   "cell_type": "markdown",
   "id": "6d956186-5bbc-461f-af32-96e0d25988d2",
   "metadata": {},
   "source": [
    "#### Question 10.a \n",
    "Utilisez maintenant une validation croisée pour sélectionner la valeur optimale du nombre de voisins avec `GridSearchCV` (voir notamment PC4). \n",
    "\n",
    "Vous pouvez utiliser la grille de valeurs de k suivante, ou la modifier :"
   ]
  },
  {
   "cell_type": "code",
   "execution_count": 313,
   "id": "16f3d578-78c0-43cc-a3eb-12b67de43810",
   "metadata": {},
   "outputs": [],
   "source": [
    "n_neighbors = np.arange(1, 15, step=1)"
   ]
  },
  {
   "cell_type": "code",
   "execution_count": 314,
   "id": "25507e1a",
   "metadata": {},
   "outputs": [
    {
     "name": "stdout",
     "output_type": "stream",
     "text": [
      "Fitting 5 folds for each of 14 candidates, totalling 70 fits\n",
      "[CV 1/5] END .....................n_neighbors=1;, score=0.864 total time=   0.0s\n",
      "[CV 2/5] END .....................n_neighbors=1;, score=0.863 total time=   0.0s\n",
      "[CV 3/5] END .....................n_neighbors=1;, score=0.858 total time=   0.0s\n",
      "[CV 4/5] END .....................n_neighbors=1;, score=0.855 total time=   0.0s\n",
      "[CV 5/5] END .....................n_neighbors=1;, score=0.873 total time=   0.0s\n",
      "[CV 1/5] END .....................n_neighbors=2;, score=0.848 total time=   0.0s\n",
      "[CV 2/5] END .....................n_neighbors=2;, score=0.834 total time=   0.0s\n",
      "[CV 3/5] END .....................n_neighbors=2;, score=0.834 total time=   0.0s\n",
      "[CV 4/5] END .....................n_neighbors=2;, score=0.831 total time=   0.0s\n",
      "[CV 5/5] END .....................n_neighbors=2;, score=0.852 total time=   0.0s\n",
      "[CV 1/5] END .....................n_neighbors=3;, score=0.872 total time=   0.0s\n",
      "[CV 2/5] END .....................n_neighbors=3;, score=0.873 total time=   0.0s\n",
      "[CV 3/5] END .....................n_neighbors=3;, score=0.856 total time=   0.1s\n",
      "[CV 4/5] END .....................n_neighbors=3;, score=0.841 total time=   0.0s\n",
      "[CV 5/5] END .....................n_neighbors=3;, score=0.876 total time=   0.0s\n",
      "[CV 1/5] END .....................n_neighbors=4;, score=0.861 total time=   0.0s\n",
      "[CV 2/5] END .....................n_neighbors=4;, score=0.865 total time=   0.0s\n",
      "[CV 3/5] END .....................n_neighbors=4;, score=0.847 total time=   0.0s\n",
      "[CV 4/5] END .....................n_neighbors=4;, score=0.839 total time=   0.0s\n",
      "[CV 5/5] END .....................n_neighbors=4;, score=0.868 total time=   0.0s\n",
      "[CV 1/5] END .....................n_neighbors=5;, score=0.868 total time=   0.0s\n",
      "[CV 2/5] END .....................n_neighbors=5;, score=0.856 total time=   0.0s\n",
      "[CV 3/5] END .....................n_neighbors=5;, score=0.847 total time=   0.0s\n",
      "[CV 4/5] END .....................n_neighbors=5;, score=0.841 total time=   0.0s\n",
      "[CV 5/5] END .....................n_neighbors=5;, score=0.862 total time=   0.0s\n",
      "[CV 1/5] END .....................n_neighbors=6;, score=0.869 total time=   0.0s\n",
      "[CV 2/5] END .....................n_neighbors=6;, score=0.857 total time=   0.0s\n",
      "[CV 3/5] END .....................n_neighbors=6;, score=0.844 total time=   0.0s\n",
      "[CV 4/5] END .....................n_neighbors=6;, score=0.834 total time=   0.0s\n",
      "[CV 5/5] END .....................n_neighbors=6;, score=0.854 total time=   0.0s\n",
      "[CV 1/5] END .....................n_neighbors=7;, score=0.861 total time=   0.0s\n",
      "[CV 2/5] END .....................n_neighbors=7;, score=0.850 total time=   0.0s\n",
      "[CV 3/5] END .....................n_neighbors=7;, score=0.842 total time=   0.0s\n",
      "[CV 4/5] END .....................n_neighbors=7;, score=0.846 total time=   0.0s\n",
      "[CV 5/5] END .....................n_neighbors=7;, score=0.856 total time=   0.0s\n",
      "[CV 1/5] END .....................n_neighbors=8;, score=0.861 total time=   0.0s\n",
      "[CV 2/5] END .....................n_neighbors=8;, score=0.853 total time=   0.0s\n",
      "[CV 3/5] END .....................n_neighbors=8;, score=0.839 total time=   0.0s\n",
      "[CV 4/5] END .....................n_neighbors=8;, score=0.833 total time=   0.0s\n",
      "[CV 5/5] END .....................n_neighbors=8;, score=0.853 total time=   0.0s\n",
      "[CV 1/5] END .....................n_neighbors=9;, score=0.852 total time=   0.0s\n",
      "[CV 2/5] END .....................n_neighbors=9;, score=0.843 total time=   0.0s\n",
      "[CV 3/5] END .....................n_neighbors=9;, score=0.834 total time=   0.0s\n",
      "[CV 4/5] END .....................n_neighbors=9;, score=0.833 total time=   0.0s\n",
      "[CV 5/5] END .....................n_neighbors=9;, score=0.844 total time=   0.0s\n",
      "[CV 1/5] END ....................n_neighbors=10;, score=0.848 total time=   0.0s\n",
      "[CV 2/5] END ....................n_neighbors=10;, score=0.842 total time=   0.0s\n",
      "[CV 3/5] END ....................n_neighbors=10;, score=0.837 total time=   0.0s\n",
      "[CV 4/5] END ....................n_neighbors=10;, score=0.823 total time=   0.0s\n",
      "[CV 5/5] END ....................n_neighbors=10;, score=0.848 total time=   0.0s\n",
      "[CV 1/5] END ....................n_neighbors=11;, score=0.847 total time=   0.0s\n",
      "[CV 2/5] END ....................n_neighbors=11;, score=0.832 total time=   0.0s\n",
      "[CV 3/5] END ....................n_neighbors=11;, score=0.835 total time=   0.0s\n",
      "[CV 4/5] END ....................n_neighbors=11;, score=0.825 total time=   0.0s\n",
      "[CV 5/5] END ....................n_neighbors=11;, score=0.845 total time=   0.0s\n",
      "[CV 1/5] END ....................n_neighbors=12;, score=0.848 total time=   0.0s\n",
      "[CV 2/5] END ....................n_neighbors=12;, score=0.827 total time=   0.0s\n",
      "[CV 3/5] END ....................n_neighbors=12;, score=0.835 total time=   0.0s\n",
      "[CV 4/5] END ....................n_neighbors=12;, score=0.821 total time=   0.0s\n",
      "[CV 5/5] END ....................n_neighbors=12;, score=0.848 total time=   0.0s\n",
      "[CV 1/5] END ....................n_neighbors=13;, score=0.843 total time=   0.0s\n",
      "[CV 2/5] END ....................n_neighbors=13;, score=0.835 total time=   0.1s\n",
      "[CV 3/5] END ....................n_neighbors=13;, score=0.835 total time=   0.0s\n",
      "[CV 4/5] END ....................n_neighbors=13;, score=0.831 total time=   0.0s\n",
      "[CV 5/5] END ....................n_neighbors=13;, score=0.847 total time=   0.0s\n",
      "[CV 1/5] END ....................n_neighbors=14;, score=0.835 total time=   0.0s\n",
      "[CV 2/5] END ....................n_neighbors=14;, score=0.832 total time=   0.0s\n",
      "[CV 3/5] END ....................n_neighbors=14;, score=0.832 total time=   0.0s\n",
      "[CV 4/5] END ....................n_neighbors=14;, score=0.812 total time=   0.0s\n",
      "[CV 5/5] END ....................n_neighbors=14;, score=0.844 total time=   0.0s\n"
     ]
    },
    {
     "data": {
      "text/plain": [
       "GridSearchCV(cv=5, estimator=KNeighborsClassifier(),\n",
       "             param_grid=[{'n_neighbors': array([ 1,  2,  3,  4,  5,  6,  7,  8,  9, 10, 11, 12, 13, 14])}],\n",
       "             scoring='f1', verbose=3)"
      ]
     },
     "execution_count": 314,
     "metadata": {},
     "output_type": "execute_result"
    }
   ],
   "source": [
    "from sklearn.model_selection import GridSearchCV\n",
    "\n",
    "kneighbors_model = neighbors.KNeighborsClassifier()\n",
    "tuned_parameters = [{'n_neighbors': n_neighbors}]\n",
    "nb_folds = 5\n",
    "grid = GridSearchCV(kneighbors_model, tuned_parameters, cv=nb_folds, refit=True, verbose=3, scoring='f1')\n",
    "grid.fit(X_train_preprocessed, y_train)"
   ]
  },
  {
   "cell_type": "markdown",
   "id": "8ef9a205-e9a3-47d8-b625-cd68473479f3",
   "metadata": {},
   "source": [
    "#### Question 10.b\n",
    "Quel est le F-score correspondant au nombre de voisin optimal ?"
   ]
  },
  {
   "cell_type": "code",
   "execution_count": 315,
   "id": "886a46e6-eda1-4f07-a8ae-00f1e8b77541",
   "metadata": {},
   "outputs": [
    {
     "name": "stdout",
     "output_type": "stream",
     "text": [
      "k 3\n",
      "F-score 0.8635888371024347\n"
     ]
    }
   ],
   "source": [
    "# Pour le Yeo-Johnson\n",
    "\n",
    "k_opti = grid.best_params_['n_neighbors']\n",
    "f_max = grid.best_score_\n",
    "print(\"k\", k_opti)\n",
    "print(\"F-score\", f_max)"
   ]
  },
  {
   "cell_type": "code",
   "execution_count": 316,
   "id": "889fb8dd",
   "metadata": {},
   "outputs": [
    {
     "name": "stdout",
     "output_type": "stream",
     "text": [
      "Fitting 5 folds for each of 14 candidates, totalling 70 fits\n",
      "[CV 1/5] END .....................n_neighbors=1;, score=0.883 total time=   0.0s\n",
      "[CV 2/5] END .....................n_neighbors=1;, score=0.909 total time=   0.1s\n",
      "[CV 3/5] END .....................n_neighbors=1;, score=0.906 total time=   0.0s\n",
      "[CV 4/5] END .....................n_neighbors=1;, score=0.886 total time=   0.0s\n",
      "[CV 5/5] END .....................n_neighbors=1;, score=0.911 total time=   0.0s\n",
      "[CV 1/5] END .....................n_neighbors=2;, score=0.883 total time=   0.0s\n",
      "[CV 2/5] END .....................n_neighbors=2;, score=0.894 total time=   0.0s\n",
      "[CV 3/5] END .....................n_neighbors=2;, score=0.898 total time=   0.0s\n",
      "[CV 4/5] END .....................n_neighbors=2;, score=0.871 total time=   0.0s\n",
      "[CV 5/5] END .....................n_neighbors=2;, score=0.905 total time=   0.0s\n",
      "[CV 1/5] END .....................n_neighbors=3;, score=0.898 total time=   0.0s\n",
      "[CV 2/5] END .....................n_neighbors=3;, score=0.901 total time=   0.0s\n",
      "[CV 3/5] END .....................n_neighbors=3;, score=0.890 total time=   0.0s\n",
      "[CV 4/5] END .....................n_neighbors=3;, score=0.883 total time=   0.0s\n",
      "[CV 5/5] END .....................n_neighbors=3;, score=0.909 total time=   0.0s\n",
      "[CV 1/5] END .....................n_neighbors=4;, score=0.903 total time=   0.0s\n",
      "[CV 2/5] END .....................n_neighbors=4;, score=0.905 total time=   0.0s\n",
      "[CV 3/5] END .....................n_neighbors=4;, score=0.886 total time=   0.0s\n",
      "[CV 4/5] END .....................n_neighbors=4;, score=0.875 total time=   0.0s\n",
      "[CV 5/5] END .....................n_neighbors=4;, score=0.907 total time=   0.0s\n",
      "[CV 1/5] END .....................n_neighbors=5;, score=0.893 total time=   0.1s\n",
      "[CV 2/5] END .....................n_neighbors=5;, score=0.893 total time=   0.1s\n",
      "[CV 3/5] END .....................n_neighbors=5;, score=0.886 total time=   0.0s\n",
      "[CV 4/5] END .....................n_neighbors=5;, score=0.872 total time=   0.0s\n",
      "[CV 5/5] END .....................n_neighbors=5;, score=0.894 total time=   0.0s\n",
      "[CV 1/5] END .....................n_neighbors=6;, score=0.895 total time=   0.0s\n",
      "[CV 2/5] END .....................n_neighbors=6;, score=0.894 total time=   0.0s\n",
      "[CV 3/5] END .....................n_neighbors=6;, score=0.883 total time=   0.0s\n",
      "[CV 4/5] END .....................n_neighbors=6;, score=0.865 total time=   0.0s\n",
      "[CV 5/5] END .....................n_neighbors=6;, score=0.897 total time=   0.0s\n",
      "[CV 1/5] END .....................n_neighbors=7;, score=0.889 total time=   0.0s\n",
      "[CV 2/5] END .....................n_neighbors=7;, score=0.887 total time=   0.0s\n",
      "[CV 3/5] END .....................n_neighbors=7;, score=0.879 total time=   0.0s\n",
      "[CV 4/5] END .....................n_neighbors=7;, score=0.860 total time=   0.0s\n",
      "[CV 5/5] END .....................n_neighbors=7;, score=0.892 total time=   0.0s\n",
      "[CV 1/5] END .....................n_neighbors=8;, score=0.891 total time=   0.0s\n",
      "[CV 2/5] END .....................n_neighbors=8;, score=0.887 total time=   0.0s\n",
      "[CV 3/5] END .....................n_neighbors=8;, score=0.878 total time=   0.0s\n",
      "[CV 4/5] END .....................n_neighbors=8;, score=0.863 total time=   0.0s\n",
      "[CV 5/5] END .....................n_neighbors=8;, score=0.892 total time=   0.1s\n",
      "[CV 1/5] END .....................n_neighbors=9;, score=0.880 total time=   0.0s\n",
      "[CV 2/5] END .....................n_neighbors=9;, score=0.878 total time=   0.0s\n",
      "[CV 3/5] END .....................n_neighbors=9;, score=0.871 total time=   0.0s\n",
      "[CV 4/5] END .....................n_neighbors=9;, score=0.861 total time=   0.0s\n",
      "[CV 5/5] END .....................n_neighbors=9;, score=0.878 total time=   0.0s\n",
      "[CV 1/5] END ....................n_neighbors=10;, score=0.882 total time=   0.0s\n",
      "[CV 2/5] END ....................n_neighbors=10;, score=0.886 total time=   0.0s\n",
      "[CV 3/5] END ....................n_neighbors=10;, score=0.872 total time=   0.0s\n",
      "[CV 4/5] END ....................n_neighbors=10;, score=0.863 total time=   0.0s\n",
      "[CV 5/5] END ....................n_neighbors=10;, score=0.885 total time=   0.0s\n",
      "[CV 1/5] END ....................n_neighbors=11;, score=0.870 total time=   0.0s\n",
      "[CV 2/5] END ....................n_neighbors=11;, score=0.876 total time=   0.0s\n",
      "[CV 3/5] END ....................n_neighbors=11;, score=0.868 total time=   0.0s\n",
      "[CV 4/5] END ....................n_neighbors=11;, score=0.860 total time=   0.1s\n",
      "[CV 5/5] END ....................n_neighbors=11;, score=0.878 total time=   0.0s\n",
      "[CV 1/5] END ....................n_neighbors=12;, score=0.873 total time=   0.0s\n",
      "[CV 2/5] END ....................n_neighbors=12;, score=0.881 total time=   0.0s\n",
      "[CV 3/5] END ....................n_neighbors=12;, score=0.871 total time=   0.0s\n",
      "[CV 4/5] END ....................n_neighbors=12;, score=0.865 total time=   0.0s\n",
      "[CV 5/5] END ....................n_neighbors=12;, score=0.886 total time=   0.0s\n",
      "[CV 1/5] END ....................n_neighbors=13;, score=0.871 total time=   0.0s\n",
      "[CV 2/5] END ....................n_neighbors=13;, score=0.879 total time=   0.0s\n",
      "[CV 3/5] END ....................n_neighbors=13;, score=0.867 total time=   0.0s\n",
      "[CV 4/5] END ....................n_neighbors=13;, score=0.855 total time=   0.0s\n",
      "[CV 5/5] END ....................n_neighbors=13;, score=0.881 total time=   0.0s\n",
      "[CV 1/5] END ....................n_neighbors=14;, score=0.869 total time=   0.0s\n",
      "[CV 2/5] END ....................n_neighbors=14;, score=0.884 total time=   0.0s\n",
      "[CV 3/5] END ....................n_neighbors=14;, score=0.870 total time=   0.0s\n",
      "[CV 4/5] END ....................n_neighbors=14;, score=0.860 total time=   0.0s\n",
      "[CV 5/5] END ....................n_neighbors=14;, score=0.884 total time=   0.0s\n",
      "k 1\n",
      "f_max 0.8992082788895678\n"
     ]
    }
   ],
   "source": [
    "# pour le preprocessing StandardScaler\n",
    "\n",
    "kneighbors_model = neighbors.KNeighborsClassifier()\n",
    "tuned_parameters = [{'n_neighbors': n_neighbors}]\n",
    "nb_folds = 5\n",
    "grid_s = GridSearchCV(kneighbors_model, tuned_parameters, cv=nb_folds, refit=True, verbose=3, scoring='f1')\n",
    "grid_s.fit(X_train_preprocessed_s, y_train)\n",
    "k_opti = grid_s.best_params_['n_neighbors']\n",
    "f_max = grid_s.best_score_\n",
    "print(\"k\", k_opti)\n",
    "print(\"f_max\", f_max)"
   ]
  },
  {
   "cell_type": "markdown",
   "id": "338daf11-91b5-4dec-86c9-e5e9029c3215",
   "metadata": {},
   "source": [
    "#### Question 10.c\n",
    "\n",
    "Quel est le F-score, sur le jeu de test, d'un modèle obtenu en entraînant un algorithme des k plus proches voisins, avec le k que vous venez de déterminer, sur le jeu d'entraînement ? Commentez."
   ]
  },
  {
   "cell_type": "code",
   "execution_count": 317,
   "id": "429bacda-f440-4f39-b5ac-ca5b9e2f8732",
   "metadata": {
    "scrolled": true
   },
   "outputs": [
    {
     "name": "stdout",
     "output_type": "stream",
     "text": [
      "Jeu d'entrainement 0.9301128489408037\n",
      "Jeu de test 0.8717156105100463\n"
     ]
    }
   ],
   "source": [
    "# Pour le Yeo-Johnson\n",
    "\n",
    "esti = grid.best_estimator_\n",
    "y_pred_train = esti.predict(X_train_preprocessed)\n",
    "y_pred_test = esti.predict(X_test_preprocessed)\n",
    "print(\"Jeu d'entrainement\", f1_score(y_train, y_pred_train, average='binary'))\n",
    "print(\"Jeu de test\", f1_score(y_test, y_pred_test, average='binary'))"
   ]
  },
  {
   "cell_type": "code",
   "execution_count": 318,
   "id": "eb5194ef",
   "metadata": {},
   "outputs": [
    {
     "name": "stdout",
     "output_type": "stream",
     "text": [
      "Jeu d'entrainement 1.0\n",
      "Jeu de test 0.9138339920948617\n"
     ]
    }
   ],
   "source": [
    "# Pour le StandardScaler\n",
    "\n",
    "esti_s = grid_s.best_estimator_\n",
    "y_pred_train_s = esti_s.predict(X_train_preprocessed_s)\n",
    "y_pred_test_s = esti_s.predict(X_test_preprocessed_s)\n",
    "print(\"Jeu d'entrainement\", f1_score(y_train, y_pred_train_s, average='binary'))\n",
    "print(\"Jeu de test\", f1_score(y_test, y_pred_test_s, average='binary'))"
   ]
  },
  {
   "cell_type": "markdown",
   "id": "b8e088a5",
   "metadata": {},
   "source": [
    "On observe une légère baisse de performance, mais qui n'est probablement pas significative.\n",
    "\n",
    "Il y a peut-être tout de même du surapprentissage, car le f-score sur le jeu d'entrainement est de 1.0.\n",
    "\n",
    "On ne retrouve pas le même f_score car à la question précédente le modèle a dû être entrainé sur un jeu issu de la validation croisé.\n",
    "\n",
    "On remarque que le modèle se comporte mieux avec peu de voisins. Cependant, malgré un bon f-score, cela pose la question de la pertinence d'une vision continue de la répartition des espèces, qui est l'intuition sur laquelle repose le modèle des plus proches voisins (encore plus lorsque l'on choisit comme pondération la distance). En effet, la meilleure prédiction est obtenue lorsque l'on ne tient compte que du plus proche voisin ce qui souligne le caractère erratique de la répartition forestière."
   ]
  },
  {
   "cell_type": "markdown",
   "id": "c1a42476-6aff-42a0-91f8-5769bcaab49e",
   "metadata": {},
   "source": [
    "## [À partir de la PC 5] Régression logistique"
   ]
  },
  {
   "cell_type": "markdown",
   "id": "327cd4c2-b134-49e9-83ae-532ec909e97f",
   "metadata": {},
   "source": [
    "### Régression logistique non-régularisée"
   ]
  },
  {
   "cell_type": "markdown",
   "id": "96c0295c-3839-41d8-9005-2fed00d960b3",
   "metadata": {},
   "source": [
    "#### Question 11.a\n",
    "\n",
    "Entraînez une régression logistique non-régularisée sur le jeu d'entraînement.\n",
    "\n",
    "__Conseils :__\n",
    "* Vous trouverez les outils nécessaires dans la classe `LogisticRegression` du module `linear_model` de `scikit-learn` ; il s'agit ainsi d'une variante de la PC5. Comme toujours, référez-vous à la [documentation](https://scikit-learn.org/stable/modules/generated/sklearn.linear_model.LogisticRegression.html).\n",
    "* Pour ne pas avoir de régularisation, utilisez `penalty='none'`"
   ]
  },
  {
   "cell_type": "code",
   "execution_count": 319,
   "id": "3edb4e05-3c38-414e-a212-64ac18fef289",
   "metadata": {},
   "outputs": [
    {
     "data": {
      "text/plain": [
       "LogisticRegression(penalty='none')"
      ]
     },
     "execution_count": 319,
     "metadata": {},
     "output_type": "execute_result"
    }
   ],
   "source": [
    "from sklearn.linear_model import LogisticRegression, LogisticRegressionCV\n",
    "\n",
    "log_reg = LogisticRegression(penalty='none')\n",
    "log_reg.fit(X_train_preprocessed, y_train)"
   ]
  },
  {
   "cell_type": "markdown",
   "id": "151f97c2-a12f-4768-9a24-287ba966264a",
   "metadata": {},
   "source": [
    "#### Question 11.b\n",
    "Évaluez le F-score de cette régression logistique non-régularisée sur le jeu de test."
   ]
  },
  {
   "cell_type": "code",
   "execution_count": 320,
   "id": "f1155783-d782-49d4-b69e-1b1e6512e10f",
   "metadata": {},
   "outputs": [
    {
     "name": "stdout",
     "output_type": "stream",
     "text": [
      "Jeu d'entrainement 0.7023759899958315\n",
      "Jeu de test 0.7085714285714286\n"
     ]
    }
   ],
   "source": [
    "# Pour le Yeo-Johnson\n",
    "\n",
    "y_pred = log_reg.predict(X_test_preprocessed)\n",
    "print(\"Jeu d'entrainement\", f1_score(y_train, log_reg.predict(X_train_preprocessed), average='binary'))\n",
    "print(\"Jeu de test\", f1_score(y_test, y_pred, average='binary'))"
   ]
  },
  {
   "cell_type": "code",
   "execution_count": 321,
   "id": "c7332d85",
   "metadata": {},
   "outputs": [
    {
     "name": "stdout",
     "output_type": "stream",
     "text": [
      "Jeu d'entrainement 0.7724933086267243\n",
      "Jeu de test 0.7756778964667215\n"
     ]
    }
   ],
   "source": [
    "# Pour le Standard Scaler\n",
    "\n",
    "log_reg_s = LogisticRegression(penalty='none')\n",
    "log_reg_s.fit(X_train_preprocessed_s, y_train)\n",
    "y_pred_s = log_reg_s.predict(X_test_preprocessed_s)\n",
    "print(\"Jeu d'entrainement\", f1_score(y_train, log_reg_s.predict(X_train_preprocessed_s), average='binary'))\n",
    "print(\"Jeu de test\", f1_score(y_test, y_pred_s, average='binary'))"
   ]
  },
  {
   "cell_type": "markdown",
   "id": "f2b09008-984c-4027-84d9-4bc34bf66e17",
   "metadata": {},
   "source": [
    "#### Question 12\n",
    "Vous attendez-vous à ce qu'utiliser une régularisation l2 améliore les performances du modèle ? Pourquoi ?"
   ]
  },
  {
   "cell_type": "markdown",
   "id": "8b68d800",
   "metadata": {},
   "source": [
    "Le f-score sur le jeu d'entrainement est plutôt faible et proche de celui du jeu de test, il n'y a donc a priori pas de surapprentissage. Or, la régularisation Ridge a pour but de limiter le surapprentissage. Par conséquent, on ne s'attend pas à une amélioration significative des performances sur le jeu de test par l'ajout d'une régularisation Ridge."
   ]
  },
  {
   "cell_type": "markdown",
   "id": "9f77f9d8-168f-4db4-bd3b-374447ca90d5",
   "metadata": {},
   "source": [
    "#### Question 13.a\n",
    "Déterminez par validation croisée une valeur optimale du coefficient de régularisation d'une régression logistique avec régularisation ridge."
   ]
  },
  {
   "cell_type": "code",
   "execution_count": 322,
   "id": "465f5a44-ace6-4819-9c49-38297f60bb59",
   "metadata": {},
   "outputs": [
    {
     "name": "stdout",
     "output_type": "stream",
     "text": [
      "Fitting 5 folds for each of 30 candidates, totalling 150 fits\n",
      "[CV 1/5] END ..........................C=0.0001;, score=0.651 total time=   0.0s\n",
      "[CV 2/5] END ..........................C=0.0001;, score=0.641 total time=   0.0s\n",
      "[CV 3/5] END ..........................C=0.0001;, score=0.666 total time=   0.0s\n",
      "[CV 4/5] END ..........................C=0.0001;, score=0.657 total time=   0.0s\n",
      "[CV 5/5] END ..........................C=0.0001;, score=0.637 total time=   0.0s\n",
      "[CV 1/5] END ..........C=0.00018873918221350977;, score=0.650 total time=   0.0s\n",
      "[CV 2/5] END ..........C=0.00018873918221350977;, score=0.654 total time=   0.0s\n",
      "[CV 3/5] END ..........C=0.00018873918221350977;, score=0.674 total time=   0.0s\n",
      "[CV 4/5] END ..........C=0.00018873918221350977;, score=0.663 total time=   0.0s\n",
      "[CV 5/5] END ..........C=0.00018873918221350977;, score=0.637 total time=   0.0s\n",
      "[CV 1/5] END ...........C=0.0003562247890262444;, score=0.656 total time=   0.0s\n",
      "[CV 2/5] END ...........C=0.0003562247890262444;, score=0.668 total time=   0.0s\n",
      "[CV 3/5] END ...........C=0.0003562247890262444;, score=0.679 total time=   0.0s\n",
      "[CV 4/5] END ...........C=0.0003562247890262444;, score=0.672 total time=   0.0s\n",
      "[CV 5/5] END ...........C=0.0003562247890262444;, score=0.651 total time=   0.0s\n",
      "[CV 1/5] END ...........C=0.0006723357536499335;, score=0.666 total time=   0.0s\n",
      "[CV 2/5] END ...........C=0.0006723357536499335;, score=0.672 total time=   0.0s\n",
      "[CV 3/5] END ...........C=0.0006723357536499335;, score=0.688 total time=   0.0s\n",
      "[CV 4/5] END ...........C=0.0006723357536499335;, score=0.676 total time=   0.0s\n",
      "[CV 5/5] END ...........C=0.0006723357536499335;, score=0.672 total time=   0.0s\n",
      "[CV 1/5] END ...........C=0.0012689610031679222;, score=0.682 total time=   0.0s\n",
      "[CV 2/5] END ...........C=0.0012689610031679222;, score=0.681 total time=   0.0s\n",
      "[CV 3/5] END ...........C=0.0012689610031679222;, score=0.695 total time=   0.0s\n",
      "[CV 4/5] END ...........C=0.0012689610031679222;, score=0.679 total time=   0.0s\n",
      "[CV 5/5] END ...........C=0.0012689610031679222;, score=0.668 total time=   0.0s\n",
      "[CV 1/5] END ............C=0.002395026619987486;, score=0.693 total time=   0.0s\n",
      "[CV 2/5] END ............C=0.002395026619987486;, score=0.693 total time=   0.0s\n",
      "[CV 3/5] END ............C=0.002395026619987486;, score=0.697 total time=   0.0s\n",
      "[CV 4/5] END ............C=0.002395026619987486;, score=0.687 total time=   0.0s\n",
      "[CV 5/5] END ............C=0.002395026619987486;, score=0.678 total time=   0.0s\n",
      "[CV 1/5] END ............C=0.004520353656360241;, score=0.697 total time=   0.0s\n",
      "[CV 2/5] END ............C=0.004520353656360241;, score=0.698 total time=   0.0s\n",
      "[CV 3/5] END ............C=0.004520353656360241;, score=0.706 total time=   0.0s\n",
      "[CV 4/5] END ............C=0.004520353656360241;, score=0.688 total time=   0.0s\n",
      "[CV 5/5] END ............C=0.004520353656360241;, score=0.688 total time=   0.0s\n",
      "[CV 1/5] END ............C=0.008531678524172805;, score=0.699 total time=   0.0s\n",
      "[CV 2/5] END ............C=0.008531678524172805;, score=0.700 total time=   0.0s\n",
      "[CV 3/5] END ............C=0.008531678524172805;, score=0.703 total time=   0.0s\n",
      "[CV 4/5] END ............C=0.008531678524172805;, score=0.694 total time=   0.0s\n",
      "[CV 5/5] END ............C=0.008531678524172805;, score=0.695 total time=   0.0s\n",
      "[CV 1/5] END .............C=0.01610262027560939;, score=0.700 total time=   0.0s\n",
      "[CV 2/5] END .............C=0.01610262027560939;, score=0.700 total time=   0.0s\n",
      "[CV 3/5] END .............C=0.01610262027560939;, score=0.706 total time=   0.0s\n",
      "[CV 4/5] END .............C=0.01610262027560939;, score=0.698 total time=   0.0s\n",
      "[CV 5/5] END .............C=0.01610262027560939;, score=0.694 total time=   0.0s\n",
      "[CV 1/5] END .............C=0.03039195382313198;, score=0.702 total time=   0.0s\n",
      "[CV 2/5] END .............C=0.03039195382313198;, score=0.696 total time=   0.0s\n",
      "[CV 3/5] END .............C=0.03039195382313198;, score=0.708 total time=   0.0s\n",
      "[CV 4/5] END .............C=0.03039195382313198;, score=0.697 total time=   0.0s\n",
      "[CV 5/5] END .............C=0.03039195382313198;, score=0.693 total time=   0.0s\n",
      "[CV 1/5] END .............C=0.05736152510448681;, score=0.702 total time=   0.0s\n",
      "[CV 2/5] END .............C=0.05736152510448681;, score=0.696 total time=   0.0s\n",
      "[CV 3/5] END .............C=0.05736152510448681;, score=0.711 total time=   0.0s\n",
      "[CV 4/5] END .............C=0.05736152510448681;, score=0.697 total time=   0.0s\n",
      "[CV 5/5] END .............C=0.05736152510448681;, score=0.693 total time=   0.0s\n",
      "[CV 1/5] END ..............C=0.1082636733874054;, score=0.702 total time=   0.0s\n",
      "[CV 2/5] END ..............C=0.1082636733874054;, score=0.695 total time=   0.0s\n",
      "[CV 3/5] END ..............C=0.1082636733874054;, score=0.711 total time=   0.0s\n",
      "[CV 4/5] END ..............C=0.1082636733874054;, score=0.700 total time=   0.0s\n",
      "[CV 5/5] END ..............C=0.1082636733874054;, score=0.692 total time=   0.0s\n",
      "[CV 1/5] END .............C=0.20433597178569418;, score=0.706 total time=   0.0s\n",
      "[CV 2/5] END .............C=0.20433597178569418;, score=0.697 total time=   0.0s\n",
      "[CV 3/5] END .............C=0.20433597178569418;, score=0.709 total time=   0.0s\n",
      "[CV 4/5] END .............C=0.20433597178569418;, score=0.700 total time=   0.0s\n",
      "[CV 5/5] END .............C=0.20433597178569418;, score=0.694 total time=   0.0s\n",
      "[CV 1/5] END .............C=0.38566204211634725;, score=0.706 total time=   0.0s\n",
      "[CV 2/5] END .............C=0.38566204211634725;, score=0.697 total time=   0.0s\n",
      "[CV 3/5] END .............C=0.38566204211634725;, score=0.710 total time=   0.0s\n",
      "[CV 4/5] END .............C=0.38566204211634725;, score=0.701 total time=   0.0s\n",
      "[CV 5/5] END .............C=0.38566204211634725;, score=0.694 total time=   0.0s\n",
      "[CV 1/5] END ..............C=0.7278953843983146;, score=0.703 total time=   0.0s\n",
      "[CV 2/5] END ..............C=0.7278953843983146;, score=0.697 total time=   0.0s\n",
      "[CV 3/5] END ..............C=0.7278953843983146;, score=0.710 total time=   0.0s\n",
      "[CV 4/5] END ..............C=0.7278953843983146;, score=0.700 total time=   0.0s\n",
      "[CV 5/5] END ..............C=0.7278953843983146;, score=0.694 total time=   0.0s\n",
      "[CV 1/5] END ..............C=1.3738237958832638;, score=0.703 total time=   0.0s\n",
      "[CV 2/5] END ..............C=1.3738237958832638;, score=0.697 total time=   0.0s\n",
      "[CV 3/5] END ..............C=1.3738237958832638;, score=0.710 total time=   0.0s\n",
      "[CV 4/5] END ..............C=1.3738237958832638;, score=0.699 total time=   0.0s\n",
      "[CV 5/5] END ..............C=1.3738237958832638;, score=0.694 total time=   0.0s\n",
      "[CV 1/5] END ...............C=2.592943797404667;, score=0.704 total time=   0.0s\n",
      "[CV 2/5] END ...............C=2.592943797404667;, score=0.697 total time=   0.0s\n",
      "[CV 3/5] END ...............C=2.592943797404667;, score=0.710 total time=   0.0s\n",
      "[CV 4/5] END ...............C=2.592943797404667;, score=0.698 total time=   0.0s\n",
      "[CV 5/5] END ...............C=2.592943797404667;, score=0.694 total time=   0.0s\n",
      "[CV 1/5] END ...............C=4.893900918477489;, score=0.704 total time=   0.0s\n",
      "[CV 2/5] END ...............C=4.893900918477489;, score=0.697 total time=   0.0s\n",
      "[CV 3/5] END ...............C=4.893900918477489;, score=0.710 total time=   0.0s\n",
      "[CV 4/5] END ...............C=4.893900918477489;, score=0.698 total time=   0.0s\n",
      "[CV 5/5] END ...............C=4.893900918477489;, score=0.694 total time=   0.0s\n",
      "[CV 1/5] END ...............C=9.236708571873866;, score=0.704 total time=   0.0s\n",
      "[CV 2/5] END ...............C=9.236708571873866;, score=0.697 total time=   0.0s\n",
      "[CV 3/5] END ...............C=9.236708571873866;, score=0.710 total time=   0.0s\n",
      "[CV 4/5] END ...............C=9.236708571873866;, score=0.698 total time=   0.0s\n",
      "[CV 5/5] END ...............C=9.236708571873866;, score=0.694 total time=   0.0s\n",
      "[CV 1/5] END ..............C=17.433288221999874;, score=0.704 total time=   0.0s\n",
      "[CV 2/5] END ..............C=17.433288221999874;, score=0.697 total time=   0.0s\n",
      "[CV 3/5] END ..............C=17.433288221999874;, score=0.710 total time=   0.0s\n",
      "[CV 4/5] END ..............C=17.433288221999874;, score=0.698 total time=   0.0s\n",
      "[CV 5/5] END ..............C=17.433288221999874;, score=0.694 total time=   0.0s\n",
      "[CV 1/5] END ...............C=32.90344562312671;, score=0.704 total time=   0.0s\n",
      "[CV 2/5] END ...............C=32.90344562312671;, score=0.697 total time=   0.0s\n",
      "[CV 3/5] END ...............C=32.90344562312671;, score=0.710 total time=   0.0s\n",
      "[CV 4/5] END ...............C=32.90344562312671;, score=0.698 total time=   0.0s\n",
      "[CV 5/5] END ...............C=32.90344562312671;, score=0.694 total time=   0.0s\n"
     ]
    },
    {
     "name": "stdout",
     "output_type": "stream",
     "text": [
      "[CV 1/5] END ...............C=62.10169418915616;, score=0.704 total time=   0.0s\n",
      "[CV 2/5] END ...............C=62.10169418915616;, score=0.697 total time=   0.0s\n",
      "[CV 3/5] END ...............C=62.10169418915616;, score=0.710 total time=   0.0s\n",
      "[CV 4/5] END ...............C=62.10169418915616;, score=0.698 total time=   0.0s\n",
      "[CV 5/5] END ...............C=62.10169418915616;, score=0.694 total time=   0.0s\n",
      "[CV 1/5] END ..............C=117.21022975334793;, score=0.704 total time=   0.0s\n",
      "[CV 2/5] END ..............C=117.21022975334793;, score=0.697 total time=   0.0s\n",
      "[CV 3/5] END ..............C=117.21022975334793;, score=0.710 total time=   0.0s\n",
      "[CV 4/5] END ..............C=117.21022975334793;, score=0.698 total time=   0.0s\n",
      "[CV 5/5] END ..............C=117.21022975334793;, score=0.694 total time=   0.0s\n",
      "[CV 1/5] END ..............C=221.22162910704503;, score=0.704 total time=   0.0s\n",
      "[CV 2/5] END ..............C=221.22162910704503;, score=0.697 total time=   0.0s\n",
      "[CV 3/5] END ..............C=221.22162910704503;, score=0.710 total time=   0.0s\n",
      "[CV 4/5] END ..............C=221.22162910704503;, score=0.698 total time=   0.0s\n",
      "[CV 5/5] END ..............C=221.22162910704503;, score=0.694 total time=   0.0s\n",
      "[CV 1/5] END ..............C=417.53189365604004;, score=0.704 total time=   0.0s\n",
      "[CV 2/5] END ..............C=417.53189365604004;, score=0.697 total time=   0.0s\n",
      "[CV 3/5] END ..............C=417.53189365604004;, score=0.710 total time=   0.0s\n",
      "[CV 4/5] END ..............C=417.53189365604004;, score=0.698 total time=   0.0s\n",
      "[CV 5/5] END ..............C=417.53189365604004;, score=0.694 total time=   0.0s\n",
      "[CV 1/5] END ...............C=788.0462815669904;, score=0.704 total time=   0.0s\n",
      "[CV 2/5] END ...............C=788.0462815669904;, score=0.697 total time=   0.0s\n",
      "[CV 3/5] END ...............C=788.0462815669904;, score=0.710 total time=   0.0s\n",
      "[CV 4/5] END ...............C=788.0462815669904;, score=0.698 total time=   0.0s\n",
      "[CV 5/5] END ...............C=788.0462815669904;, score=0.694 total time=   0.0s\n",
      "[CV 1/5] END ..............C=1487.3521072935118;, score=0.704 total time=   0.0s\n",
      "[CV 2/5] END ..............C=1487.3521072935118;, score=0.697 total time=   0.0s\n",
      "[CV 3/5] END ..............C=1487.3521072935118;, score=0.710 total time=   0.0s\n",
      "[CV 4/5] END ..............C=1487.3521072935118;, score=0.698 total time=   0.0s\n",
      "[CV 5/5] END ..............C=1487.3521072935118;, score=0.694 total time=   0.0s\n",
      "[CV 1/5] END ..............C=2807.2162039411755;, score=0.704 total time=   0.0s\n",
      "[CV 2/5] END ..............C=2807.2162039411755;, score=0.697 total time=   0.0s\n",
      "[CV 3/5] END ..............C=2807.2162039411755;, score=0.710 total time=   0.0s\n",
      "[CV 4/5] END ..............C=2807.2162039411755;, score=0.698 total time=   0.0s\n",
      "[CV 5/5] END ..............C=2807.2162039411755;, score=0.694 total time=   0.0s\n",
      "[CV 1/5] END ...............C=5298.316906283702;, score=0.704 total time=   0.0s\n",
      "[CV 2/5] END ...............C=5298.316906283702;, score=0.697 total time=   0.0s\n",
      "[CV 3/5] END ...............C=5298.316906283702;, score=0.710 total time=   0.0s\n",
      "[CV 4/5] END ...............C=5298.316906283702;, score=0.698 total time=   0.0s\n",
      "[CV 5/5] END ...............C=5298.316906283702;, score=0.694 total time=   0.0s\n",
      "[CV 1/5] END .........................C=10000.0;, score=0.704 total time=   0.0s\n",
      "[CV 2/5] END .........................C=10000.0;, score=0.697 total time=   0.0s\n",
      "[CV 3/5] END .........................C=10000.0;, score=0.710 total time=   0.0s\n",
      "[CV 4/5] END .........................C=10000.0;, score=0.698 total time=   0.0s\n",
      "[CV 5/5] END .........................C=10000.0;, score=0.694 total time=   0.0s\n"
     ]
    },
    {
     "data": {
      "text/plain": [
       "GridSearchCV(cv=5, estimator=LogisticRegression(max_iter=10000),\n",
       "             param_grid=[{'C': array([1.00000000e-04, 1.88739182e-04, 3.56224789e-04, 6.72335754e-04,\n",
       "       1.26896100e-03, 2.39502662e-03, 4.52035366e-03, 8.53167852e-03,\n",
       "       1.61026203e-02, 3.03919538e-02, 5.73615251e-02, 1.08263673e-01,\n",
       "       2.04335972e-01, 3.85662042e-01, 7.27895384e-01, 1.37382380e+00,\n",
       "       2.59294380e+00, 4.89390092e+00, 9.23670857e+00, 1.74332882e+01,\n",
       "       3.29034456e+01, 6.21016942e+01, 1.17210230e+02, 2.21221629e+02,\n",
       "       4.17531894e+02, 7.88046282e+02, 1.48735211e+03, 2.80721620e+03,\n",
       "       5.29831691e+03, 1.00000000e+04])}],\n",
       "             scoring='f1', verbose=3)"
      ]
     },
     "execution_count": 322,
     "metadata": {},
     "output_type": "execute_result"
    }
   ],
   "source": [
    "# Yeo-Johnson\n",
    "\n",
    "log_reg = LogisticRegression(penalty='l2', max_iter=10000)\n",
    "reg_coef =  np.logspace(-4, 4, 30)\n",
    "tuned_parameters = [{'C': reg_coef}]\n",
    "nb_folds = 5\n",
    "grid = GridSearchCV(log_reg, tuned_parameters, cv=nb_folds, refit=True, verbose=3, scoring='f1')\n",
    "grid.fit(X_train_preprocessed, y_train)"
   ]
  },
  {
   "cell_type": "markdown",
   "id": "1211c7e8-986d-4e46-918e-f09f7215c924",
   "metadata": {
    "tags": []
   },
   "source": [
    "#### Question 13.b\n",
    "Quel est le F-score, sur le jeu de test, d'une régression logistique avec régularisation ridge et ce coefficient de régularisation optimal, entraînée sur le jeu d'entraînement ?"
   ]
  },
  {
   "cell_type": "code",
   "execution_count": 323,
   "id": "52428c16-db07-4202-bf97-8ada338b01b9",
   "metadata": {},
   "outputs": [
    {
     "name": "stdout",
     "output_type": "stream",
     "text": [
      "0.7014538409120783\n",
      "{'C': 0.20433597178569418}\n",
      "0.7079934747145188\n"
     ]
    }
   ],
   "source": [
    "print(grid.best_score_)\n",
    "print(grid.best_params_)\n",
    "y_pred = grid.best_estimator_.predict(X_test_preprocessed)\n",
    "print(f1_score(y_test, y_pred, average='binary'))"
   ]
  },
  {
   "cell_type": "code",
   "execution_count": 324,
   "id": "815c4065",
   "metadata": {},
   "outputs": [
    {
     "name": "stdout",
     "output_type": "stream",
     "text": [
      "Fitting 5 folds for each of 30 candidates, totalling 150 fits\n",
      "[CV 1/5] END ..........................C=0.0001;, score=0.000 total time=   0.0s\n",
      "[CV 2/5] END ..........................C=0.0001;, score=0.000 total time=   0.0s\n",
      "[CV 3/5] END ..........................C=0.0001;, score=0.000 total time=   0.0s\n",
      "[CV 4/5] END ..........................C=0.0001;, score=0.000 total time=   0.0s\n",
      "[CV 5/5] END ..........................C=0.0001;, score=0.667 total time=   0.0s\n",
      "[CV 1/5] END ..........C=0.00018873918221350977;, score=0.000 total time=   0.0s\n",
      "[CV 2/5] END ..........C=0.00018873918221350977;, score=0.667 total time=   0.0s\n",
      "[CV 3/5] END ..........C=0.00018873918221350977;, score=0.000 total time=   0.0s\n",
      "[CV 4/5] END ..........C=0.00018873918221350977;, score=0.667 total time=   0.0s\n",
      "[CV 5/5] END ..........C=0.00018873918221350977;, score=0.667 total time=   0.0s\n",
      "[CV 1/5] END ...........C=0.0003562247890262444;, score=0.000 total time=   0.0s\n",
      "[CV 2/5] END ...........C=0.0003562247890262444;, score=0.667 total time=   0.0s\n",
      "[CV 3/5] END ...........C=0.0003562247890262444;, score=0.000 total time=   0.0s\n",
      "[CV 4/5] END ...........C=0.0003562247890262444;, score=0.667 total time=   0.0s\n",
      "[CV 5/5] END ...........C=0.0003562247890262444;, score=0.667 total time=   0.0s\n",
      "[CV 1/5] END ...........C=0.0006723357536499335;, score=0.000 total time=   0.0s\n",
      "[CV 2/5] END ...........C=0.0006723357536499335;, score=0.667 total time=   0.0s\n",
      "[CV 3/5] END ...........C=0.0006723357536499335;, score=0.667 total time=   0.0s\n",
      "[CV 4/5] END ...........C=0.0006723357536499335;, score=0.000 total time=   0.0s\n",
      "[CV 5/5] END ...........C=0.0006723357536499335;, score=0.667 total time=   0.0s\n",
      "[CV 1/5] END ...........C=0.0012689610031679222;, score=0.667 total time=   0.0s\n",
      "[CV 2/5] END ...........C=0.0012689610031679222;, score=0.000 total time=   0.0s\n",
      "[CV 3/5] END ...........C=0.0012689610031679222;, score=0.667 total time=   0.0s\n",
      "[CV 4/5] END ...........C=0.0012689610031679222;, score=0.000 total time=   0.0s\n",
      "[CV 5/5] END ...........C=0.0012689610031679222;, score=0.667 total time=   0.0s\n",
      "[CV 1/5] END ............C=0.002395026619987486;, score=0.647 total time=   0.0s\n",
      "[CV 2/5] END ............C=0.002395026619987486;, score=0.661 total time=   0.0s\n",
      "[CV 3/5] END ............C=0.002395026619987486;, score=0.661 total time=   0.0s\n",
      "[CV 4/5] END ............C=0.002395026619987486;, score=0.644 total time=   0.0s\n",
      "[CV 5/5] END ............C=0.002395026619987486;, score=0.626 total time=   0.0s\n",
      "[CV 1/5] END ............C=0.004520353656360241;, score=0.686 total time=   0.0s\n",
      "[CV 2/5] END ............C=0.004520353656360241;, score=0.693 total time=   0.0s\n",
      "[CV 3/5] END ............C=0.004520353656360241;, score=0.704 total time=   0.0s\n",
      "[CV 4/5] END ............C=0.004520353656360241;, score=0.670 total time=   0.0s\n",
      "[CV 5/5] END ............C=0.004520353656360241;, score=0.667 total time=   0.0s\n",
      "[CV 1/5] END ............C=0.008531678524172805;, score=0.693 total time=   0.0s\n",
      "[CV 2/5] END ............C=0.008531678524172805;, score=0.684 total time=   0.0s\n",
      "[CV 3/5] END ............C=0.008531678524172805;, score=0.699 total time=   0.0s\n",
      "[CV 4/5] END ............C=0.008531678524172805;, score=0.671 total time=   0.0s\n",
      "[CV 5/5] END ............C=0.008531678524172805;, score=0.669 total time=   0.0s\n",
      "[CV 1/5] END .............C=0.01610262027560939;, score=0.700 total time=   0.0s\n",
      "[CV 2/5] END .............C=0.01610262027560939;, score=0.690 total time=   0.0s\n",
      "[CV 3/5] END .............C=0.01610262027560939;, score=0.701 total time=   0.0s\n",
      "[CV 4/5] END .............C=0.01610262027560939;, score=0.685 total time=   0.0s\n",
      "[CV 5/5] END .............C=0.01610262027560939;, score=0.679 total time=   0.0s\n",
      "[CV 1/5] END .............C=0.03039195382313198;, score=0.692 total time=   0.0s\n",
      "[CV 2/5] END .............C=0.03039195382313198;, score=0.695 total time=   0.0s\n",
      "[CV 3/5] END .............C=0.03039195382313198;, score=0.712 total time=   0.0s\n",
      "[CV 4/5] END .............C=0.03039195382313198;, score=0.694 total time=   0.0s\n",
      "[CV 5/5] END .............C=0.03039195382313198;, score=0.690 total time=   0.0s\n",
      "[CV 1/5] END .............C=0.05736152510448681;, score=0.692 total time=   0.0s\n",
      "[CV 2/5] END .............C=0.05736152510448681;, score=0.700 total time=   0.0s\n",
      "[CV 3/5] END .............C=0.05736152510448681;, score=0.712 total time=   0.0s\n",
      "[CV 4/5] END .............C=0.05736152510448681;, score=0.698 total time=   0.0s\n",
      "[CV 5/5] END .............C=0.05736152510448681;, score=0.695 total time=   0.0s\n",
      "[CV 1/5] END ..............C=0.1082636733874054;, score=0.695 total time=   0.0s\n",
      "[CV 2/5] END ..............C=0.1082636733874054;, score=0.699 total time=   0.0s\n",
      "[CV 3/5] END ..............C=0.1082636733874054;, score=0.712 total time=   0.0s\n",
      "[CV 4/5] END ..............C=0.1082636733874054;, score=0.699 total time=   0.0s\n",
      "[CV 5/5] END ..............C=0.1082636733874054;, score=0.693 total time=   0.0s\n",
      "[CV 1/5] END .............C=0.20433597178569418;, score=0.702 total time=   0.0s\n",
      "[CV 2/5] END .............C=0.20433597178569418;, score=0.697 total time=   0.0s\n",
      "[CV 3/5] END .............C=0.20433597178569418;, score=0.710 total time=   0.0s\n",
      "[CV 4/5] END .............C=0.20433597178569418;, score=0.698 total time=   0.0s\n",
      "[CV 5/5] END .............C=0.20433597178569418;, score=0.694 total time=   0.0s\n",
      "[CV 1/5] END .............C=0.38566204211634725;, score=0.702 total time=   0.0s\n",
      "[CV 2/5] END .............C=0.38566204211634725;, score=0.695 total time=   0.0s\n",
      "[CV 3/5] END .............C=0.38566204211634725;, score=0.712 total time=   0.0s\n",
      "[CV 4/5] END .............C=0.38566204211634725;, score=0.700 total time=   0.0s\n",
      "[CV 5/5] END .............C=0.38566204211634725;, score=0.694 total time=   0.0s\n",
      "[CV 1/5] END ..............C=0.7278953843983146;, score=0.706 total time=   0.0s\n",
      "[CV 2/5] END ..............C=0.7278953843983146;, score=0.695 total time=   0.0s\n",
      "[CV 3/5] END ..............C=0.7278953843983146;, score=0.711 total time=   0.0s\n",
      "[CV 4/5] END ..............C=0.7278953843983146;, score=0.700 total time=   0.0s\n",
      "[CV 5/5] END ..............C=0.7278953843983146;, score=0.694 total time=   0.0s\n",
      "[CV 1/5] END ..............C=1.3738237958832638;, score=0.706 total time=   0.0s\n",
      "[CV 2/5] END ..............C=1.3738237958832638;, score=0.697 total time=   0.0s\n",
      "[CV 3/5] END ..............C=1.3738237958832638;, score=0.711 total time=   0.0s\n",
      "[CV 4/5] END ..............C=1.3738237958832638;, score=0.701 total time=   0.0s\n",
      "[CV 5/5] END ..............C=1.3738237958832638;, score=0.695 total time=   0.0s\n",
      "[CV 1/5] END ...............C=2.592943797404667;, score=0.704 total time=   0.0s\n",
      "[CV 2/5] END ...............C=2.592943797404667;, score=0.697 total time=   0.0s\n",
      "[CV 3/5] END ...............C=2.592943797404667;, score=0.710 total time=   0.0s\n",
      "[CV 4/5] END ...............C=2.592943797404667;, score=0.700 total time=   0.0s\n",
      "[CV 5/5] END ...............C=2.592943797404667;, score=0.694 total time=   0.0s\n",
      "[CV 1/5] END ...............C=4.893900918477489;, score=0.704 total time=   0.0s\n",
      "[CV 2/5] END ...............C=4.893900918477489;, score=0.697 total time=   0.0s\n",
      "[CV 3/5] END ...............C=4.893900918477489;, score=0.710 total time=   0.0s\n",
      "[CV 4/5] END ...............C=4.893900918477489;, score=0.700 total time=   0.0s\n",
      "[CV 5/5] END ...............C=4.893900918477489;, score=0.694 total time=   0.0s\n",
      "[CV 1/5] END ...............C=9.236708571873866;, score=0.704 total time=   0.0s\n",
      "[CV 2/5] END ...............C=9.236708571873866;, score=0.697 total time=   0.0s\n",
      "[CV 3/5] END ...............C=9.236708571873866;, score=0.710 total time=   0.0s\n",
      "[CV 4/5] END ...............C=9.236708571873866;, score=0.698 total time=   0.0s\n",
      "[CV 5/5] END ...............C=9.236708571873866;, score=0.694 total time=   0.0s\n",
      "[CV 1/5] END ..............C=17.433288221999874;, score=0.704 total time=   0.0s\n",
      "[CV 2/5] END ..............C=17.433288221999874;, score=0.697 total time=   0.0s\n",
      "[CV 3/5] END ..............C=17.433288221999874;, score=0.710 total time=   0.0s\n",
      "[CV 4/5] END ..............C=17.433288221999874;, score=0.698 total time=   0.0s\n",
      "[CV 5/5] END ..............C=17.433288221999874;, score=0.694 total time=   0.0s\n",
      "[CV 1/5] END ...............C=32.90344562312671;, score=0.704 total time=   0.0s\n",
      "[CV 2/5] END ...............C=32.90344562312671;, score=0.697 total time=   0.0s\n",
      "[CV 3/5] END ...............C=32.90344562312671;, score=0.710 total time=   0.0s\n",
      "[CV 4/5] END ...............C=32.90344562312671;, score=0.698 total time=   0.0s\n",
      "[CV 5/5] END ...............C=32.90344562312671;, score=0.694 total time=   0.0s\n",
      "[CV 1/5] END ...............C=62.10169418915616;, score=0.704 total time=   0.0s\n",
      "[CV 2/5] END ...............C=62.10169418915616;, score=0.697 total time=   0.0s\n",
      "[CV 3/5] END ...............C=62.10169418915616;, score=0.710 total time=   0.0s\n",
      "[CV 4/5] END ...............C=62.10169418915616;, score=0.698 total time=   0.0s\n"
     ]
    },
    {
     "name": "stdout",
     "output_type": "stream",
     "text": [
      "[CV 5/5] END ...............C=62.10169418915616;, score=0.694 total time=   0.0s\n",
      "[CV 1/5] END ..............C=117.21022975334793;, score=0.704 total time=   0.0s\n",
      "[CV 2/5] END ..............C=117.21022975334793;, score=0.697 total time=   0.0s\n",
      "[CV 3/5] END ..............C=117.21022975334793;, score=0.710 total time=   0.0s\n",
      "[CV 4/5] END ..............C=117.21022975334793;, score=0.698 total time=   0.0s\n",
      "[CV 5/5] END ..............C=117.21022975334793;, score=0.694 total time=   0.0s\n",
      "[CV 1/5] END ..............C=221.22162910704503;, score=0.704 total time=   0.0s\n",
      "[CV 2/5] END ..............C=221.22162910704503;, score=0.697 total time=   0.0s\n",
      "[CV 3/5] END ..............C=221.22162910704503;, score=0.710 total time=   0.0s\n",
      "[CV 4/5] END ..............C=221.22162910704503;, score=0.698 total time=   0.0s\n",
      "[CV 5/5] END ..............C=221.22162910704503;, score=0.694 total time=   0.0s\n",
      "[CV 1/5] END ..............C=417.53189365604004;, score=0.704 total time=   0.0s\n",
      "[CV 2/5] END ..............C=417.53189365604004;, score=0.697 total time=   0.0s\n",
      "[CV 3/5] END ..............C=417.53189365604004;, score=0.710 total time=   0.0s\n",
      "[CV 4/5] END ..............C=417.53189365604004;, score=0.698 total time=   0.0s\n",
      "[CV 5/5] END ..............C=417.53189365604004;, score=0.694 total time=   0.0s\n",
      "[CV 1/5] END ...............C=788.0462815669904;, score=0.704 total time=   0.0s\n",
      "[CV 2/5] END ...............C=788.0462815669904;, score=0.697 total time=   0.0s\n",
      "[CV 3/5] END ...............C=788.0462815669904;, score=0.710 total time=   0.0s\n",
      "[CV 4/5] END ...............C=788.0462815669904;, score=0.698 total time=   0.0s\n",
      "[CV 5/5] END ...............C=788.0462815669904;, score=0.694 total time=   0.0s\n",
      "[CV 1/5] END ..............C=1487.3521072935118;, score=0.704 total time=   0.0s\n",
      "[CV 2/5] END ..............C=1487.3521072935118;, score=0.697 total time=   0.0s\n",
      "[CV 3/5] END ..............C=1487.3521072935118;, score=0.710 total time=   0.0s\n",
      "[CV 4/5] END ..............C=1487.3521072935118;, score=0.698 total time=   0.0s\n",
      "[CV 5/5] END ..............C=1487.3521072935118;, score=0.694 total time=   0.0s\n",
      "[CV 1/5] END ..............C=2807.2162039411755;, score=0.704 total time=   0.0s\n",
      "[CV 2/5] END ..............C=2807.2162039411755;, score=0.697 total time=   0.0s\n",
      "[CV 3/5] END ..............C=2807.2162039411755;, score=0.710 total time=   0.0s\n",
      "[CV 4/5] END ..............C=2807.2162039411755;, score=0.698 total time=   0.0s\n",
      "[CV 5/5] END ..............C=2807.2162039411755;, score=0.694 total time=   0.0s\n",
      "[CV 1/5] END ...............C=5298.316906283702;, score=0.704 total time=   0.0s\n",
      "[CV 2/5] END ...............C=5298.316906283702;, score=0.697 total time=   0.0s\n",
      "[CV 3/5] END ...............C=5298.316906283702;, score=0.710 total time=   0.0s\n",
      "[CV 4/5] END ...............C=5298.316906283702;, score=0.698 total time=   0.0s\n",
      "[CV 5/5] END ...............C=5298.316906283702;, score=0.694 total time=   0.0s\n",
      "[CV 1/5] END .........................C=10000.0;, score=0.704 total time=   0.0s\n",
      "[CV 2/5] END .........................C=10000.0;, score=0.697 total time=   0.0s\n",
      "[CV 3/5] END .........................C=10000.0;, score=0.710 total time=   0.0s\n",
      "[CV 4/5] END .........................C=10000.0;, score=0.698 total time=   0.0s\n",
      "[CV 5/5] END .........................C=10000.0;, score=0.694 total time=   0.0s\n",
      "0.7016959487779911\n",
      "{'C': 1.3738237958832638}\n",
      "0.7079934747145188\n"
     ]
    }
   ],
   "source": [
    "log_reg = LogisticRegression(penalty='l1', max_iter=10000, solver='saga')\n",
    "reg_coef =  np.logspace(-4, 4, 30)\n",
    "tuned_parameters = [{'C': reg_coef}]\n",
    "nb_folds = 5\n",
    "grid = GridSearchCV(log_reg, tuned_parameters, cv=nb_folds, refit=True, verbose=3, scoring='f1')\n",
    "grid.fit(X_train_preprocessed, y_train)\n",
    "print(grid.best_score_)\n",
    "print(grid.best_params_)\n",
    "y_pred = grid.best_estimator_.predict(X_test_preprocessed)\n",
    "print(f1_score(y_test, y_pred, average='binary'))"
   ]
  },
  {
   "cell_type": "code",
   "execution_count": 325,
   "id": "b9ba0f09",
   "metadata": {},
   "outputs": [
    {
     "name": "stdout",
     "output_type": "stream",
     "text": [
      "Fitting 5 folds for each of 30 candidates, totalling 150 fits\n",
      "[CV 1/5] END ..........................C=0.0001;, score=0.000 total time=   0.0s\n",
      "[CV 2/5] END ..........................C=0.0001;, score=0.000 total time=   0.0s\n",
      "[CV 3/5] END ..........................C=0.0001;, score=0.000 total time=   0.0s\n",
      "[CV 4/5] END ..........................C=0.0001;, score=0.667 total time=   0.0s\n",
      "[CV 5/5] END ..........................C=0.0001;, score=0.000 total time=   0.0s\n",
      "[CV 1/5] END ..........C=0.00018873918221350977;, score=0.667 total time=   0.0s\n",
      "[CV 2/5] END ..........C=0.00018873918221350977;, score=0.667 total time=   0.0s\n",
      "[CV 3/5] END ..........C=0.00018873918221350977;, score=0.667 total time=   0.0s\n",
      "[CV 4/5] END ..........C=0.00018873918221350977;, score=0.000 total time=   0.0s\n",
      "[CV 5/5] END ..........C=0.00018873918221350977;, score=0.667 total time=   0.0s\n",
      "[CV 1/5] END ...........C=0.0003562247890262444;, score=0.667 total time=   0.0s\n",
      "[CV 2/5] END ...........C=0.0003562247890262444;, score=0.667 total time=   0.0s\n",
      "[CV 3/5] END ...........C=0.0003562247890262444;, score=0.667 total time=   0.0s\n",
      "[CV 4/5] END ...........C=0.0003562247890262444;, score=0.667 total time=   0.0s\n",
      "[CV 5/5] END ...........C=0.0003562247890262444;, score=0.000 total time=   0.0s\n",
      "[CV 1/5] END ...........C=0.0006723357536499335;, score=0.000 total time=   0.0s\n",
      "[CV 2/5] END ...........C=0.0006723357536499335;, score=0.000 total time=   0.0s\n",
      "[CV 3/5] END ...........C=0.0006723357536499335;, score=0.000 total time=   0.0s\n",
      "[CV 4/5] END ...........C=0.0006723357536499335;, score=0.667 total time=   0.0s\n",
      "[CV 5/5] END ...........C=0.0006723357536499335;, score=0.000 total time=   0.0s\n",
      "[CV 1/5] END ...........C=0.0012689610031679222;, score=0.000 total time=   0.0s\n",
      "[CV 2/5] END ...........C=0.0012689610031679222;, score=0.000 total time=   0.0s\n",
      "[CV 3/5] END ...........C=0.0012689610031679222;, score=0.667 total time=   0.0s\n",
      "[CV 4/5] END ...........C=0.0012689610031679222;, score=0.000 total time=   0.0s\n",
      "[CV 5/5] END ...........C=0.0012689610031679222;, score=0.000 total time=   0.0s\n",
      "[CV 1/5] END ............C=0.002395026619987486;, score=0.779 total time=   0.0s\n",
      "[CV 2/5] END ............C=0.002395026619987486;, score=0.782 total time=   0.0s\n",
      "[CV 3/5] END ............C=0.002395026619987486;, score=0.787 total time=   0.0s\n",
      "[CV 4/5] END ............C=0.002395026619987486;, score=0.767 total time=   0.0s\n",
      "[CV 5/5] END ............C=0.002395026619987486;, score=0.773 total time=   0.0s\n",
      "[CV 1/5] END ............C=0.004520353656360241;, score=0.801 total time=   0.0s\n",
      "[CV 2/5] END ............C=0.004520353656360241;, score=0.765 total time=   0.0s\n",
      "[CV 3/5] END ............C=0.004520353656360241;, score=0.793 total time=   0.0s\n",
      "[CV 4/5] END ............C=0.004520353656360241;, score=0.779 total time=   0.0s\n",
      "[CV 5/5] END ............C=0.004520353656360241;, score=0.785 total time=   0.0s\n",
      "[CV 1/5] END ............C=0.008531678524172805;, score=0.796 total time=   0.0s\n",
      "[CV 2/5] END ............C=0.008531678524172805;, score=0.761 total time=   0.0s\n",
      "[CV 3/5] END ............C=0.008531678524172805;, score=0.790 total time=   0.0s\n",
      "[CV 4/5] END ............C=0.008531678524172805;, score=0.770 total time=   0.0s\n",
      "[CV 5/5] END ............C=0.008531678524172805;, score=0.776 total time=   0.0s\n",
      "[CV 1/5] END .............C=0.01610262027560939;, score=0.791 total time=   0.0s\n",
      "[CV 2/5] END .............C=0.01610262027560939;, score=0.763 total time=   0.0s\n",
      "[CV 3/5] END .............C=0.01610262027560939;, score=0.793 total time=   0.0s\n",
      "[CV 4/5] END .............C=0.01610262027560939;, score=0.770 total time=   0.0s\n",
      "[CV 5/5] END .............C=0.01610262027560939;, score=0.780 total time=   0.0s\n",
      "[CV 1/5] END .............C=0.03039195382313198;, score=0.779 total time=   0.0s\n",
      "[CV 2/5] END .............C=0.03039195382313198;, score=0.769 total time=   0.0s\n",
      "[CV 3/5] END .............C=0.03039195382313198;, score=0.781 total time=   0.0s\n",
      "[CV 4/5] END .............C=0.03039195382313198;, score=0.772 total time=   0.0s\n",
      "[CV 5/5] END .............C=0.03039195382313198;, score=0.782 total time=   0.0s\n",
      "[CV 1/5] END .............C=0.05736152510448681;, score=0.777 total time=   0.0s\n",
      "[CV 2/5] END .............C=0.05736152510448681;, score=0.772 total time=   0.0s\n",
      "[CV 3/5] END .............C=0.05736152510448681;, score=0.782 total time=   0.0s\n",
      "[CV 4/5] END .............C=0.05736152510448681;, score=0.772 total time=   0.0s\n",
      "[CV 5/5] END .............C=0.05736152510448681;, score=0.781 total time=   0.0s\n",
      "[CV 1/5] END ..............C=0.1082636733874054;, score=0.774 total time=   0.0s\n",
      "[CV 2/5] END ..............C=0.1082636733874054;, score=0.770 total time=   0.0s\n",
      "[CV 3/5] END ..............C=0.1082636733874054;, score=0.779 total time=   0.0s\n",
      "[CV 4/5] END ..............C=0.1082636733874054;, score=0.765 total time=   0.0s\n",
      "[CV 5/5] END ..............C=0.1082636733874054;, score=0.778 total time=   0.0s\n",
      "[CV 1/5] END .............C=0.20433597178569418;, score=0.773 total time=   0.0s\n",
      "[CV 2/5] END .............C=0.20433597178569418;, score=0.773 total time=   0.1s\n",
      "[CV 3/5] END .............C=0.20433597178569418;, score=0.779 total time=   0.0s\n",
      "[CV 4/5] END .............C=0.20433597178569418;, score=0.764 total time=   0.0s\n",
      "[CV 5/5] END .............C=0.20433597178569418;, score=0.773 total time=   0.0s\n",
      "[CV 1/5] END .............C=0.38566204211634725;, score=0.772 total time=   0.0s\n",
      "[CV 2/5] END .............C=0.38566204211634725;, score=0.772 total time=   0.0s\n",
      "[CV 3/5] END .............C=0.38566204211634725;, score=0.775 total time=   0.0s\n",
      "[CV 4/5] END .............C=0.38566204211634725;, score=0.761 total time=   0.2s\n",
      "[CV 5/5] END .............C=0.38566204211634725;, score=0.775 total time=   0.0s\n",
      "[CV 1/5] END ..............C=0.7278953843983146;, score=0.771 total time=   0.0s\n",
      "[CV 2/5] END ..............C=0.7278953843983146;, score=0.775 total time=   0.3s\n",
      "[CV 3/5] END ..............C=0.7278953843983146;, score=0.776 total time=   0.0s\n",
      "[CV 4/5] END ..............C=0.7278953843983146;, score=0.760 total time=   0.1s\n",
      "[CV 5/5] END ..............C=0.7278953843983146;, score=0.777 total time=   0.1s\n",
      "[CV 1/5] END ..............C=1.3738237958832638;, score=0.774 total time=   0.1s\n",
      "[CV 2/5] END ..............C=1.3738237958832638;, score=0.775 total time=   0.0s\n",
      "[CV 3/5] END ..............C=1.3738237958832638;, score=0.774 total time=   0.0s\n",
      "[CV 4/5] END ..............C=1.3738237958832638;, score=0.759 total time=   0.0s\n",
      "[CV 5/5] END ..............C=1.3738237958832638;, score=0.777 total time=   0.0s\n",
      "[CV 1/5] END ...............C=2.592943797404667;, score=0.774 total time=   0.0s\n",
      "[CV 2/5] END ...............C=2.592943797404667;, score=0.771 total time=   0.1s\n",
      "[CV 3/5] END ...............C=2.592943797404667;, score=0.774 total time=   0.1s\n",
      "[CV 4/5] END ...............C=2.592943797404667;, score=0.761 total time=   0.1s\n",
      "[CV 5/5] END ...............C=2.592943797404667;, score=0.777 total time=   0.1s\n",
      "[CV 1/5] END ...............C=4.893900918477489;, score=0.774 total time=   0.0s\n",
      "[CV 2/5] END ...............C=4.893900918477489;, score=0.770 total time=   0.1s\n",
      "[CV 3/5] END ...............C=4.893900918477489;, score=0.777 total time=   0.1s\n",
      "[CV 4/5] END ...............C=4.893900918477489;, score=0.761 total time=   0.2s\n",
      "[CV 5/5] END ...............C=4.893900918477489;, score=0.779 total time=   0.1s\n",
      "[CV 1/5] END ...............C=9.236708571873866;, score=0.774 total time=   0.1s\n",
      "[CV 2/5] END ...............C=9.236708571873866;, score=0.771 total time=   0.2s\n",
      "[CV 3/5] END ...............C=9.236708571873866;, score=0.775 total time=   0.2s\n",
      "[CV 4/5] END ...............C=9.236708571873866;, score=0.761 total time=   0.2s\n",
      "[CV 5/5] END ...............C=9.236708571873866;, score=0.777 total time=   0.1s\n",
      "[CV 1/5] END ..............C=17.433288221999874;, score=0.774 total time=   0.1s\n",
      "[CV 2/5] END ..............C=17.433288221999874;, score=0.772 total time=   0.1s\n",
      "[CV 3/5] END ..............C=17.433288221999874;, score=0.775 total time=   0.1s\n",
      "[CV 4/5] END ..............C=17.433288221999874;, score=0.761 total time=   0.1s\n",
      "[CV 5/5] END ..............C=17.433288221999874;, score=0.776 total time=   0.1s\n",
      "[CV 1/5] END ...............C=32.90344562312671;, score=0.772 total time=   0.1s\n"
     ]
    },
    {
     "name": "stdout",
     "output_type": "stream",
     "text": [
      "[CV 2/5] END ...............C=32.90344562312671;, score=0.772 total time=   0.1s\n",
      "[CV 3/5] END ...............C=32.90344562312671;, score=0.775 total time=   0.3s\n",
      "[CV 4/5] END ...............C=32.90344562312671;, score=0.761 total time=   0.1s\n",
      "[CV 5/5] END ...............C=32.90344562312671;, score=0.776 total time=   0.1s\n",
      "[CV 1/5] END ...............C=62.10169418915616;, score=0.772 total time=   0.1s\n",
      "[CV 2/5] END ...............C=62.10169418915616;, score=0.772 total time=   0.1s\n",
      "[CV 3/5] END ...............C=62.10169418915616;, score=0.775 total time=   0.1s\n",
      "[CV 4/5] END ...............C=62.10169418915616;, score=0.761 total time=   0.2s\n",
      "[CV 5/5] END ...............C=62.10169418915616;, score=0.776 total time=   0.1s\n",
      "[CV 1/5] END ..............C=117.21022975334793;, score=0.772 total time=   0.1s\n",
      "[CV 2/5] END ..............C=117.21022975334793;, score=0.772 total time=   0.2s\n",
      "[CV 3/5] END ..............C=117.21022975334793;, score=0.775 total time=   0.1s\n",
      "[CV 4/5] END ..............C=117.21022975334793;, score=0.761 total time=   0.1s\n",
      "[CV 5/5] END ..............C=117.21022975334793;, score=0.777 total time=   0.2s\n",
      "[CV 1/5] END ..............C=221.22162910704503;, score=0.772 total time=   0.1s\n",
      "[CV 2/5] END ..............C=221.22162910704503;, score=0.772 total time=   0.1s\n",
      "[CV 3/5] END ..............C=221.22162910704503;, score=0.775 total time=   0.1s\n",
      "[CV 4/5] END ..............C=221.22162910704503;, score=0.761 total time=   0.2s\n",
      "[CV 5/5] END ..............C=221.22162910704503;, score=0.777 total time=   0.2s\n",
      "[CV 1/5] END ..............C=417.53189365604004;, score=0.772 total time=   0.1s\n",
      "[CV 2/5] END ..............C=417.53189365604004;, score=0.772 total time=   0.2s\n",
      "[CV 3/5] END ..............C=417.53189365604004;, score=0.775 total time=   0.1s\n",
      "[CV 4/5] END ..............C=417.53189365604004;, score=0.761 total time=   0.1s\n",
      "[CV 5/5] END ..............C=417.53189365604004;, score=0.777 total time=   0.1s\n",
      "[CV 1/5] END ...............C=788.0462815669904;, score=0.772 total time=   0.1s\n",
      "[CV 2/5] END ...............C=788.0462815669904;, score=0.772 total time=   0.1s\n",
      "[CV 3/5] END ...............C=788.0462815669904;, score=0.775 total time=   0.1s\n",
      "[CV 4/5] END ...............C=788.0462815669904;, score=0.761 total time=   0.1s\n",
      "[CV 5/5] END ...............C=788.0462815669904;, score=0.777 total time=   0.1s\n",
      "[CV 1/5] END ..............C=1487.3521072935118;, score=0.772 total time=   0.1s\n",
      "[CV 2/5] END ..............C=1487.3521072935118;, score=0.772 total time=   0.1s\n",
      "[CV 3/5] END ..............C=1487.3521072935118;, score=0.775 total time=   0.2s\n",
      "[CV 4/5] END ..............C=1487.3521072935118;, score=0.761 total time=   0.1s\n",
      "[CV 5/5] END ..............C=1487.3521072935118;, score=0.777 total time=   0.1s\n",
      "[CV 1/5] END ..............C=2807.2162039411755;, score=0.772 total time=   0.1s\n",
      "[CV 2/5] END ..............C=2807.2162039411755;, score=0.772 total time=   0.2s\n",
      "[CV 3/5] END ..............C=2807.2162039411755;, score=0.775 total time=   0.2s\n",
      "[CV 4/5] END ..............C=2807.2162039411755;, score=0.761 total time=   0.1s\n",
      "[CV 5/5] END ..............C=2807.2162039411755;, score=0.777 total time=   0.1s\n",
      "[CV 1/5] END ...............C=5298.316906283702;, score=0.772 total time=   0.1s\n",
      "[CV 2/5] END ...............C=5298.316906283702;, score=0.772 total time=   0.2s\n",
      "[CV 3/5] END ...............C=5298.316906283702;, score=0.775 total time=   0.1s\n",
      "[CV 4/5] END ...............C=5298.316906283702;, score=0.761 total time=   0.2s\n",
      "[CV 5/5] END ...............C=5298.316906283702;, score=0.777 total time=   0.2s\n",
      "[CV 1/5] END .........................C=10000.0;, score=0.772 total time=   0.1s\n",
      "[CV 2/5] END .........................C=10000.0;, score=0.772 total time=   0.1s\n",
      "[CV 3/5] END .........................C=10000.0;, score=0.775 total time=   0.1s\n",
      "[CV 4/5] END .........................C=10000.0;, score=0.761 total time=   0.2s\n",
      "[CV 5/5] END .........................C=10000.0;, score=0.777 total time=   0.1s\n",
      "0.7844294511082107\n",
      "{'C': 0.004520353656360241}\n",
      "0.7768729641693811\n"
     ]
    }
   ],
   "source": [
    "log_reg_s = LogisticRegression(penalty='l1', max_iter=10000, solver='saga')\n",
    "reg_coef =  np.logspace(-4, 4, 30)\n",
    "tuned_parameters = [{'C': reg_coef}]\n",
    "nb_folds = 5\n",
    "grid_s = GridSearchCV(log_reg_s, tuned_parameters, cv=nb_folds, refit=True, verbose=3, scoring='f1')\n",
    "grid_s.fit(X_train_preprocessed_s, y_train)\n",
    "print(grid_s.best_score_)\n",
    "print(grid_s.best_params_)\n",
    "y_pred_s = grid_s.best_estimator_.predict(X_test_preprocessed_s)\n",
    "print(f1_score(y_test, y_pred_s, average='binary'))"
   ]
  },
  {
   "cell_type": "code",
   "execution_count": 326,
   "id": "68ce92ea",
   "metadata": {},
   "outputs": [
    {
     "name": "stdout",
     "output_type": "stream",
     "text": [
      "Fitting 5 folds for each of 30 candidates, totalling 150 fits\n",
      "[CV 1/5] END ..........................C=0.0001;, score=0.731 total time=   0.0s\n",
      "[CV 2/5] END ..........................C=0.0001;, score=0.706 total time=   0.0s\n",
      "[CV 3/5] END ..........................C=0.0001;, score=0.736 total time=   0.0s\n",
      "[CV 4/5] END ..........................C=0.0001;, score=0.718 total time=   0.0s\n",
      "[CV 5/5] END ..........................C=0.0001;, score=0.725 total time=   0.0s\n",
      "[CV 1/5] END ..........C=0.00018873918221350977;, score=0.733 total time=   0.0s\n",
      "[CV 2/5] END ..........C=0.00018873918221350977;, score=0.709 total time=   0.0s\n",
      "[CV 3/5] END ..........C=0.00018873918221350977;, score=0.741 total time=   0.0s\n",
      "[CV 4/5] END ..........C=0.00018873918221350977;, score=0.722 total time=   0.0s\n",
      "[CV 5/5] END ..........C=0.00018873918221350977;, score=0.736 total time=   0.0s\n",
      "[CV 1/5] END ...........C=0.0003562247890262444;, score=0.749 total time=   0.0s\n",
      "[CV 2/5] END ...........C=0.0003562247890262444;, score=0.714 total time=   0.0s\n",
      "[CV 3/5] END ...........C=0.0003562247890262444;, score=0.738 total time=   0.0s\n",
      "[CV 4/5] END ...........C=0.0003562247890262444;, score=0.732 total time=   0.0s\n",
      "[CV 5/5] END ...........C=0.0003562247890262444;, score=0.743 total time=   0.0s\n",
      "[CV 1/5] END ...........C=0.0006723357536499335;, score=0.765 total time=   0.0s\n",
      "[CV 2/5] END ...........C=0.0006723357536499335;, score=0.736 total time=   0.0s\n",
      "[CV 3/5] END ...........C=0.0006723357536499335;, score=0.756 total time=   0.0s\n",
      "[CV 4/5] END ...........C=0.0006723357536499335;, score=0.741 total time=   0.0s\n",
      "[CV 5/5] END ...........C=0.0006723357536499335;, score=0.759 total time=   0.0s\n",
      "[CV 1/5] END ...........C=0.0012689610031679222;, score=0.773 total time=   0.0s\n",
      "[CV 2/5] END ...........C=0.0012689610031679222;, score=0.751 total time=   0.0s\n",
      "[CV 3/5] END ...........C=0.0012689610031679222;, score=0.764 total time=   0.0s\n",
      "[CV 4/5] END ...........C=0.0012689610031679222;, score=0.747 total time=   0.0s\n",
      "[CV 5/5] END ...........C=0.0012689610031679222;, score=0.769 total time=   0.0s\n",
      "[CV 1/5] END ............C=0.002395026619987486;, score=0.775 total time=   0.0s\n",
      "[CV 2/5] END ............C=0.002395026619987486;, score=0.757 total time=   0.0s\n",
      "[CV 3/5] END ............C=0.002395026619987486;, score=0.767 total time=   0.0s\n",
      "[CV 4/5] END ............C=0.002395026619987486;, score=0.756 total time=   0.0s\n",
      "[CV 5/5] END ............C=0.002395026619987486;, score=0.776 total time=   0.0s\n",
      "[CV 1/5] END ............C=0.004520353656360241;, score=0.775 total time=   0.0s\n",
      "[CV 2/5] END ............C=0.004520353656360241;, score=0.762 total time=   0.0s\n",
      "[CV 3/5] END ............C=0.004520353656360241;, score=0.763 total time=   0.0s\n",
      "[CV 4/5] END ............C=0.004520353656360241;, score=0.758 total time=   0.0s\n",
      "[CV 5/5] END ............C=0.004520353656360241;, score=0.778 total time=   0.0s\n",
      "[CV 1/5] END ............C=0.008531678524172805;, score=0.772 total time=   0.0s\n",
      "[CV 2/5] END ............C=0.008531678524172805;, score=0.765 total time=   0.0s\n",
      "[CV 3/5] END ............C=0.008531678524172805;, score=0.770 total time=   0.0s\n",
      "[CV 4/5] END ............C=0.008531678524172805;, score=0.758 total time=   0.0s\n",
      "[CV 5/5] END ............C=0.008531678524172805;, score=0.775 total time=   0.0s\n",
      "[CV 1/5] END .............C=0.01610262027560939;, score=0.776 total time=   0.0s\n",
      "[CV 2/5] END .............C=0.01610262027560939;, score=0.778 total time=   0.0s\n",
      "[CV 3/5] END .............C=0.01610262027560939;, score=0.769 total time=   0.0s\n",
      "[CV 4/5] END .............C=0.01610262027560939;, score=0.757 total time=   0.0s\n",
      "[CV 5/5] END .............C=0.01610262027560939;, score=0.777 total time=   0.0s\n",
      "[CV 1/5] END .............C=0.03039195382313198;, score=0.770 total time=   0.0s\n",
      "[CV 2/5] END .............C=0.03039195382313198;, score=0.771 total time=   0.0s\n",
      "[CV 3/5] END .............C=0.03039195382313198;, score=0.772 total time=   0.0s\n",
      "[CV 4/5] END .............C=0.03039195382313198;, score=0.760 total time=   0.0s\n",
      "[CV 5/5] END .............C=0.03039195382313198;, score=0.777 total time=   0.0s\n",
      "[CV 1/5] END .............C=0.05736152510448681;, score=0.768 total time=   0.0s\n",
      "[CV 2/5] END .............C=0.05736152510448681;, score=0.771 total time=   0.0s\n",
      "[CV 3/5] END .............C=0.05736152510448681;, score=0.773 total time=   0.0s\n",
      "[CV 4/5] END .............C=0.05736152510448681;, score=0.759 total time=   0.0s\n",
      "[CV 5/5] END .............C=0.05736152510448681;, score=0.776 total time=   0.0s\n",
      "[CV 1/5] END ..............C=0.1082636733874054;, score=0.770 total time=   0.0s\n",
      "[CV 2/5] END ..............C=0.1082636733874054;, score=0.773 total time=   0.0s\n",
      "[CV 3/5] END ..............C=0.1082636733874054;, score=0.775 total time=   0.0s\n",
      "[CV 4/5] END ..............C=0.1082636733874054;, score=0.758 total time=   0.0s\n",
      "[CV 5/5] END ..............C=0.1082636733874054;, score=0.777 total time=   0.0s\n",
      "[CV 1/5] END .............C=0.20433597178569418;, score=0.770 total time=   0.0s\n",
      "[CV 2/5] END .............C=0.20433597178569418;, score=0.774 total time=   0.0s\n",
      "[CV 3/5] END .............C=0.20433597178569418;, score=0.775 total time=   0.0s\n",
      "[CV 4/5] END .............C=0.20433597178569418;, score=0.759 total time=   0.0s\n",
      "[CV 5/5] END .............C=0.20433597178569418;, score=0.776 total time=   0.0s\n",
      "[CV 1/5] END .............C=0.38566204211634725;, score=0.771 total time=   0.0s\n",
      "[CV 2/5] END .............C=0.38566204211634725;, score=0.775 total time=   0.0s\n",
      "[CV 3/5] END .............C=0.38566204211634725;, score=0.775 total time=   0.0s\n",
      "[CV 4/5] END .............C=0.38566204211634725;, score=0.759 total time=   0.0s\n",
      "[CV 5/5] END .............C=0.38566204211634725;, score=0.776 total time=   0.0s\n",
      "[CV 1/5] END ..............C=0.7278953843983146;, score=0.774 total time=   0.0s\n",
      "[CV 2/5] END ..............C=0.7278953843983146;, score=0.774 total time=   0.0s\n",
      "[CV 3/5] END ..............C=0.7278953843983146;, score=0.774 total time=   0.0s\n",
      "[CV 4/5] END ..............C=0.7278953843983146;, score=0.759 total time=   0.0s\n",
      "[CV 5/5] END ..............C=0.7278953843983146;, score=0.777 total time=   0.0s\n",
      "[CV 1/5] END ..............C=1.3738237958832638;, score=0.773 total time=   0.0s\n",
      "[CV 2/5] END ..............C=1.3738237958832638;, score=0.771 total time=   0.0s\n",
      "[CV 3/5] END ..............C=1.3738237958832638;, score=0.774 total time=   0.0s\n",
      "[CV 4/5] END ..............C=1.3738237958832638;, score=0.759 total time=   0.0s\n",
      "[CV 5/5] END ..............C=1.3738237958832638;, score=0.777 total time=   0.0s\n",
      "[CV 1/5] END ...............C=2.592943797404667;, score=0.774 total time=   0.0s\n",
      "[CV 2/5] END ...............C=2.592943797404667;, score=0.770 total time=   0.0s\n",
      "[CV 3/5] END ...............C=2.592943797404667;, score=0.774 total time=   0.0s\n",
      "[CV 4/5] END ...............C=2.592943797404667;, score=0.761 total time=   0.0s\n",
      "[CV 5/5] END ...............C=2.592943797404667;, score=0.779 total time=   0.0s\n",
      "[CV 1/5] END ...............C=4.893900918477489;, score=0.774 total time=   0.0s\n",
      "[CV 2/5] END ...............C=4.893900918477489;, score=0.770 total time=   0.0s\n",
      "[CV 3/5] END ...............C=4.893900918477489;, score=0.777 total time=   0.0s\n",
      "[CV 4/5] END ...............C=4.893900918477489;, score=0.761 total time=   0.0s\n",
      "[CV 5/5] END ...............C=4.893900918477489;, score=0.779 total time=   0.0s\n",
      "[CV 1/5] END ...............C=9.236708571873866;, score=0.774 total time=   0.0s\n",
      "[CV 2/5] END ...............C=9.236708571873866;, score=0.772 total time=   0.0s\n",
      "[CV 3/5] END ...............C=9.236708571873866;, score=0.775 total time=   0.0s\n",
      "[CV 4/5] END ...............C=9.236708571873866;, score=0.761 total time=   0.0s\n",
      "[CV 5/5] END ...............C=9.236708571873866;, score=0.776 total time=   0.0s\n",
      "[CV 1/5] END ..............C=17.433288221999874;, score=0.772 total time=   0.0s\n",
      "[CV 2/5] END ..............C=17.433288221999874;, score=0.772 total time=   0.0s\n",
      "[CV 3/5] END ..............C=17.433288221999874;, score=0.775 total time=   0.0s\n",
      "[CV 4/5] END ..............C=17.433288221999874;, score=0.761 total time=   0.0s\n",
      "[CV 5/5] END ..............C=17.433288221999874;, score=0.776 total time=   0.0s\n",
      "[CV 1/5] END ...............C=32.90344562312671;, score=0.772 total time=   0.0s\n"
     ]
    },
    {
     "name": "stdout",
     "output_type": "stream",
     "text": [
      "[CV 2/5] END ...............C=32.90344562312671;, score=0.772 total time=   0.0s\n",
      "[CV 3/5] END ...............C=32.90344562312671;, score=0.775 total time=   0.0s\n",
      "[CV 4/5] END ...............C=32.90344562312671;, score=0.761 total time=   0.0s\n",
      "[CV 5/5] END ...............C=32.90344562312671;, score=0.776 total time=   0.0s\n",
      "[CV 1/5] END ...............C=62.10169418915616;, score=0.772 total time=   0.0s\n",
      "[CV 2/5] END ...............C=62.10169418915616;, score=0.772 total time=   0.0s\n",
      "[CV 3/5] END ...............C=62.10169418915616;, score=0.775 total time=   0.0s\n",
      "[CV 4/5] END ...............C=62.10169418915616;, score=0.761 total time=   0.0s\n",
      "[CV 5/5] END ...............C=62.10169418915616;, score=0.777 total time=   0.0s\n",
      "[CV 1/5] END ..............C=117.21022975334793;, score=0.772 total time=   0.0s\n",
      "[CV 2/5] END ..............C=117.21022975334793;, score=0.772 total time=   0.0s\n",
      "[CV 3/5] END ..............C=117.21022975334793;, score=0.775 total time=   0.0s\n",
      "[CV 4/5] END ..............C=117.21022975334793;, score=0.761 total time=   0.0s\n",
      "[CV 5/5] END ..............C=117.21022975334793;, score=0.777 total time=   0.0s\n",
      "[CV 1/5] END ..............C=221.22162910704503;, score=0.772 total time=   0.0s\n",
      "[CV 2/5] END ..............C=221.22162910704503;, score=0.772 total time=   0.0s\n",
      "[CV 3/5] END ..............C=221.22162910704503;, score=0.775 total time=   0.0s\n",
      "[CV 4/5] END ..............C=221.22162910704503;, score=0.761 total time=   0.0s\n",
      "[CV 5/5] END ..............C=221.22162910704503;, score=0.777 total time=   0.0s\n",
      "[CV 1/5] END ..............C=417.53189365604004;, score=0.772 total time=   0.0s\n",
      "[CV 2/5] END ..............C=417.53189365604004;, score=0.772 total time=   0.0s\n",
      "[CV 3/5] END ..............C=417.53189365604004;, score=0.775 total time=   0.0s\n",
      "[CV 4/5] END ..............C=417.53189365604004;, score=0.761 total time=   0.0s\n",
      "[CV 5/5] END ..............C=417.53189365604004;, score=0.777 total time=   0.0s\n",
      "[CV 1/5] END ...............C=788.0462815669904;, score=0.772 total time=   0.0s\n",
      "[CV 2/5] END ...............C=788.0462815669904;, score=0.772 total time=   0.0s\n",
      "[CV 3/5] END ...............C=788.0462815669904;, score=0.775 total time=   0.0s\n",
      "[CV 4/5] END ...............C=788.0462815669904;, score=0.761 total time=   0.0s\n",
      "[CV 5/5] END ...............C=788.0462815669904;, score=0.777 total time=   0.0s\n",
      "[CV 1/5] END ..............C=1487.3521072935118;, score=0.772 total time=   0.0s\n",
      "[CV 2/5] END ..............C=1487.3521072935118;, score=0.772 total time=   0.0s\n",
      "[CV 3/5] END ..............C=1487.3521072935118;, score=0.775 total time=   0.0s\n",
      "[CV 4/5] END ..............C=1487.3521072935118;, score=0.761 total time=   0.0s\n",
      "[CV 5/5] END ..............C=1487.3521072935118;, score=0.777 total time=   0.0s\n",
      "[CV 1/5] END ..............C=2807.2162039411755;, score=0.772 total time=   0.0s\n",
      "[CV 2/5] END ..............C=2807.2162039411755;, score=0.772 total time=   0.0s\n",
      "[CV 3/5] END ..............C=2807.2162039411755;, score=0.775 total time=   0.0s\n",
      "[CV 4/5] END ..............C=2807.2162039411755;, score=0.761 total time=   0.0s\n",
      "[CV 5/5] END ..............C=2807.2162039411755;, score=0.777 total time=   0.0s\n",
      "[CV 1/5] END ...............C=5298.316906283702;, score=0.772 total time=   0.0s\n",
      "[CV 2/5] END ...............C=5298.316906283702;, score=0.772 total time=   0.0s\n",
      "[CV 3/5] END ...............C=5298.316906283702;, score=0.775 total time=   0.0s\n",
      "[CV 4/5] END ...............C=5298.316906283702;, score=0.761 total time=   0.0s\n",
      "[CV 5/5] END ...............C=5298.316906283702;, score=0.777 total time=   0.0s\n",
      "[CV 1/5] END .........................C=10000.0;, score=0.772 total time=   0.0s\n",
      "[CV 2/5] END .........................C=10000.0;, score=0.772 total time=   0.0s\n",
      "[CV 3/5] END .........................C=10000.0;, score=0.775 total time=   0.0s\n",
      "[CV 4/5] END .........................C=10000.0;, score=0.761 total time=   0.0s\n",
      "[CV 5/5] END .........................C=10000.0;, score=0.777 total time=   0.0s\n",
      "0.7720336882461558\n",
      "{'C': 4.893900918477489}\n",
      "0.774671052631579\n"
     ]
    }
   ],
   "source": [
    "# Standard Scaler\n",
    "\n",
    "log_reg_s = LogisticRegression(penalty='l2', max_iter=10000)\n",
    "reg_coef =  np.logspace(-4, 4, 30)\n",
    "tuned_parameters = [{'C': reg_coef}]\n",
    "nb_folds = 5\n",
    "grid_s = GridSearchCV(log_reg_s, tuned_parameters, cv=nb_folds, refit=True, verbose=3, scoring='f1')\n",
    "grid_s.fit(X_train_preprocessed_s, y_train)\n",
    "print(grid_s.best_score_)\n",
    "print(grid_s.best_params_)\n",
    "y_pred_s = grid_s.best_estimator_.predict(X_test_preprocessed_s)\n",
    "print(f1_score(y_test, y_pred_s, average='binary'))"
   ]
  },
  {
   "cell_type": "markdown",
   "id": "e3b96e96-3fb2-440f-a647-92c89c26426f",
   "metadata": {},
   "source": [
    "#### Question 13.c\n",
    "Commentez ce résultat en regard de votre réponse à la question 12."
   ]
  },
  {
   "cell_type": "markdown",
   "id": "3548af71",
   "metadata": {},
   "source": [
    "Les résultats obtenus ne sont pas meilleurs, conformément à l'idée de la question 12."
   ]
  },
  {
   "cell_type": "markdown",
   "id": "c8c07f73-7036-484d-825f-f9675f9fd824",
   "metadata": {},
   "source": [
    "#### Question 14\n",
    "\n",
    "Entraînez une forêt aléatoire sur le jeu d'entraînement et évaluez son F-score sur le jeu de test.\n",
    "\n",
    "__Conseils :__\n",
    "* Vous trouverez les outils nécessaires dans la classe `RandomForestClassifier` du module `ensemble` de `scikit-learn`.\n",
    "* Choisissez le nombre d'arbres par validation croisée."
   ]
  },
  {
   "cell_type": "code",
   "execution_count": 327,
   "id": "057e8c43-171d-47db-b48d-f1928c0dca6e",
   "metadata": {
    "scrolled": false
   },
   "outputs": [
    {
     "name": "stdout",
     "output_type": "stream",
     "text": [
      "Fitting 5 folds for each of 36 candidates, totalling 180 fits\n",
      "[CV 1/5] END ....................n_estimators=1;, score=0.833 total time=   0.0s\n",
      "[CV 2/5] END ....................n_estimators=1;, score=0.816 total time=   0.0s\n",
      "[CV 3/5] END ....................n_estimators=1;, score=0.815 total time=   0.0s\n",
      "[CV 4/5] END ....................n_estimators=1;, score=0.788 total time=   0.0s\n",
      "[CV 5/5] END ....................n_estimators=1;, score=0.806 total time=   0.0s\n",
      "[CV 1/5] END ....................n_estimators=4;, score=0.850 total time=   0.0s\n",
      "[CV 2/5] END ....................n_estimators=4;, score=0.844 total time=   0.0s\n",
      "[CV 3/5] END ....................n_estimators=4;, score=0.836 total time=   0.0s\n",
      "[CV 4/5] END ....................n_estimators=4;, score=0.834 total time=   0.0s\n",
      "[CV 5/5] END ....................n_estimators=4;, score=0.839 total time=   0.0s\n",
      "[CV 1/5] END ....................n_estimators=7;, score=0.870 total time=   0.0s\n",
      "[CV 2/5] END ....................n_estimators=7;, score=0.890 total time=   0.0s\n",
      "[CV 3/5] END ....................n_estimators=7;, score=0.886 total time=   0.0s\n",
      "[CV 4/5] END ....................n_estimators=7;, score=0.869 total time=   0.0s\n",
      "[CV 5/5] END ....................n_estimators=7;, score=0.874 total time=   0.0s\n",
      "[CV 1/5] END ...................n_estimators=20;, score=0.900 total time=   0.0s\n",
      "[CV 2/5] END ...................n_estimators=20;, score=0.899 total time=   0.1s\n",
      "[CV 3/5] END ...................n_estimators=20;, score=0.889 total time=   0.1s\n",
      "[CV 4/5] END ...................n_estimators=20;, score=0.885 total time=   0.1s\n",
      "[CV 5/5] END ...................n_estimators=20;, score=0.902 total time=   0.0s\n",
      "[CV 1/5] END ...................n_estimators=35;, score=0.907 total time=   0.1s\n",
      "[CV 2/5] END ...................n_estimators=35;, score=0.901 total time=   0.1s\n",
      "[CV 3/5] END ...................n_estimators=35;, score=0.900 total time=   0.1s\n",
      "[CV 4/5] END ...................n_estimators=35;, score=0.891 total time=   0.1s\n",
      "[CV 5/5] END ...................n_estimators=35;, score=0.909 total time=   0.1s\n",
      "[CV 1/5] END ...................n_estimators=36;, score=0.908 total time=   0.1s\n",
      "[CV 2/5] END ...................n_estimators=36;, score=0.904 total time=   0.2s\n",
      "[CV 3/5] END ...................n_estimators=36;, score=0.900 total time=   0.1s\n",
      "[CV 4/5] END ...................n_estimators=36;, score=0.883 total time=   0.1s\n",
      "[CV 5/5] END ...................n_estimators=36;, score=0.913 total time=   0.2s\n",
      "[CV 1/5] END ...................n_estimators=37;, score=0.909 total time=   0.3s\n",
      "[CV 2/5] END ...................n_estimators=37;, score=0.902 total time=   0.3s\n",
      "[CV 3/5] END ...................n_estimators=37;, score=0.897 total time=   0.1s\n",
      "[CV 4/5] END ...................n_estimators=37;, score=0.885 total time=   0.2s\n",
      "[CV 5/5] END ...................n_estimators=37;, score=0.911 total time=   0.2s\n",
      "[CV 1/5] END ...................n_estimators=38;, score=0.907 total time=   0.1s\n",
      "[CV 2/5] END ...................n_estimators=38;, score=0.907 total time=   0.2s\n",
      "[CV 3/5] END ...................n_estimators=38;, score=0.899 total time=   0.1s\n",
      "[CV 4/5] END ...................n_estimators=38;, score=0.892 total time=   0.2s\n",
      "[CV 5/5] END ...................n_estimators=38;, score=0.915 total time=   0.2s\n",
      "[CV 1/5] END ...................n_estimators=39;, score=0.912 total time=   0.2s\n",
      "[CV 2/5] END ...................n_estimators=39;, score=0.905 total time=   0.2s\n",
      "[CV 3/5] END ...................n_estimators=39;, score=0.895 total time=   0.2s\n",
      "[CV 4/5] END ...................n_estimators=39;, score=0.889 total time=   0.3s\n",
      "[CV 5/5] END ...................n_estimators=39;, score=0.913 total time=   0.3s\n",
      "[CV 1/5] END ...................n_estimators=40;, score=0.910 total time=   0.7s\n",
      "[CV 2/5] END ...................n_estimators=40;, score=0.909 total time=   0.2s\n",
      "[CV 3/5] END ...................n_estimators=40;, score=0.897 total time=   0.5s\n",
      "[CV 4/5] END ...................n_estimators=40;, score=0.889 total time=   0.6s\n",
      "[CV 5/5] END ...................n_estimators=40;, score=0.914 total time=   0.6s\n",
      "[CV 1/5] END ...................n_estimators=41;, score=0.908 total time=   0.3s\n",
      "[CV 2/5] END ...................n_estimators=41;, score=0.903 total time=   0.5s\n",
      "[CV 3/5] END ...................n_estimators=41;, score=0.897 total time=   0.3s\n",
      "[CV 4/5] END ...................n_estimators=41;, score=0.887 total time=   0.3s\n",
      "[CV 5/5] END ...................n_estimators=41;, score=0.913 total time=   0.3s\n",
      "[CV 1/5] END ...................n_estimators=42;, score=0.907 total time=   0.2s\n",
      "[CV 2/5] END ...................n_estimators=42;, score=0.910 total time=   0.2s\n",
      "[CV 3/5] END ...................n_estimators=42;, score=0.898 total time=   0.2s\n",
      "[CV 4/5] END ...................n_estimators=42;, score=0.885 total time=   0.4s\n",
      "[CV 5/5] END ...................n_estimators=42;, score=0.914 total time=   0.4s\n",
      "[CV 1/5] END ...................n_estimators=43;, score=0.908 total time=   0.3s\n",
      "[CV 2/5] END ...................n_estimators=43;, score=0.906 total time=   0.5s\n",
      "[CV 3/5] END ...................n_estimators=43;, score=0.899 total time=   0.5s\n",
      "[CV 4/5] END ...................n_estimators=43;, score=0.884 total time=   0.5s\n",
      "[CV 5/5] END ...................n_estimators=43;, score=0.910 total time=   0.2s\n",
      "[CV 1/5] END ...................n_estimators=44;, score=0.910 total time=   0.4s\n",
      "[CV 2/5] END ...................n_estimators=44;, score=0.910 total time=   0.3s\n",
      "[CV 3/5] END ...................n_estimators=44;, score=0.899 total time=   0.3s\n",
      "[CV 4/5] END ...................n_estimators=44;, score=0.883 total time=   0.3s\n",
      "[CV 5/5] END ...................n_estimators=44;, score=0.912 total time=   0.4s\n",
      "[CV 1/5] END ...................n_estimators=45;, score=0.908 total time=   0.4s\n",
      "[CV 2/5] END ...................n_estimators=45;, score=0.907 total time=   0.3s\n",
      "[CV 3/5] END ...................n_estimators=45;, score=0.899 total time=   0.2s\n",
      "[CV 4/5] END ...................n_estimators=45;, score=0.884 total time=   0.2s\n",
      "[CV 5/5] END ...................n_estimators=45;, score=0.911 total time=   0.2s\n",
      "[CV 1/5] END ...................n_estimators=46;, score=0.911 total time=   0.3s\n",
      "[CV 2/5] END ...................n_estimators=46;, score=0.912 total time=   0.2s\n",
      "[CV 3/5] END ...................n_estimators=46;, score=0.901 total time=   0.2s\n",
      "[CV 4/5] END ...................n_estimators=46;, score=0.879 total time=   0.3s\n",
      "[CV 5/5] END ...................n_estimators=46;, score=0.912 total time=   0.2s\n",
      "[CV 1/5] END ...................n_estimators=47;, score=0.911 total time=   0.2s\n",
      "[CV 2/5] END ...................n_estimators=47;, score=0.909 total time=   0.3s\n",
      "[CV 3/5] END ...................n_estimators=47;, score=0.899 total time=   0.2s\n",
      "[CV 4/5] END ...................n_estimators=47;, score=0.883 total time=   0.2s\n",
      "[CV 5/5] END ...................n_estimators=47;, score=0.911 total time=   0.3s\n",
      "[CV 1/5] END ...................n_estimators=48;, score=0.910 total time=   0.2s\n",
      "[CV 2/5] END ...................n_estimators=48;, score=0.913 total time=   0.2s\n",
      "[CV 3/5] END ...................n_estimators=48;, score=0.900 total time=   0.2s\n",
      "[CV 4/5] END ...................n_estimators=48;, score=0.877 total time=   0.2s\n",
      "[CV 5/5] END ...................n_estimators=48;, score=0.913 total time=   0.3s\n",
      "[CV 1/5] END ...................n_estimators=49;, score=0.910 total time=   0.5s\n",
      "[CV 2/5] END ...................n_estimators=49;, score=0.913 total time=   0.2s\n",
      "[CV 3/5] END ...................n_estimators=49;, score=0.898 total time=   0.3s\n",
      "[CV 4/5] END ...................n_estimators=49;, score=0.882 total time=   0.2s\n",
      "[CV 5/5] END ...................n_estimators=49;, score=0.912 total time=   0.3s\n",
      "[CV 1/5] END ...................n_estimators=50;, score=0.912 total time=   0.4s\n",
      "[CV 2/5] END ...................n_estimators=50;, score=0.915 total time=   0.2s\n",
      "[CV 3/5] END ...................n_estimators=50;, score=0.897 total time=   0.2s\n",
      "[CV 4/5] END ...................n_estimators=50;, score=0.879 total time=   0.2s\n",
      "[CV 5/5] END ...................n_estimators=50;, score=0.912 total time=   0.2s\n",
      "[CV 1/5] END ...................n_estimators=51;, score=0.911 total time=   0.2s\n"
     ]
    },
    {
     "name": "stdout",
     "output_type": "stream",
     "text": [
      "[CV 2/5] END ...................n_estimators=51;, score=0.914 total time=   0.2s\n",
      "[CV 3/5] END ...................n_estimators=51;, score=0.897 total time=   0.3s\n",
      "[CV 4/5] END ...................n_estimators=51;, score=0.880 total time=   0.2s\n",
      "[CV 5/5] END ...................n_estimators=51;, score=0.912 total time=   0.3s\n",
      "[CV 1/5] END ...................n_estimators=52;, score=0.910 total time=   0.2s\n",
      "[CV 2/5] END ...................n_estimators=52;, score=0.916 total time=   0.3s\n",
      "[CV 3/5] END ...................n_estimators=52;, score=0.896 total time=   0.2s\n",
      "[CV 4/5] END ...................n_estimators=52;, score=0.880 total time=   0.4s\n",
      "[CV 5/5] END ...................n_estimators=52;, score=0.914 total time=   0.3s\n",
      "[CV 1/5] END ...................n_estimators=53;, score=0.909 total time=   0.3s\n",
      "[CV 2/5] END ...................n_estimators=53;, score=0.912 total time=   0.3s\n",
      "[CV 3/5] END ...................n_estimators=53;, score=0.896 total time=   0.2s\n",
      "[CV 4/5] END ...................n_estimators=53;, score=0.879 total time=   0.3s\n",
      "[CV 5/5] END ...................n_estimators=53;, score=0.914 total time=   0.3s\n",
      "[CV 1/5] END ...................n_estimators=54;, score=0.912 total time=   0.2s\n",
      "[CV 2/5] END ...................n_estimators=54;, score=0.914 total time=   0.2s\n",
      "[CV 3/5] END ...................n_estimators=54;, score=0.899 total time=   0.2s\n",
      "[CV 4/5] END ...................n_estimators=54;, score=0.879 total time=   0.2s\n",
      "[CV 5/5] END ...................n_estimators=54;, score=0.915 total time=   0.2s\n",
      "[CV 1/5] END ...................n_estimators=55;, score=0.910 total time=   0.3s\n",
      "[CV 2/5] END ...................n_estimators=55;, score=0.913 total time=   0.2s\n",
      "[CV 3/5] END ...................n_estimators=55;, score=0.897 total time=   0.3s\n",
      "[CV 4/5] END ...................n_estimators=55;, score=0.883 total time=   0.2s\n",
      "[CV 5/5] END ...................n_estimators=55;, score=0.917 total time=   0.3s\n",
      "[CV 1/5] END ...................n_estimators=56;, score=0.910 total time=   0.3s\n",
      "[CV 2/5] END ...................n_estimators=56;, score=0.914 total time=   0.3s\n",
      "[CV 3/5] END ...................n_estimators=56;, score=0.896 total time=   0.2s\n",
      "[CV 4/5] END ...................n_estimators=56;, score=0.882 total time=   0.3s\n",
      "[CV 5/5] END ...................n_estimators=56;, score=0.915 total time=   0.3s\n",
      "[CV 1/5] END ...................n_estimators=57;, score=0.909 total time=   0.3s\n",
      "[CV 2/5] END ...................n_estimators=57;, score=0.913 total time=   0.2s\n",
      "[CV 3/5] END ...................n_estimators=57;, score=0.896 total time=   0.3s\n",
      "[CV 4/5] END ...................n_estimators=57;, score=0.882 total time=   0.2s\n",
      "[CV 5/5] END ...................n_estimators=57;, score=0.911 total time=   0.3s\n",
      "[CV 1/5] END ...................n_estimators=58;, score=0.910 total time=   0.3s\n",
      "[CV 2/5] END ...................n_estimators=58;, score=0.915 total time=   0.3s\n",
      "[CV 3/5] END ...................n_estimators=58;, score=0.898 total time=   0.2s\n",
      "[CV 4/5] END ...................n_estimators=58;, score=0.881 total time=   0.3s\n",
      "[CV 5/5] END ...................n_estimators=58;, score=0.913 total time=   0.3s\n",
      "[CV 1/5] END ...................n_estimators=59;, score=0.908 total time=   0.3s\n",
      "[CV 2/5] END ...................n_estimators=59;, score=0.912 total time=   0.3s\n",
      "[CV 3/5] END ...................n_estimators=59;, score=0.895 total time=   0.3s\n",
      "[CV 4/5] END ...................n_estimators=59;, score=0.882 total time=   0.4s\n",
      "[CV 5/5] END ...................n_estimators=59;, score=0.915 total time=   0.2s\n",
      "[CV 1/5] END ...................n_estimators=60;, score=0.909 total time=   0.3s\n",
      "[CV 2/5] END ...................n_estimators=60;, score=0.911 total time=   0.2s\n",
      "[CV 3/5] END ...................n_estimators=60;, score=0.898 total time=   0.2s\n",
      "[CV 4/5] END ...................n_estimators=60;, score=0.880 total time=   0.3s\n",
      "[CV 5/5] END ...................n_estimators=60;, score=0.912 total time=   0.3s\n",
      "[CV 1/5] END ...................n_estimators=61;, score=0.908 total time=   0.2s\n",
      "[CV 2/5] END ...................n_estimators=61;, score=0.910 total time=   0.4s\n",
      "[CV 3/5] END ...................n_estimators=61;, score=0.895 total time=   0.3s\n",
      "[CV 4/5] END ...................n_estimators=61;, score=0.882 total time=   0.3s\n",
      "[CV 5/5] END ...................n_estimators=61;, score=0.908 total time=   0.2s\n",
      "[CV 1/5] END ...................n_estimators=62;, score=0.910 total time=   0.3s\n",
      "[CV 2/5] END ...................n_estimators=62;, score=0.912 total time=   0.3s\n",
      "[CV 3/5] END ...................n_estimators=62;, score=0.899 total time=   0.3s\n",
      "[CV 4/5] END ...................n_estimators=62;, score=0.880 total time=   0.3s\n",
      "[CV 5/5] END ...................n_estimators=62;, score=0.912 total time=   0.3s\n",
      "[CV 1/5] END ...................n_estimators=63;, score=0.908 total time=   0.3s\n",
      "[CV 2/5] END ...................n_estimators=63;, score=0.909 total time=   0.4s\n",
      "[CV 3/5] END ...................n_estimators=63;, score=0.895 total time=   0.3s\n",
      "[CV 4/5] END ...................n_estimators=63;, score=0.881 total time=   0.3s\n",
      "[CV 5/5] END ...................n_estimators=63;, score=0.910 total time=   0.2s\n",
      "[CV 1/5] END ...................n_estimators=64;, score=0.909 total time=   0.3s\n",
      "[CV 2/5] END ...................n_estimators=64;, score=0.910 total time=   0.3s\n",
      "[CV 3/5] END ...................n_estimators=64;, score=0.897 total time=   0.3s\n",
      "[CV 4/5] END ...................n_estimators=64;, score=0.881 total time=   0.4s\n",
      "[CV 5/5] END ...................n_estimators=64;, score=0.912 total time=   0.4s\n",
      "[CV 1/5] END ..................n_estimators=100;, score=0.909 total time=   0.5s\n",
      "[CV 2/5] END ..................n_estimators=100;, score=0.906 total time=   0.4s\n",
      "[CV 3/5] END ..................n_estimators=100;, score=0.900 total time=   0.6s\n",
      "[CV 4/5] END ..................n_estimators=100;, score=0.885 total time=   0.7s\n",
      "[CV 5/5] END ..................n_estimators=100;, score=0.908 total time=   0.6s\n",
      "[CV 1/5] END ..................n_estimators=200;, score=0.911 total time=   1.2s\n",
      "[CV 2/5] END ..................n_estimators=200;, score=0.902 total time=   1.2s\n",
      "[CV 3/5] END ..................n_estimators=200;, score=0.901 total time=   1.1s\n",
      "[CV 4/5] END ..................n_estimators=200;, score=0.887 total time=   1.2s\n",
      "[CV 5/5] END ..................n_estimators=200;, score=0.912 total time=   1.2s\n",
      "0.9040262095202636\n",
      "{'n_estimators': 38}\n",
      "0.9148418491484186\n"
     ]
    }
   ],
   "source": [
    "from sklearn.ensemble import RandomForestClassifier\n",
    "\n",
    "forest = RandomForestClassifier(random_state=13)\n",
    "reg_coef = sorted([i for i in range (1, 10, 3)] + [i for i in range(35, 65, 1)] + [20, 100, 200])\n",
    "tuned_parameters = [{'n_estimators': reg_coef}]\n",
    "nb_folds = 5\n",
    "grid = GridSearchCV(forest, tuned_parameters, cv=nb_folds, refit=True, verbose=3, scoring='f1')\n",
    "grid.fit(X_train_preprocessed, y_train)\n",
    "print(grid.best_score_)\n",
    "print(grid.best_params_)\n",
    "y_pred = grid.best_estimator_.predict(X_test_preprocessed)\n",
    "print(f1_score(y_test, y_pred, average='binary'))"
   ]
  },
  {
   "cell_type": "code",
   "execution_count": 329,
   "id": "a23674f8",
   "metadata": {},
   "outputs": [
    {
     "name": "stdout",
     "output_type": "stream",
     "text": [
      "Fitting 5 folds for each of 36 candidates, totalling 180 fits\n",
      "[CV 1/5] END ....................n_estimators=1;, score=0.845 total time=   0.0s\n",
      "[CV 2/5] END ....................n_estimators=1;, score=0.853 total time=   0.0s\n",
      "[CV 3/5] END ....................n_estimators=1;, score=0.862 total time=   0.0s\n",
      "[CV 4/5] END ....................n_estimators=1;, score=0.843 total time=   0.0s\n",
      "[CV 5/5] END ....................n_estimators=1;, score=0.858 total time=   0.0s\n",
      "[CV 1/5] END ....................n_estimators=4;, score=0.884 total time=   0.0s\n",
      "[CV 2/5] END ....................n_estimators=4;, score=0.880 total time=   0.0s\n",
      "[CV 3/5] END ....................n_estimators=4;, score=0.876 total time=   0.0s\n",
      "[CV 4/5] END ....................n_estimators=4;, score=0.889 total time=   0.0s\n",
      "[CV 5/5] END ....................n_estimators=4;, score=0.892 total time=   0.0s\n",
      "[CV 1/5] END ....................n_estimators=7;, score=0.909 total time=   0.0s\n",
      "[CV 2/5] END ....................n_estimators=7;, score=0.910 total time=   0.0s\n",
      "[CV 3/5] END ....................n_estimators=7;, score=0.905 total time=   0.0s\n",
      "[CV 4/5] END ....................n_estimators=7;, score=0.903 total time=   0.0s\n",
      "[CV 5/5] END ....................n_estimators=7;, score=0.920 total time=   0.1s\n",
      "[CV 1/5] END ...................n_estimators=20;, score=0.929 total time=   0.2s\n",
      "[CV 2/5] END ...................n_estimators=20;, score=0.929 total time=   0.0s\n",
      "[CV 3/5] END ...................n_estimators=20;, score=0.926 total time=   0.0s\n",
      "[CV 4/5] END ...................n_estimators=20;, score=0.921 total time=   0.1s\n",
      "[CV 5/5] END ...................n_estimators=20;, score=0.928 total time=   0.2s\n",
      "[CV 1/5] END ...................n_estimators=35;, score=0.928 total time=   0.3s\n",
      "[CV 2/5] END ...................n_estimators=35;, score=0.930 total time=   0.3s\n",
      "[CV 3/5] END ...................n_estimators=35;, score=0.930 total time=   0.5s\n",
      "[CV 4/5] END ...................n_estimators=35;, score=0.919 total time=   0.2s\n",
      "[CV 5/5] END ...................n_estimators=35;, score=0.935 total time=   0.2s\n",
      "[CV 1/5] END ...................n_estimators=36;, score=0.930 total time=   0.3s\n",
      "[CV 2/5] END ...................n_estimators=36;, score=0.934 total time=   0.3s\n",
      "[CV 3/5] END ...................n_estimators=36;, score=0.933 total time=   0.4s\n",
      "[CV 4/5] END ...................n_estimators=36;, score=0.921 total time=   0.3s\n",
      "[CV 5/5] END ...................n_estimators=36;, score=0.937 total time=   0.2s\n",
      "[CV 1/5] END ...................n_estimators=37;, score=0.930 total time=   0.2s\n",
      "[CV 2/5] END ...................n_estimators=37;, score=0.933 total time=   0.2s\n",
      "[CV 3/5] END ...................n_estimators=37;, score=0.928 total time=   0.2s\n",
      "[CV 4/5] END ...................n_estimators=37;, score=0.916 total time=   0.2s\n",
      "[CV 5/5] END ...................n_estimators=37;, score=0.936 total time=   0.2s\n",
      "[CV 1/5] END ...................n_estimators=38;, score=0.931 total time=   0.1s\n",
      "[CV 2/5] END ...................n_estimators=38;, score=0.937 total time=   0.2s\n",
      "[CV 3/5] END ...................n_estimators=38;, score=0.932 total time=   0.1s\n",
      "[CV 4/5] END ...................n_estimators=38;, score=0.920 total time=   0.1s\n",
      "[CV 5/5] END ...................n_estimators=38;, score=0.937 total time=   0.2s\n",
      "[CV 1/5] END ...................n_estimators=39;, score=0.931 total time=   0.4s\n",
      "[CV 2/5] END ...................n_estimators=39;, score=0.933 total time=   0.2s\n",
      "[CV 3/5] END ...................n_estimators=39;, score=0.930 total time=   0.2s\n",
      "[CV 4/5] END ...................n_estimators=39;, score=0.920 total time=   0.2s\n",
      "[CV 5/5] END ...................n_estimators=39;, score=0.935 total time=   0.2s\n",
      "[CV 1/5] END ...................n_estimators=40;, score=0.931 total time=   0.1s\n",
      "[CV 2/5] END ...................n_estimators=40;, score=0.934 total time=   0.2s\n",
      "[CV 3/5] END ...................n_estimators=40;, score=0.930 total time=   0.2s\n",
      "[CV 4/5] END ...................n_estimators=40;, score=0.922 total time=   0.3s\n",
      "[CV 5/5] END ...................n_estimators=40;, score=0.936 total time=   0.2s\n",
      "[CV 1/5] END ...................n_estimators=41;, score=0.931 total time=   0.2s\n",
      "[CV 2/5] END ...................n_estimators=41;, score=0.933 total time=   0.2s\n",
      "[CV 3/5] END ...................n_estimators=41;, score=0.926 total time=   0.1s\n",
      "[CV 4/5] END ...................n_estimators=41;, score=0.918 total time=   0.2s\n",
      "[CV 5/5] END ...................n_estimators=41;, score=0.933 total time=   0.2s\n",
      "[CV 1/5] END ...................n_estimators=42;, score=0.932 total time=   0.2s\n",
      "[CV 2/5] END ...................n_estimators=42;, score=0.932 total time=   0.2s\n",
      "[CV 3/5] END ...................n_estimators=42;, score=0.931 total time=   0.2s\n",
      "[CV 4/5] END ...................n_estimators=42;, score=0.920 total time=   0.2s\n",
      "[CV 5/5] END ...................n_estimators=42;, score=0.936 total time=   0.2s\n",
      "[CV 1/5] END ...................n_estimators=43;, score=0.930 total time=   0.2s\n",
      "[CV 2/5] END ...................n_estimators=43;, score=0.933 total time=   0.2s\n",
      "[CV 3/5] END ...................n_estimators=43;, score=0.929 total time=   0.2s\n",
      "[CV 4/5] END ...................n_estimators=43;, score=0.918 total time=   0.2s\n",
      "[CV 5/5] END ...................n_estimators=43;, score=0.932 total time=   0.2s\n",
      "[CV 1/5] END ...................n_estimators=44;, score=0.933 total time=   0.2s\n",
      "[CV 2/5] END ...................n_estimators=44;, score=0.935 total time=   0.3s\n",
      "[CV 3/5] END ...................n_estimators=44;, score=0.932 total time=   0.2s\n",
      "[CV 4/5] END ...................n_estimators=44;, score=0.919 total time=   0.3s\n",
      "[CV 5/5] END ...................n_estimators=44;, score=0.936 total time=   0.2s\n",
      "[CV 1/5] END ...................n_estimators=45;, score=0.933 total time=   0.2s\n",
      "[CV 2/5] END ...................n_estimators=45;, score=0.933 total time=   0.3s\n",
      "[CV 3/5] END ...................n_estimators=45;, score=0.930 total time=   0.2s\n",
      "[CV 4/5] END ...................n_estimators=45;, score=0.916 total time=   0.2s\n",
      "[CV 5/5] END ...................n_estimators=45;, score=0.934 total time=   0.2s\n",
      "[CV 1/5] END ...................n_estimators=46;, score=0.935 total time=   0.3s\n",
      "[CV 2/5] END ...................n_estimators=46;, score=0.931 total time=   0.2s\n",
      "[CV 3/5] END ...................n_estimators=46;, score=0.931 total time=   0.2s\n",
      "[CV 4/5] END ...................n_estimators=46;, score=0.919 total time=   0.3s\n",
      "[CV 5/5] END ...................n_estimators=46;, score=0.937 total time=   0.2s\n",
      "[CV 1/5] END ...................n_estimators=47;, score=0.934 total time=   0.3s\n",
      "[CV 2/5] END ...................n_estimators=47;, score=0.930 total time=   0.2s\n",
      "[CV 3/5] END ...................n_estimators=47;, score=0.931 total time=   0.2s\n",
      "[CV 4/5] END ...................n_estimators=47;, score=0.919 total time=   0.2s\n",
      "[CV 5/5] END ...................n_estimators=47;, score=0.937 total time=   0.4s\n",
      "[CV 1/5] END ...................n_estimators=48;, score=0.937 total time=   0.3s\n",
      "[CV 2/5] END ...................n_estimators=48;, score=0.931 total time=   0.3s\n",
      "[CV 3/5] END ...................n_estimators=48;, score=0.933 total time=   0.3s\n",
      "[CV 4/5] END ...................n_estimators=48;, score=0.920 total time=   0.3s\n",
      "[CV 5/5] END ...................n_estimators=48;, score=0.939 total time=   0.3s\n",
      "[CV 1/5] END ...................n_estimators=49;, score=0.934 total time=   0.3s\n",
      "[CV 2/5] END ...................n_estimators=49;, score=0.932 total time=   0.2s\n",
      "[CV 3/5] END ...................n_estimators=49;, score=0.930 total time=   0.2s\n",
      "[CV 4/5] END ...................n_estimators=49;, score=0.920 total time=   0.2s\n",
      "[CV 5/5] END ...................n_estimators=49;, score=0.940 total time=   0.2s\n",
      "[CV 1/5] END ...................n_estimators=50;, score=0.936 total time=   0.2s\n",
      "[CV 2/5] END ...................n_estimators=50;, score=0.934 total time=   0.4s\n",
      "[CV 3/5] END ...................n_estimators=50;, score=0.932 total time=   0.4s\n",
      "[CV 4/5] END ...................n_estimators=50;, score=0.919 total time=   0.2s\n",
      "[CV 5/5] END ...................n_estimators=50;, score=0.940 total time=   0.2s\n",
      "[CV 1/5] END ...................n_estimators=51;, score=0.936 total time=   0.2s\n"
     ]
    },
    {
     "name": "stdout",
     "output_type": "stream",
     "text": [
      "[CV 2/5] END ...................n_estimators=51;, score=0.932 total time=   0.2s\n",
      "[CV 3/5] END ...................n_estimators=51;, score=0.930 total time=   0.3s\n",
      "[CV 4/5] END ...................n_estimators=51;, score=0.922 total time=   0.2s\n",
      "[CV 5/5] END ...................n_estimators=51;, score=0.939 total time=   0.2s\n",
      "[CV 1/5] END ...................n_estimators=52;, score=0.936 total time=   0.3s\n",
      "[CV 2/5] END ...................n_estimators=52;, score=0.933 total time=   0.3s\n",
      "[CV 3/5] END ...................n_estimators=52;, score=0.931 total time=   0.2s\n",
      "[CV 4/5] END ...................n_estimators=52;, score=0.921 total time=   0.2s\n",
      "[CV 5/5] END ...................n_estimators=52;, score=0.939 total time=   0.4s\n",
      "[CV 1/5] END ...................n_estimators=53;, score=0.937 total time=   0.2s\n",
      "[CV 2/5] END ...................n_estimators=53;, score=0.933 total time=   0.4s\n",
      "[CV 3/5] END ...................n_estimators=53;, score=0.931 total time=   0.3s\n",
      "[CV 4/5] END ...................n_estimators=53;, score=0.921 total time=   0.3s\n",
      "[CV 5/5] END ...................n_estimators=53;, score=0.934 total time=   0.3s\n",
      "[CV 1/5] END ...................n_estimators=54;, score=0.938 total time=   0.3s\n",
      "[CV 2/5] END ...................n_estimators=54;, score=0.934 total time=   0.3s\n",
      "[CV 3/5] END ...................n_estimators=54;, score=0.931 total time=   0.3s\n",
      "[CV 4/5] END ...................n_estimators=54;, score=0.920 total time=   0.3s\n",
      "[CV 5/5] END ...................n_estimators=54;, score=0.937 total time=   0.3s\n",
      "[CV 1/5] END ...................n_estimators=55;, score=0.937 total time=   0.3s\n",
      "[CV 2/5] END ...................n_estimators=55;, score=0.932 total time=   0.3s\n",
      "[CV 3/5] END ...................n_estimators=55;, score=0.930 total time=   0.2s\n",
      "[CV 4/5] END ...................n_estimators=55;, score=0.922 total time=   0.2s\n",
      "[CV 5/5] END ...................n_estimators=55;, score=0.936 total time=   0.5s\n",
      "[CV 1/5] END ...................n_estimators=56;, score=0.935 total time=   0.3s\n",
      "[CV 2/5] END ...................n_estimators=56;, score=0.930 total time=   0.3s\n",
      "[CV 3/5] END ...................n_estimators=56;, score=0.932 total time=   0.3s\n",
      "[CV 4/5] END ...................n_estimators=56;, score=0.921 total time=   0.3s\n",
      "[CV 5/5] END ...................n_estimators=56;, score=0.937 total time=   0.3s\n",
      "[CV 1/5] END ...................n_estimators=57;, score=0.939 total time=   0.3s\n",
      "[CV 2/5] END ...................n_estimators=57;, score=0.930 total time=   0.3s\n",
      "[CV 3/5] END ...................n_estimators=57;, score=0.930 total time=   0.3s\n",
      "[CV 4/5] END ...................n_estimators=57;, score=0.922 total time=   0.3s\n",
      "[CV 5/5] END ...................n_estimators=57;, score=0.937 total time=   0.3s\n",
      "[CV 1/5] END ...................n_estimators=58;, score=0.938 total time=   0.2s\n",
      "[CV 2/5] END ...................n_estimators=58;, score=0.931 total time=   0.2s\n",
      "[CV 3/5] END ...................n_estimators=58;, score=0.932 total time=   0.2s\n",
      "[CV 4/5] END ...................n_estimators=58;, score=0.923 total time=   0.2s\n",
      "[CV 5/5] END ...................n_estimators=58;, score=0.939 total time=   0.3s\n",
      "[CV 1/5] END ...................n_estimators=59;, score=0.940 total time=   0.3s\n",
      "[CV 2/5] END ...................n_estimators=59;, score=0.932 total time=   0.3s\n",
      "[CV 3/5] END ...................n_estimators=59;, score=0.929 total time=   0.3s\n",
      "[CV 4/5] END ...................n_estimators=59;, score=0.922 total time=   0.3s\n",
      "[CV 5/5] END ...................n_estimators=59;, score=0.937 total time=   0.3s\n",
      "[CV 1/5] END ...................n_estimators=60;, score=0.936 total time=   0.3s\n",
      "[CV 2/5] END ...................n_estimators=60;, score=0.933 total time=   0.3s\n",
      "[CV 3/5] END ...................n_estimators=60;, score=0.931 total time=   0.3s\n",
      "[CV 4/5] END ...................n_estimators=60;, score=0.920 total time=   0.3s\n",
      "[CV 5/5] END ...................n_estimators=60;, score=0.940 total time=   0.3s\n",
      "[CV 1/5] END ...................n_estimators=61;, score=0.937 total time=   0.3s\n",
      "[CV 2/5] END ...................n_estimators=61;, score=0.932 total time=   0.3s\n",
      "[CV 3/5] END ...................n_estimators=61;, score=0.931 total time=   0.3s\n",
      "[CV 4/5] END ...................n_estimators=61;, score=0.923 total time=   0.3s\n",
      "[CV 5/5] END ...................n_estimators=61;, score=0.940 total time=   0.3s\n",
      "[CV 1/5] END ...................n_estimators=62;, score=0.934 total time=   0.3s\n",
      "[CV 2/5] END ...................n_estimators=62;, score=0.933 total time=   0.3s\n",
      "[CV 3/5] END ...................n_estimators=62;, score=0.933 total time=   0.3s\n",
      "[CV 4/5] END ...................n_estimators=62;, score=0.926 total time=   0.3s\n",
      "[CV 5/5] END ...................n_estimators=62;, score=0.942 total time=   0.3s\n",
      "[CV 1/5] END ...................n_estimators=63;, score=0.938 total time=   0.3s\n",
      "[CV 2/5] END ...................n_estimators=63;, score=0.931 total time=   0.3s\n",
      "[CV 3/5] END ...................n_estimators=63;, score=0.932 total time=   0.3s\n",
      "[CV 4/5] END ...................n_estimators=63;, score=0.922 total time=   0.3s\n",
      "[CV 5/5] END ...................n_estimators=63;, score=0.940 total time=   0.3s\n",
      "[CV 1/5] END ...................n_estimators=64;, score=0.935 total time=   0.3s\n",
      "[CV 2/5] END ...................n_estimators=64;, score=0.929 total time=   0.3s\n",
      "[CV 3/5] END ...................n_estimators=64;, score=0.933 total time=   0.3s\n",
      "[CV 4/5] END ...................n_estimators=64;, score=0.925 total time=   0.4s\n",
      "[CV 5/5] END ...................n_estimators=64;, score=0.942 total time=   0.3s\n",
      "[CV 1/5] END ..................n_estimators=100;, score=0.931 total time=   0.5s\n",
      "[CV 2/5] END ..................n_estimators=100;, score=0.932 total time=   0.6s\n",
      "[CV 3/5] END ..................n_estimators=100;, score=0.931 total time=   0.5s\n",
      "[CV 4/5] END ..................n_estimators=100;, score=0.927 total time=   0.5s\n",
      "[CV 5/5] END ..................n_estimators=100;, score=0.933 total time=   0.6s\n",
      "[CV 1/5] END ..................n_estimators=200;, score=0.932 total time=   1.3s\n",
      "[CV 2/5] END ..................n_estimators=200;, score=0.932 total time=   1.3s\n",
      "[CV 3/5] END ..................n_estimators=200;, score=0.930 total time=   1.1s\n",
      "[CV 4/5] END ..................n_estimators=200;, score=0.929 total time=   1.3s\n",
      "[CV 5/5] END ..................n_estimators=200;, score=0.933 total time=   1.2s\n",
      "0.933832138253788\n",
      "{'n_estimators': 62}\n",
      "0.9390739236393176\n"
     ]
    }
   ],
   "source": [
    "# Standard Scaler\n",
    "\n",
    "forest_s = RandomForestClassifier(random_state=13)\n",
    "reg_coef = sorted([i for i in range (1, 10, 3)] + [i for i in range(35, 65, 1)] + [20, 100, 200])\n",
    "tuned_parameters = [{'n_estimators': reg_coef}]\n",
    "nb_folds = 5\n",
    "grid_s = GridSearchCV(forest_s, tuned_parameters, cv=nb_folds, refit=True, verbose=3, scoring='f1')\n",
    "grid_s.fit(X_train_preprocessed_s, y_train)\n",
    "print(grid_s.best_score_)\n",
    "print(grid_s.best_params_)\n",
    "y_pred_s = grid_s.best_estimator_.predict(X_test_preprocessed_s)\n",
    "print(f1_score(y_test, y_pred_s, average='binary'))"
   ]
  },
  {
   "cell_type": "code",
   "execution_count": 330,
   "id": "3711d658",
   "metadata": {},
   "outputs": [
    {
     "name": "stdout",
     "output_type": "stream",
     "text": [
      "0.916463909164639\n"
     ]
    }
   ],
   "source": [
    "# Yeo-Johnson\n",
    "\n",
    "forest = RandomForestClassifier(random_state=13, n_estimators=62)\n",
    "forest.fit(X_train_preprocessed, y_train)\n",
    "print(f1_score(y_test, forest.predict(X_test_preprocessed), average='binary'))"
   ]
  },
  {
   "cell_type": "code",
   "execution_count": 331,
   "id": "73c48d33",
   "metadata": {},
   "outputs": [
    {
     "name": "stdout",
     "output_type": "stream",
     "text": [
      "0.9353796445880452\n"
     ]
    }
   ],
   "source": [
    "# Standard Scaler\n",
    "\n",
    "forest_s = RandomForestClassifier(random_state=13, n_estimators=38)\n",
    "forest_s.fit(X_train_preprocessed_s, y_train)\n",
    "print(f1_score(y_test, forest_s.predict(X_test_preprocessed_s), average='binary'))"
   ]
  },
  {
   "cell_type": "markdown",
   "id": "e6bf8638-7c60-4b36-9266-0dcc83bd2e8f",
   "metadata": {},
   "source": [
    "## Modèle final"
   ]
  },
  {
   "cell_type": "markdown",
   "id": "23fe7ea4-f2c3-4567-8184-9d73e3b98526",
   "metadata": {},
   "source": [
    "#### Question 15.a\n",
    "Visualisez les performances des différents modèles (et pré-traitements) que vous avez évalués sur le jeu de test."
   ]
  },
  {
   "cell_type": "markdown",
   "id": "e343d83f",
   "metadata": {},
   "source": [
    "Sur le jeu de test, on obtient les f-scores suivants :\n",
    "\n",
    "|                                                                          | Yeo-Johnson     | StandardScaler  |\n",
    "|--------------------------------------------------------------------------|-----------------|-----------------|\n",
    "| Toujours des positifs | 0.67 | 0.67 |\n",
    "| KNN <br> 1 voisin<br> 3 voisins<br>5 voisins                                                        |  <br>0.88 <br>0.87 <br>0.86 |  <br>0.91<br>0.90<br>0.90 |\n",
    "| LogisticRegression <br>     sans régularisation<br>avec un lasso<br>avec un ridge | <br>0.71<br>0.71<br>0.71            | <br>0.77<br>0.78<br>0.77          |\n",
    "| ForestClassifier <br>38 arbres<br>62 arbres                                               | <br>0.91<br>0.92            | <br>0.94<br>0.94            |"
   ]
  },
  {
   "cell_type": "markdown",
   "id": "133426fd-c186-4b43-b979-70215480efaf",
   "metadata": {},
   "source": [
    "#### Question 15.b\n",
    "Utilisez cette figure pour __sélectionner votre modèle favori__. Quel pré-traitement choisissez-vous ? Quel algorithme choisissez-vous, avec quel hyper-paramètre ? "
   ]
  },
  {
   "cell_type": "markdown",
   "id": "91128eae",
   "metadata": {},
   "source": [
    "Le modèle favori est la forêt aléatoire avec le prétraitement StandardScaler, avec un hyperparamètre 'n_estimators' de 62 arbres, en se basant sur le tableau ci-dessus, mais surtout à partir des résultats de la validation croisée sur le modèle de forêt aléatoire.\n",
    "\n",
    "En effet, en cas de contradiction, on choisit la valeur des hyperparamètres par validation croisée, plutôt que sur le seul jeu de test."
   ]
  },
  {
   "cell_type": "markdown",
   "id": "5ce64660-fb7a-4849-b59d-c6624fed6742",
   "metadata": {},
   "source": [
    "#### Question 16.a\n",
    "Chargez les données privées de `data/foret_prive.tsv` pour obtenir un array `X_private`. Le fichier suit la même syntaxe que `data/foret_public.tsv`, mais sans la colonne des étiquettes."
   ]
  },
  {
   "cell_type": "code",
   "execution_count": 332,
   "id": "229653f4-f509-4c99-b5c1-80617ab35b88",
   "metadata": {},
   "outputs": [],
   "source": [
    "df_private = pd.read_csv('data/foret_prive.tsv', delimiter='\\t') # lecture dataframe privé\n",
    "X_private = np.array(df_private) # Il n'y a pas de colonnes \"espèce\""
   ]
  },
  {
   "cell_type": "markdown",
   "id": "65d60735-a40d-48d7-869b-d337bcd95077",
   "metadata": {},
   "source": [
    "#### Question 16.b\n",
    "Appliquez le pré-traitement que vous avez choisi à l'intégralité du jeu de données public `X_public` pour obtenir `X_public_preprocessed`."
   ]
  },
  {
   "cell_type": "code",
   "execution_count": 333,
   "id": "bae0c4bb-a824-4263-b386-e155e009ca40",
   "metadata": {},
   "outputs": [],
   "source": [
    "s_scaler = preprocessing.StandardScaler()\n",
    "s_scaler.fit(X_public)\n",
    "X_public_preprocessed_s = s_scaler.transform(X_public)"
   ]
  },
  {
   "cell_type": "markdown",
   "id": "77c1fb7c-ffe7-470f-b58b-8041c9b10330",
   "metadata": {},
   "source": [
    "#### Question 16.c\n",
    "Appliquez à `X_private` le pré-traitement que vous avez choisi ; enregistrez le résultat dans `X_private_preprocessed`."
   ]
  },
  {
   "cell_type": "code",
   "execution_count": 334,
   "id": "254e1192-0182-402d-8d4d-70de64973407",
   "metadata": {},
   "outputs": [],
   "source": [
    "X_private_preprocessed_s = s_scaler.transform(X_private)"
   ]
  },
  {
   "cell_type": "markdown",
   "id": "ef4bb670-3f6d-4047-bc90-1fc978172854",
   "metadata": {},
   "source": [
    "#### Question 16.d\n",
    "Entraînez l'algorithme que vous avez sélectionné sur l'intégralité des données publiques `(X_public_processed, y_public)`. "
   ]
  },
  {
   "cell_type": "code",
   "execution_count": 335,
   "id": "d91647fe-70f5-49b2-8ef3-fb7e015be967",
   "metadata": {},
   "outputs": [
    {
     "data": {
      "text/plain": [
       "RandomForestClassifier(n_estimators=62, random_state=13)"
      ]
     },
     "execution_count": 335,
     "metadata": {},
     "output_type": "execute_result"
    }
   ],
   "source": [
    "forest_s = RandomForestClassifier(random_state=13, n_estimators=62)\n",
    "forest_s.fit(X_public_preprocessed_s, y_public)"
   ]
  },
  {
   "cell_type": "markdown",
   "id": "25e2c093-fa21-48ff-a0e6-6a747740edbc",
   "metadata": {},
   "source": [
    "#### Question 16.e\n",
    "Prédisez les étiquettes de `X_private_preprocessed` ; enregistrez le résultat dans un array `y_pred_final`"
   ]
  },
  {
   "cell_type": "code",
   "execution_count": 336,
   "id": "9107f388-d6ec-48cd-bff7-abf0712cb3b0",
   "metadata": {},
   "outputs": [],
   "source": [
    "y_pred_final = forest.predict(X_private_preprocessed_s)"
   ]
  },
  {
   "cell_type": "markdown",
   "id": "1f05b749-386e-460f-955d-c6e4d3852e13",
   "metadata": {},
   "source": [
    "#### Question 16.f\n",
    "Utilisez le code suivant pour créer le fichier de prédictions que vous rendrez. \n",
    "\n",
    "__Attention__ Si vous ouvrez ce fichier avec un programme externe type Microsoft Excel ou LibreOffice Calc pour le lire, il est possible que ce programme modifie le fichier sans que vous ne le réalisiez. Préférez utiliser une commande bash type `less` ou `cat` ou éditeur de texte simple ; ou alors assurez-vous de relancer la commande."
   ]
  },
  {
   "cell_type": "code",
   "execution_count": 337,
   "id": "8bd3d46b-ea54-4029-9742-c68719b25f29",
   "metadata": {},
   "outputs": [],
   "source": [
    "# Save array to file\n",
    "np.savetxt(\"test_file.tsv\", \n",
    "           y_pred_final,\n",
    "           fmt=('%d'), \n",
    "           header='Prediction',\n",
    "           delimiter='\\t', comments=\"\")"
   ]
  },
  {
   "cell_type": "markdown",
   "id": "ba074584-047b-4423-8cc5-1398a31d0bae",
   "metadata": {},
   "source": [
    "## Bonus"
   ]
  },
  {
   "cell_type": "markdown",
   "id": "744665a6-49fe-4d64-95a9-95e20dec9517",
   "metadata": {},
   "source": [
    "1. En alternative au F-score, utilisez des courbes ROC (et l'aire sous ces courbes) pour comparer vos modèles. Attention à utiliser les méthodes `predict_proba()` plutôt que `predict()` pour obtenir des scores non-seuillés plutôt que des prédictions binaires. Documentation pertinente : https://scikit-learn.org/stable/modules/generated/sklearn.metrics.plot_roc_curve.html et  https://scikit-learn.org/stable/modules/generated/sklearn.metrics.roc_auc_score.html.\n",
    "\n",
    "1. Explorez d'autres pré-traitements (comme par exemple le fait de réduire la dimension des données) et d'autres algorithmes d'apprentissage implémentés dans scikit-learn (par exemple SVM, perceptrons multi-couches) pour essayer d'améliorer vos prédictions et reprenez la question 15."
   ]
  },
  {
   "cell_type": "code",
   "execution_count": 338,
   "id": "4b1baa43",
   "metadata": {},
   "outputs": [],
   "source": [
    "from sklearn import metrics"
   ]
  },
  {
   "cell_type": "code",
   "execution_count": 341,
   "id": "d5cf09ac",
   "metadata": {},
   "outputs": [
    {
     "data": {
      "image/png": "[encoded data removed]",
      "text/plain": [
       "<Figure size 432x288 with 1 Axes>"
      ]
     },
     "metadata": {
      "needs_background": "light"
     },
     "output_type": "display_data"
    },
    {
     "data": {
      "image/png": "[encoded data removed]",
      "text/plain": [
       "<Figure size 432x288 with 1 Axes>"
      ]
     },
     "metadata": {
      "needs_background": "light"
     },
     "output_type": "display_data"
    }
   ],
   "source": [
    "# Courbes ROC pour Yeo-Johnson\n",
    "log_reg = LogisticRegression(penalty='l1', max_iter=10000, solver='saga') # default C\n",
    "log_reg.fit(X_train_preprocessed, y_train)\n",
    "forest = RandomForestClassifier(random_state=13, n_estimators=38)\n",
    "forest.fit(X_train_preprocessed, y_train)\n",
    "metrics.plot_roc_curve(forest, X_test_preprocessed, y_test, response_method='predict_proba')  \n",
    "metrics.plot_roc_curve(log_reg, X_test_preprocessed, y_test, response_method='predict_proba');"
   ]
  },
  {
   "cell_type": "code",
   "execution_count": 342,
   "id": "ad4f7f5a",
   "metadata": {},
   "outputs": [
    {
     "data": {
      "text/plain": [
       "0.9723319444444444"
      ]
     },
     "execution_count": 342,
     "metadata": {},
     "output_type": "execute_result"
    }
   ],
   "source": [
    "# Valeur AUC\n",
    "metrics.roc_auc_score(y_test, forest.predict_proba(X_test_preprocessed)[:,1])"
   ]
  },
  {
   "cell_type": "code",
   "execution_count": 343,
   "id": "70f0cbbe",
   "metadata": {},
   "outputs": [
    {
     "name": "stdout",
     "output_type": "stream",
     "text": [
      "(4800, 10)\n",
      "(4800, 2)\n",
      "[0.31701065 0.18264998]\n"
     ]
    }
   ],
   "source": [
    "from sklearn import decomposition\n",
    "\n",
    "# sélectionner variables, éliminer les variables non corrélées a priori\n",
    "\n",
    "pca = decomposition.PCA(n_components=2)\n",
    "pca.fit(X_train_preprocessed)\n",
    "X_train_preprocessed_projected = pca.transform(X_train_preprocessed)\n",
    "X_test_preprocessed_projected = pca.transform(X_test_preprocessed)\n",
    "print(X_train_preprocessed.shape)\n",
    "print(X_train_preprocessed_projected.shape)\n",
    "print(pca.explained_variance_ratio_)\n",
    "# interprétation, cf pc 2 ?"
   ]
  },
  {
   "cell_type": "code",
   "execution_count": 344,
   "id": "2f428b9d",
   "metadata": {},
   "outputs": [
    {
     "name": "stdout",
     "output_type": "stream",
     "text": [
      "Fitting 5 folds for each of 36 candidates, totalling 180 fits\n",
      "[CV 1/5] END ....................n_estimators=1;, score=0.567 total time=   0.0s\n",
      "[CV 2/5] END ....................n_estimators=1;, score=0.577 total time=   0.0s\n",
      "[CV 3/5] END ....................n_estimators=1;, score=0.565 total time=   0.0s\n",
      "[CV 4/5] END ....................n_estimators=1;, score=0.562 total time=   0.0s\n",
      "[CV 5/5] END ....................n_estimators=1;, score=0.574 total time=   0.0s\n",
      "[CV 1/5] END ....................n_estimators=4;, score=0.536 total time=   0.0s\n",
      "[CV 2/5] END ....................n_estimators=4;, score=0.520 total time=   0.0s\n",
      "[CV 3/5] END ....................n_estimators=4;, score=0.537 total time=   0.0s\n",
      "[CV 4/5] END ....................n_estimators=4;, score=0.506 total time=   0.0s\n",
      "[CV 5/5] END ....................n_estimators=4;, score=0.537 total time=   0.0s\n",
      "[CV 1/5] END ....................n_estimators=7;, score=0.584 total time=   0.0s\n",
      "[CV 2/5] END ....................n_estimators=7;, score=0.587 total time=   0.0s\n",
      "[CV 3/5] END ....................n_estimators=7;, score=0.586 total time=   0.0s\n",
      "[CV 4/5] END ....................n_estimators=7;, score=0.586 total time=   0.0s\n",
      "[CV 5/5] END ....................n_estimators=7;, score=0.592 total time=   0.0s\n",
      "[CV 1/5] END ...................n_estimators=20;, score=0.569 total time=   0.0s\n",
      "[CV 2/5] END ...................n_estimators=20;, score=0.574 total time=   0.0s\n",
      "[CV 3/5] END ...................n_estimators=20;, score=0.603 total time=   0.0s\n",
      "[CV 4/5] END ...................n_estimators=20;, score=0.557 total time=   0.1s\n",
      "[CV 5/5] END ...................n_estimators=20;, score=0.563 total time=   0.0s\n",
      "[CV 1/5] END ...................n_estimators=35;, score=0.588 total time=   0.1s\n",
      "[CV 2/5] END ...................n_estimators=35;, score=0.596 total time=   0.1s\n",
      "[CV 3/5] END ...................n_estimators=35;, score=0.617 total time=   0.1s\n",
      "[CV 4/5] END ...................n_estimators=35;, score=0.580 total time=   0.2s\n",
      "[CV 5/5] END ...................n_estimators=35;, score=0.594 total time=   0.1s\n",
      "[CV 1/5] END ...................n_estimators=36;, score=0.586 total time=   0.1s\n",
      "[CV 2/5] END ...................n_estimators=36;, score=0.584 total time=   0.1s\n",
      "[CV 3/5] END ...................n_estimators=36;, score=0.607 total time=   0.1s\n",
      "[CV 4/5] END ...................n_estimators=36;, score=0.574 total time=   0.1s\n",
      "[CV 5/5] END ...................n_estimators=36;, score=0.587 total time=   0.3s\n",
      "[CV 1/5] END ...................n_estimators=37;, score=0.590 total time=   0.2s\n",
      "[CV 2/5] END ...................n_estimators=37;, score=0.598 total time=   0.1s\n",
      "[CV 3/5] END ...................n_estimators=37;, score=0.620 total time=   0.1s\n",
      "[CV 4/5] END ...................n_estimators=37;, score=0.577 total time=   0.2s\n",
      "[CV 5/5] END ...................n_estimators=37;, score=0.596 total time=   0.2s\n",
      "[CV 1/5] END ...................n_estimators=38;, score=0.591 total time=   0.1s\n",
      "[CV 2/5] END ...................n_estimators=38;, score=0.582 total time=   0.1s\n",
      "[CV 3/5] END ...................n_estimators=38;, score=0.611 total time=   0.1s\n",
      "[CV 4/5] END ...................n_estimators=38;, score=0.570 total time=   0.3s\n",
      "[CV 5/5] END ...................n_estimators=38;, score=0.588 total time=   0.2s\n",
      "[CV 1/5] END ...................n_estimators=39;, score=0.591 total time=   0.2s\n",
      "[CV 2/5] END ...................n_estimators=39;, score=0.595 total time=   0.1s\n",
      "[CV 3/5] END ...................n_estimators=39;, score=0.616 total time=   0.2s\n",
      "[CV 4/5] END ...................n_estimators=39;, score=0.574 total time=   0.2s\n",
      "[CV 5/5] END ...................n_estimators=39;, score=0.602 total time=   0.2s\n",
      "[CV 1/5] END ...................n_estimators=40;, score=0.588 total time=   0.1s\n",
      "[CV 2/5] END ...................n_estimators=40;, score=0.589 total time=   0.1s\n",
      "[CV 3/5] END ...................n_estimators=40;, score=0.613 total time=   0.1s\n",
      "[CV 4/5] END ...................n_estimators=40;, score=0.563 total time=   0.1s\n",
      "[CV 5/5] END ...................n_estimators=40;, score=0.594 total time=   0.1s\n",
      "[CV 1/5] END ...................n_estimators=41;, score=0.589 total time=   0.1s\n",
      "[CV 2/5] END ...................n_estimators=41;, score=0.595 total time=   0.3s\n",
      "[CV 3/5] END ...................n_estimators=41;, score=0.618 total time=   0.1s\n",
      "[CV 4/5] END ...................n_estimators=41;, score=0.565 total time=   0.1s\n",
      "[CV 5/5] END ...................n_estimators=41;, score=0.601 total time=   0.1s\n",
      "[CV 1/5] END ...................n_estimators=42;, score=0.587 total time=   0.2s\n",
      "[CV 2/5] END ...................n_estimators=42;, score=0.583 total time=   0.3s\n",
      "[CV 3/5] END ...................n_estimators=42;, score=0.613 total time=   0.1s\n",
      "[CV 4/5] END ...................n_estimators=42;, score=0.559 total time=   0.2s\n",
      "[CV 5/5] END ...................n_estimators=42;, score=0.587 total time=   0.2s\n",
      "[CV 1/5] END ...................n_estimators=43;, score=0.587 total time=   0.1s\n",
      "[CV 2/5] END ...................n_estimators=43;, score=0.592 total time=   0.1s\n",
      "[CV 3/5] END ...................n_estimators=43;, score=0.623 total time=   0.2s\n",
      "[CV 4/5] END ...................n_estimators=43;, score=0.568 total time=   0.2s\n",
      "[CV 5/5] END ...................n_estimators=43;, score=0.592 total time=   0.1s\n",
      "[CV 1/5] END ...................n_estimators=44;, score=0.589 total time=   0.1s\n",
      "[CV 2/5] END ...................n_estimators=44;, score=0.588 total time=   0.2s\n",
      "[CV 3/5] END ...................n_estimators=44;, score=0.619 total time=   0.2s\n",
      "[CV 4/5] END ...................n_estimators=44;, score=0.565 total time=   0.2s\n",
      "[CV 5/5] END ...................n_estimators=44;, score=0.592 total time=   0.3s\n",
      "[CV 1/5] END ...................n_estimators=45;, score=0.591 total time=   0.1s\n",
      "[CV 2/5] END ...................n_estimators=45;, score=0.591 total time=   0.2s\n",
      "[CV 3/5] END ...................n_estimators=45;, score=0.619 total time=   0.2s\n",
      "[CV 4/5] END ...................n_estimators=45;, score=0.571 total time=   0.2s\n",
      "[CV 5/5] END ...................n_estimators=45;, score=0.598 total time=   0.2s\n",
      "[CV 1/5] END ...................n_estimators=46;, score=0.586 total time=   0.3s\n",
      "[CV 2/5] END ...................n_estimators=46;, score=0.584 total time=   0.2s\n",
      "[CV 3/5] END ...................n_estimators=46;, score=0.618 total time=   0.2s\n",
      "[CV 4/5] END ...................n_estimators=46;, score=0.567 total time=   0.4s\n",
      "[CV 5/5] END ...................n_estimators=46;, score=0.591 total time=   0.4s\n",
      "[CV 1/5] END ...................n_estimators=47;, score=0.588 total time=   0.3s\n",
      "[CV 2/5] END ...................n_estimators=47;, score=0.587 total time=   0.2s\n",
      "[CV 3/5] END ...................n_estimators=47;, score=0.625 total time=   0.2s\n",
      "[CV 4/5] END ...................n_estimators=47;, score=0.566 total time=   0.2s\n",
      "[CV 5/5] END ...................n_estimators=47;, score=0.598 total time=   0.2s\n",
      "[CV 1/5] END ...................n_estimators=48;, score=0.591 total time=   0.2s\n",
      "[CV 2/5] END ...................n_estimators=48;, score=0.584 total time=   0.1s\n",
      "[CV 3/5] END ...................n_estimators=48;, score=0.619 total time=   0.2s\n",
      "[CV 4/5] END ...................n_estimators=48;, score=0.574 total time=   0.2s\n",
      "[CV 5/5] END ...................n_estimators=48;, score=0.599 total time=   0.1s\n",
      "[CV 1/5] END ...................n_estimators=49;, score=0.592 total time=   0.1s\n",
      "[CV 2/5] END ...................n_estimators=49;, score=0.583 total time=   0.2s\n",
      "[CV 3/5] END ...................n_estimators=49;, score=0.620 total time=   0.2s\n",
      "[CV 4/5] END ...................n_estimators=49;, score=0.574 total time=   0.1s\n",
      "[CV 5/5] END ...................n_estimators=49;, score=0.603 total time=   0.2s\n",
      "[CV 1/5] END ...................n_estimators=50;, score=0.587 total time=   0.1s\n",
      "[CV 2/5] END ...................n_estimators=50;, score=0.583 total time=   0.1s\n",
      "[CV 3/5] END ...................n_estimators=50;, score=0.622 total time=   0.2s\n",
      "[CV 4/5] END ...................n_estimators=50;, score=0.572 total time=   0.2s\n",
      "[CV 5/5] END ...................n_estimators=50;, score=0.599 total time=   0.2s\n",
      "[CV 1/5] END ...................n_estimators=51;, score=0.590 total time=   0.1s\n"
     ]
    },
    {
     "name": "stdout",
     "output_type": "stream",
     "text": [
      "[CV 2/5] END ...................n_estimators=51;, score=0.586 total time=   0.2s\n",
      "[CV 3/5] END ...................n_estimators=51;, score=0.623 total time=   0.2s\n",
      "[CV 4/5] END ...................n_estimators=51;, score=0.581 total time=   0.2s\n",
      "[CV 5/5] END ...................n_estimators=51;, score=0.600 total time=   0.2s\n",
      "[CV 1/5] END ...................n_estimators=52;, score=0.594 total time=   0.2s\n",
      "[CV 2/5] END ...................n_estimators=52;, score=0.588 total time=   0.2s\n",
      "[CV 3/5] END ...................n_estimators=52;, score=0.619 total time=   0.2s\n",
      "[CV 4/5] END ...................n_estimators=52;, score=0.580 total time=   0.2s\n",
      "[CV 5/5] END ...................n_estimators=52;, score=0.594 total time=   0.3s\n",
      "[CV 1/5] END ...................n_estimators=53;, score=0.595 total time=   0.2s\n",
      "[CV 2/5] END ...................n_estimators=53;, score=0.587 total time=   0.2s\n",
      "[CV 3/5] END ...................n_estimators=53;, score=0.619 total time=   0.2s\n",
      "[CV 4/5] END ...................n_estimators=53;, score=0.580 total time=   0.2s\n",
      "[CV 5/5] END ...................n_estimators=53;, score=0.600 total time=   0.2s\n",
      "[CV 1/5] END ...................n_estimators=54;, score=0.595 total time=   0.3s\n",
      "[CV 2/5] END ...................n_estimators=54;, score=0.583 total time=   0.2s\n",
      "[CV 3/5] END ...................n_estimators=54;, score=0.621 total time=   0.2s\n",
      "[CV 4/5] END ...................n_estimators=54;, score=0.578 total time=   0.2s\n",
      "[CV 5/5] END ...................n_estimators=54;, score=0.598 total time=   0.2s\n",
      "[CV 1/5] END ...................n_estimators=55;, score=0.594 total time=   0.2s\n",
      "[CV 2/5] END ...................n_estimators=55;, score=0.593 total time=   0.2s\n",
      "[CV 3/5] END ...................n_estimators=55;, score=0.623 total time=   0.2s\n",
      "[CV 4/5] END ...................n_estimators=55;, score=0.582 total time=   0.2s\n",
      "[CV 5/5] END ...................n_estimators=55;, score=0.606 total time=   0.2s\n",
      "[CV 1/5] END ...................n_estimators=56;, score=0.593 total time=   0.2s\n",
      "[CV 2/5] END ...................n_estimators=56;, score=0.588 total time=   0.3s\n",
      "[CV 3/5] END ...................n_estimators=56;, score=0.622 total time=   0.2s\n",
      "[CV 4/5] END ...................n_estimators=56;, score=0.579 total time=   0.2s\n",
      "[CV 5/5] END ...................n_estimators=56;, score=0.598 total time=   0.3s\n",
      "[CV 1/5] END ...................n_estimators=57;, score=0.597 total time=   0.2s\n",
      "[CV 2/5] END ...................n_estimators=57;, score=0.592 total time=   0.2s\n",
      "[CV 3/5] END ...................n_estimators=57;, score=0.622 total time=   0.2s\n",
      "[CV 4/5] END ...................n_estimators=57;, score=0.587 total time=   0.2s\n",
      "[CV 5/5] END ...................n_estimators=57;, score=0.602 total time=   0.2s\n",
      "[CV 1/5] END ...................n_estimators=58;, score=0.593 total time=   0.2s\n",
      "[CV 2/5] END ...................n_estimators=58;, score=0.585 total time=   0.2s\n",
      "[CV 3/5] END ...................n_estimators=58;, score=0.619 total time=   0.2s\n",
      "[CV 4/5] END ...................n_estimators=58;, score=0.584 total time=   0.2s\n",
      "[CV 5/5] END ...................n_estimators=58;, score=0.592 total time=   0.2s\n",
      "[CV 1/5] END ...................n_estimators=59;, score=0.594 total time=   0.2s\n",
      "[CV 2/5] END ...................n_estimators=59;, score=0.593 total time=   0.3s\n",
      "[CV 3/5] END ...................n_estimators=59;, score=0.625 total time=   0.3s\n",
      "[CV 4/5] END ...................n_estimators=59;, score=0.582 total time=   0.3s\n",
      "[CV 5/5] END ...................n_estimators=59;, score=0.595 total time=   0.2s\n",
      "[CV 1/5] END ...................n_estimators=60;, score=0.594 total time=   0.2s\n",
      "[CV 2/5] END ...................n_estimators=60;, score=0.589 total time=   0.2s\n",
      "[CV 3/5] END ...................n_estimators=60;, score=0.623 total time=   0.2s\n",
      "[CV 4/5] END ...................n_estimators=60;, score=0.577 total time=   0.2s\n",
      "[CV 5/5] END ...................n_estimators=60;, score=0.592 total time=   0.2s\n",
      "[CV 1/5] END ...................n_estimators=61;, score=0.598 total time=   0.2s\n",
      "[CV 2/5] END ...................n_estimators=61;, score=0.593 total time=   0.2s\n",
      "[CV 3/5] END ...................n_estimators=61;, score=0.622 total time=   0.2s\n",
      "[CV 4/5] END ...................n_estimators=61;, score=0.580 total time=   0.2s\n",
      "[CV 5/5] END ...................n_estimators=61;, score=0.605 total time=   0.3s\n",
      "[CV 1/5] END ...................n_estimators=62;, score=0.596 total time=   0.2s\n",
      "[CV 2/5] END ...................n_estimators=62;, score=0.588 total time=   0.2s\n",
      "[CV 3/5] END ...................n_estimators=62;, score=0.618 total time=   0.2s\n",
      "[CV 4/5] END ...................n_estimators=62;, score=0.576 total time=   0.2s\n",
      "[CV 5/5] END ...................n_estimators=62;, score=0.598 total time=   0.3s\n",
      "[CV 1/5] END ...................n_estimators=63;, score=0.599 total time=   0.3s\n",
      "[CV 2/5] END ...................n_estimators=63;, score=0.592 total time=   0.3s\n",
      "[CV 3/5] END ...................n_estimators=63;, score=0.618 total time=   0.3s\n",
      "[CV 4/5] END ...................n_estimators=63;, score=0.581 total time=   0.3s\n",
      "[CV 5/5] END ...................n_estimators=63;, score=0.596 total time=   0.5s\n",
      "[CV 1/5] END ...................n_estimators=64;, score=0.601 total time=   0.2s\n",
      "[CV 2/5] END ...................n_estimators=64;, score=0.592 total time=   0.3s\n",
      "[CV 3/5] END ...................n_estimators=64;, score=0.613 total time=   0.3s\n",
      "[CV 4/5] END ...................n_estimators=64;, score=0.581 total time=   0.3s\n",
      "[CV 5/5] END ...................n_estimators=64;, score=0.591 total time=   0.3s\n",
      "[CV 1/5] END ..................n_estimators=100;, score=0.599 total time=   0.7s\n",
      "[CV 2/5] END ..................n_estimators=100;, score=0.587 total time=   0.8s\n",
      "[CV 3/5] END ..................n_estimators=100;, score=0.620 total time=   0.7s\n",
      "[CV 4/5] END ..................n_estimators=100;, score=0.578 total time=   0.5s\n",
      "[CV 5/5] END ..................n_estimators=100;, score=0.596 total time=   0.5s\n",
      "[CV 1/5] END ..................n_estimators=200;, score=0.609 total time=   1.5s\n",
      "[CV 2/5] END ..................n_estimators=200;, score=0.595 total time=   1.5s\n",
      "[CV 3/5] END ..................n_estimators=200;, score=0.613 total time=   1.3s\n",
      "[CV 4/5] END ..................n_estimators=200;, score=0.589 total time=   1.0s\n",
      "[CV 5/5] END ..................n_estimators=200;, score=0.602 total time=   1.0s\n",
      "0.6014904627499341\n",
      "{'n_estimators': 200}\n",
      "0.5902480752780154\n"
     ]
    }
   ],
   "source": [
    "forest2 = RandomForestClassifier(random_state=13)\n",
    "\n",
    "grid = GridSearchCV(forest2, tuned_parameters, cv=nb_folds, refit=True, verbose=3, scoring='f1')\n",
    "grid.fit(X_train_preprocessed_projected, y_train)\n",
    "scores = grid.cv_results_['mean_test_score']\n",
    "print(grid.best_score_)\n",
    "print(grid.best_params_)\n",
    "y_pred = grid.best_estimator_.fit(X_train_preprocessed_projected, y_train).predict(X_test_preprocessed_projected)\n",
    "print(f1_score(y_test, y_pred, average='binary'))\n",
    "\n",
    "# aussi hyperparamètre nb projection à évaluer ?"
   ]
  },
  {
   "cell_type": "code",
   "execution_count": 345,
   "id": "05b94785",
   "metadata": {
    "scrolled": false
   },
   "outputs": [
    {
     "name": "stdout",
     "output_type": "stream",
     "text": [
      "0.6765578635014837\n",
      "0.8668885191347754\n"
     ]
    }
   ],
   "source": [
    "# Perceptron\n",
    "\n",
    "from sklearn.linear_model import Perceptron\n",
    "from sklearn.neural_network import MLPClassifier\n",
    "\n",
    "perceptron = Perceptron(tol=1e-3, random_state=0)\n",
    "perceptron.fit(X_train_preprocessed, y_train)\n",
    "print(f1_score(y_test, perceptron.predict(X_test_preprocessed), average='binary'))\n",
    "\n",
    "# Comparaison hasard ?\n",
    "\n",
    "perceptron_ml = MLPClassifier(random_state=13, max_iter=10000).fit(X_train_preprocessed, y_train)\n",
    "print(f1_score(y_test, perceptron_ml.predict(X_test_preprocessed), average='binary'))\n",
    "\n",
    "# optimiser comment ? lapha ? nb de ocuche ?... random number ?"
   ]
  },
  {
   "cell_type": "code",
   "execution_count": 346,
   "id": "6fec2268",
   "metadata": {},
   "outputs": [
    {
     "name": "stdout",
     "output_type": "stream",
     "text": [
      "0.7987567987567987\n"
     ]
    }
   ],
   "source": [
    "from sklearn import svm\n",
    "\n",
    "svc_model = svm.SVC()\n",
    "svc_model.fit(X_train_preprocessed, y_train)\n",
    "print(f1_score(y_test, svc_model.predict(X_test_preprocessed), average='binary'))\n",
    "\n",
    "# aucun modèle mieux ?"
   ]
  },
  {
   "cell_type": "code",
   "execution_count": null,
   "id": "0747990f",
   "metadata": {},
   "outputs": [],
   "source": []
  },
  {
   "cell_type": "code",
   "execution_count": null,
   "id": "bdc82af1",
   "metadata": {},
   "outputs": [],
   "source": []
  }
 ],
 "metadata": {
  "kernelspec": {
   "display_name": "Python 3",
   "language": "python",
   "name": "python3"
  },
  "language_info": {
   "codemirror_mode": {
    "name": "ipython",
    "version": 3
   },
   "file_extension": ".py",
   "mimetype": "text/x-python",
   "name": "python",
   "nbconvert_exporter": "python",
   "pygments_lexer": "ipython3",
   "version": "3.9.4"
  },
  "toc": {
   "base_numbering": 1,
   "nav_menu": {},
   "number_sections": true,
   "sideBar": true,
   "skip_h1_title": false,
   "title_cell": "Table of Contents",
   "title_sidebar": "Contents",
   "toc_cell": false,
   "toc_position": {},
   "toc_section_display": true,
   "toc_window_display": false
  }
 },
 "nbformat": 4,
 "nbformat_minor": 5
}
